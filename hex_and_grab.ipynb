{
 "cells": [
  {
   "cell_type": "code",
   "execution_count": null,
   "metadata": {},
   "outputs": [],
   "source": []
  },
  {
   "cell_type": "code",
   "execution_count": 93,
   "metadata": {},
   "outputs": [],
   "source": [
    "from numpy import pi, cos, sin, sqrt\n",
    "import matplotlib.pyplot as plt\n",
    "import pandas as pd\n",
    "import geopandas as gpd\n",
    "from shapely.geometry import Polygon, Point\n",
    "import pandas as pd\n",
    "from math import modf\n",
    "import json\n",
    "from random import uniform\n",
    "import requests\n",
    "from numpy import mean\n",
    "\n",
    "hex_width = 50\n",
    "city_radius = 0.20 # in lat-long degrees\n",
    "\n",
    "hex_size = city_radius/(2*hex_width)\n",
    "\n",
    "washington_y = 38.904978\n",
    "washington_x = -77.039658\n",
    "\n",
    "atlanta_y = 84.3880\n",
    "atlanta_x = -33.7490\n"
   ]
  },
  {
   "cell_type": "code",
   "execution_count": 687,
   "metadata": {},
   "outputs": [],
   "source": [
    "# df = gpd.GeoDataFrame(pd.read_pickle('../transit/points_pickle'),crs={'init' :'epsg:3857'})"
   ]
  },
  {
   "cell_type": "code",
   "execution_count": 688,
   "metadata": {},
   "outputs": [],
   "source": [
    "def axial_to_cube(x,y):\n",
    "    z = -x -y\n",
    "    return (x,y,z)"
   ]
  },
  {
   "cell_type": "code",
   "execution_count": null,
   "metadata": {},
   "outputs": [],
   "source": [
    "key_path = \"C:\\\\Users\\\\John\\\\Documents\\\\notGitHub\\\\API_key.txt\"\n",
    "key_file = open(key_path, 'r')\n",
    "api_key = key_file.readline()"
   ]
  },
  {
   "cell_type": "code",
   "execution_count": 26,
   "metadata": {},
   "outputs": [],
   "source": [
    "sample = pd.read_pickle(\"C:\\\\Users\\\\John\\\\Documents\\\\notGitHub\\\\partials\\\\10522\")['Info'].head(1).values"
   ]
  },
  {
   "cell_type": "code",
   "execution_count": 51,
   "metadata": {},
   "outputs": [],
   "source": [
    "key_path = \"C:\\\\Users\\\\John\\\\Documents\\\\notGitHub\\\\API_key.txt\"\n",
    "key_file = open(key_path, 'r')\n",
    "api_key = key_file.readline()"
   ]
  },
  {
   "cell_type": "code",
   "execution_count": 22,
   "metadata": {},
   "outputs": [],
   "source": [
    "string1 = \"https://mobilityscore.transitscreen.io/api\"\n",
    "string2 = \"/v1/locations.json?coordinates=\"\n",
    "string3 = \"&key=\"\n",
    "string4 = \"&geojson=true\"\n",
    "\n",
    "def api_string(coords):\n",
    "    new_string = string1+string2+coords+string3+api_key+string4\n",
    "    return new_string"
   ]
  },
  {
   "cell_type": "code",
   "execution_count": 84,
   "metadata": {},
   "outputs": [],
   "source": [
    "\n",
    "\n",
    "\"\"\"function hex_to_pixel(hex):\n",
    "    x = size * 3/2 * hex.q\n",
    "    y = size * sqrt(3) * (hex.r + hex.q/2)\n",
    "    return Point(x, y)\"\"\"\n",
    "\n",
    "\n",
    "\n",
    "class hexagon:\n",
    "    def __init__(self, coords, city_center=(38.904978, -77.039658), size=hex_size):\n",
    "        # there will be no coordinate reference system at the \n",
    "        # hex level, that needs to be handled by the grid\n",
    "        self.x_loc = float(coords[0])\n",
    "        self.y_loc = float(coords[1])\n",
    "        self.z_loc = float(coords[2])\n",
    "        self.city_center = city_center\n",
    "        self.size = size\n",
    "        self.self_center()\n",
    "        self.create_vertices()\n",
    "        self.points=[]\n",
    "        self.scores=[]\n",
    "        self.bikeshares=[]\n",
    "        self.carshares=[]\n",
    "        self.masstransits=[]\n",
    "        self.ridehailings=[]\n",
    "    def self_center(self):\n",
    "        self.x_center = self.size * 1.5 * self.x_loc\n",
    "        self.y_center = self.size * sqrt(3) * (self.y_loc + self.x_loc/2)        \n",
    "    def create_vertices(self):\n",
    "        # I am only interested in making \"flat top\" layouts\n",
    "        self.vertices = tuple(self.vertex(n) for n in range(6))\n",
    "    def vertex(self, n):\n",
    "        angle = n*pi/3\n",
    "        i = self.size*cos(angle) + self.x_center + self.city_center[1]\n",
    "        j = self.size*sin(angle) + self.y_center + self.city_center[0]\n",
    "        return(i,j)\n",
    "    \n",
    "    def random_points(self, n):\n",
    "        for i in range(n):\n",
    "            angle = uniform(0,2*pi)\n",
    "            distance = uniform(0,self.size*0.9)\n",
    "            self.points.append(\n",
    "                str(distance*cos(angle)+self.city_center[0])+\n",
    "                \",\"+\n",
    "                str(distance*sin(angle)+self.city_center[1]))\n",
    "            \n",
    "    def api_scrape(self):\n",
    "        for coord in self.points:\n",
    "            request_string = api_string(coord)\n",
    "            result = requests.get(request_string)\n",
    "            \n",
    "            self.scores.append(result.json()['data']['mobilityScore']['score'])\n",
    "            breakdown = result.json()['data']['mobilityScore']['scoreBreakdown']\n",
    "            self.bikeshares.append(float(breakdown['bikeshare'].strip('%'))/100.0)\n",
    "            self.carshares.append(float(breakdown['carshare'].strip('%'))/100.0)\n",
    "            self.masstransits.append(float(breakdown['masstransit'].strip('%'))/100.0)\n",
    "            self.ridehailings.append(float(breakdown['ridehailing'].strip('%'))/100.0)\n",
    "            \n",
    "        self.score = mean(self.scores)\n",
    "        self.bikeshare = mean(self.bikeshares)\n",
    "        self.carshare = mean(self.carshares)\n",
    "        self.masstransit = mean(self.masstransits)\n",
    "        self.ridehailing = mean(self.ridehailings)"
   ]
  },
  {
   "cell_type": "code",
   "execution_count": 85,
   "metadata": {},
   "outputs": [],
   "source": [
    "hex = hexagon((0,0,0))\n",
    "hex.random_points(5)\n",
    "hex.points\n",
    "hex.api_scrape()"
   ]
  },
  {
   "cell_type": "code",
   "execution_count": 86,
   "metadata": {},
   "outputs": [
    {
     "data": {
      "text/plain": [
       "(99.0, [0.07, 0.11, 0.12, 0.08, 0.1], 0.022, 0.7619999999999999, 0.12)"
      ]
     },
     "execution_count": 86,
     "metadata": {},
     "output_type": "execute_result"
    }
   ],
   "source": [
    "hex.score, hex.bikeshares, hex.carshare, hex.masstransit, hex.ridehailing"
   ]
  },
  {
   "cell_type": "code",
   "execution_count": 699,
   "metadata": {},
   "outputs": [
    {
     "data": {
      "text/plain": [
       "([-76.975, -76.9875, -77.0125, -77.025, -77.0125, -76.9875],\n",
       " [39.0,\n",
       "  39.02165063509461,\n",
       "  39.02165063509461,\n",
       "  39.0,\n",
       "  38.97834936490539,\n",
       "  38.97834936490539])"
      ]
     },
     "execution_count": 699,
     "metadata": {},
     "output_type": "execute_result"
    }
   ],
   "source": [
    "\n",
    "\n",
    "def xy_generator(center,grid,size):\n",
    "    cx = grid[0] * 1.5 * size + center[1] # using lat-long convention for the city centers so x is the second value in center but not grid\n",
    "    cy = size * sqrt(3) * ( grid[1] + grid[0]/2 ) + center[0]\n",
    "    x=[]\n",
    "    y=[]\n",
    "    \n",
    "    for n in range(6):\n",
    "        angle=n*pi/3\n",
    "        x.append(size*cos(angle)+cx)\n",
    "        y.append(size*sin(angle)+cy)\n",
    "    return (x,y)\n",
    "\n",
    "xy_generator((39,-77),(0,0),0.025)\n",
    "\n"
   ]
  },
  {
   "cell_type": "code",
   "execution_count": 97,
   "metadata": {},
   "outputs": [
    {
     "data": {
      "text/html": [
       "<div>\n",
       "<style scoped>\n",
       "    .dataframe tbody tr th:only-of-type {\n",
       "        vertical-align: middle;\n",
       "    }\n",
       "\n",
       "    .dataframe tbody tr th {\n",
       "        vertical-align: top;\n",
       "    }\n",
       "\n",
       "    .dataframe thead th {\n",
       "        text-align: right;\n",
       "    }\n",
       "</style>\n",
       "<table border=\"1\" class=\"dataframe\">\n",
       "  <thead>\n",
       "    <tr style=\"text-align: right;\">\n",
       "      <th></th>\n",
       "      <th>hexagon</th>\n",
       "      <th>radius</th>\n",
       "      <th>y</th>\n",
       "      <th>x</th>\n",
       "    </tr>\n",
       "  </thead>\n",
       "  <tbody>\n",
       "    <tr>\n",
       "      <th>0</th>\n",
       "      <td>(0, 0, 0)</td>\n",
       "      <td>0</td>\n",
       "      <td>[84.388, 84.38973205080758, 84.38973205080758,...</td>\n",
       "      <td>[-33.747, -33.748000000000005, -33.75, -33.751...</td>\n",
       "    </tr>\n",
       "    <tr>\n",
       "      <th>1</th>\n",
       "      <td>(1, -1, 0)</td>\n",
       "      <td>1</td>\n",
       "      <td>[84.38626794919243, 84.388, 84.388, 84.3862679...</td>\n",
       "      <td>[-33.744, -33.745000000000005, -33.747, -33.74...</td>\n",
       "    </tr>\n",
       "    <tr>\n",
       "      <th>2</th>\n",
       "      <td>(-1, 0, 1)</td>\n",
       "      <td>1</td>\n",
       "      <td>[84.38626794919243, 84.388, 84.388, 84.3862679...</td>\n",
       "      <td>[-33.75, -33.751000000000005, -33.753, -33.754...</td>\n",
       "    </tr>\n",
       "    <tr>\n",
       "      <th>3</th>\n",
       "      <td>(0, 1, -1)</td>\n",
       "      <td>1</td>\n",
       "      <td>[84.39146410161514, 84.39319615242272, 84.3931...</td>\n",
       "      <td>[-33.747, -33.748000000000005, -33.75, -33.751...</td>\n",
       "    </tr>\n",
       "    <tr>\n",
       "      <th>4</th>\n",
       "      <td>(-1, 1, 0)</td>\n",
       "      <td>1</td>\n",
       "      <td>[84.38973205080758, 84.39146410161516, 84.3914...</td>\n",
       "      <td>[-33.75, -33.751000000000005, -33.753, -33.754...</td>\n",
       "    </tr>\n",
       "  </tbody>\n",
       "</table>\n",
       "</div>"
      ],
      "text/plain": [
       "      hexagon  radius                                                  y  \\\n",
       "0   (0, 0, 0)       0  [84.388, 84.38973205080758, 84.38973205080758,...   \n",
       "1  (1, -1, 0)       1  [84.38626794919243, 84.388, 84.388, 84.3862679...   \n",
       "2  (-1, 0, 1)       1  [84.38626794919243, 84.388, 84.388, 84.3862679...   \n",
       "3  (0, 1, -1)       1  [84.39146410161514, 84.39319615242272, 84.3931...   \n",
       "4  (-1, 1, 0)       1  [84.38973205080758, 84.39146410161516, 84.3914...   \n",
       "\n",
       "                                                   x  \n",
       "0  [-33.747, -33.748000000000005, -33.75, -33.751...  \n",
       "1  [-33.744, -33.745000000000005, -33.747, -33.74...  \n",
       "2  [-33.75, -33.751000000000005, -33.753, -33.754...  \n",
       "3  [-33.747, -33.748000000000005, -33.75, -33.751...  \n",
       "4  [-33.75, -33.751000000000005, -33.753, -33.754...  "
      ]
     },
     "execution_count": 97,
     "metadata": {},
     "output_type": "execute_result"
    }
   ],
   "source": [
    "from tqdm import tqdm\n",
    "\n",
    "class grid_axial:\n",
    "    def __init__(self, width, size=0.0025, coordinates = (38.904978, -77.039658)):\n",
    "        self.width=width\n",
    "        self.size=size\n",
    "        self.coordinates = coordinates\n",
    "        self.hex_dataframe_creator()\n",
    "    def set_crs(self, crs):\n",
    "        pass\n",
    "    def make_ring(self,n):\n",
    "        ring = []\n",
    "        for m in range(1,n+1):\n",
    "            ring.append(((n,-m,-n+m),m))\n",
    "            ring.append(((-m,-n+m,n),m))\n",
    "            ring.append(((-n+m,n,-m),m))\n",
    "            ring.append(((-n,m, n-m),m))\n",
    "            ring.append(((m,n-m,-n),m))\n",
    "            ring.append(((n-m,-n,m),m))\n",
    "        return ring\n",
    "    \n",
    "    def fill_grid(self):\n",
    "        hex_list = [((0,0,0),0)]\n",
    "        for n in range(1,self.width+1):\n",
    "            hex_list+=self.make_ring(n)\n",
    "        return hex_list\n",
    "        \n",
    "    def y_generator(self, grid):\n",
    "        center = self.coordinates\n",
    "        size = self.size\n",
    "        cy = size * sqrt(3) * ( grid[1] + grid[0]/2 ) + center[0]\n",
    "        # using lat-long convention for the city centers so x is the second value in center but not grid\n",
    "        y=[]\n",
    "        for n in range(6):\n",
    "            angle=n*pi/3\n",
    "            y.append(size*sin(angle)+cy)\n",
    "        return y\n",
    "    \n",
    "    def x_generator(self,grid):\n",
    "        center = self.coordinates\n",
    "        size = self.size\n",
    "        cx = 1.5 * float(grid[0]) * size + center[1] \n",
    "        # using lat-long convention for the city centers so x is the second value in center but not grid\n",
    "        x=[]\n",
    "\n",
    "        for n in range(6):\n",
    "            angle=n*pi/3\n",
    "            x.append(size*cos(angle)+cx)\n",
    "        return x\n",
    "    \n",
    "    def hex_dataframe_creator(self):\n",
    "        self.hexes = gpd.GeoDataFrame(self.fill_grid(), columns = ['hexagon','radius'])\n",
    "        self.hexes['y'] = self.hexes.hexagon.apply(self.y_generator)\n",
    "        self.hexes['x'] = self.hexes.hexagon.apply(self.x_generator)\n",
    "        \n",
    "    def check_randoms(self,n):\n",
    "        self.polygons = []\n",
    "        hex_list = self.hexes['hexagon'].values\n",
    "        for next in tqdm(hex_list):\n",
    "            hex = hexagon(next, self.coordinates, self.size)\n",
    "            hex.random_points(n)\n",
    "            hex.api_scrape()\n",
    "            self.polygons.append(hex)\n",
    "                          \n",
    "                \n",
    "            \n",
    "        \n",
    "\n",
    "\n",
    "        \n",
    "atlanta = grid_axial(hex_width,hex_size, coordinates=(atlanta_y,atlanta_x))\n",
    "atlanta.hexes.head()"
   ]
  },
  {
   "cell_type": "code",
   "execution_count": null,
   "metadata": {},
   "outputs": [
    {
     "name": "stderr",
     "output_type": "stream",
     "text": [
      "  8%|█████▊                                                                       | 575/7651 [14:47<3:02:06,  1.54s/it]"
     ]
    }
   ],
   "source": [
    "atlanta.check_randoms(5)"
   ]
  },
  {
   "cell_type": "code",
   "execution_count": 701,
   "metadata": {},
   "outputs": [],
   "source": [
    "def hex_round(x,y):\n",
    "    z = -x -y\n",
    "    x_d, x = modf(x)\n",
    "    y_d, y = modf(y)\n",
    "    z_d, z = modf(z)\n",
    "    \n",
    "    if x_d>y_d and x_d>z_d:\n",
    "        x = -y-z\n",
    "    elif y_d>z_d:\n",
    "        y = -x-z\n",
    "    else:\n",
    "        z=-x-y\n",
    "        \n",
    "    return (int(x),int(y),int(z))"
   ]
  },
  {
   "cell_type": "code",
   "execution_count": 702,
   "metadata": {},
   "outputs": [],
   "source": [
    "ssq = sqrt(3)/3\n",
    "\n",
    "def point_loc_to_hex_loc(x_h, y_h, size):\n",
    "    x = (x_h * 2/3)/ size\n",
    "    y = ((-x_h/3) + (ssq * y_h)) / size\n",
    "    return hex_round(x,y)\n"
   ]
  },
  {
   "cell_type": "code",
   "execution_count": 703,
   "metadata": {},
   "outputs": [],
   "source": [
    "def hex_center(x_row, y_row, size):\n",
    "    x = size * 3/2 * x_row\n",
    "    y = size * (3**0.5) * (y_row + x_row/2)\n",
    "    return x, y"
   ]
  },
  {
   "cell_type": "code",
   "execution_count": null,
   "metadata": {},
   "outputs": [],
   "source": []
  },
  {
   "cell_type": "code",
   "execution_count": 704,
   "metadata": {},
   "outputs": [],
   "source": [
    "\n",
    "hex_assign = lambda p: point_loc_to_hex_loc(p.x-washington_x, p.y-washington_y, hex_size)\n"
   ]
  },
  {
   "cell_type": "code",
   "execution_count": null,
   "metadata": {},
   "outputs": [],
   "source": [
    "df['hexagon'] = df['geometry'].apply(hex_assign)\n"
   ]
  },
  {
   "cell_type": "code",
   "execution_count": null,
   "metadata": {},
   "outputs": [],
   "source": []
  },
  {
   "cell_type": "code",
   "execution_count": null,
   "metadata": {},
   "outputs": [],
   "source": []
  },
  {
   "cell_type": "code",
   "execution_count": null,
   "metadata": {},
   "outputs": [],
   "source": []
  },
  {
   "cell_type": "code",
   "execution_count": null,
   "metadata": {},
   "outputs": [],
   "source": []
  },
  {
   "cell_type": "code",
   "execution_count": null,
   "metadata": {},
   "outputs": [],
   "source": []
  },
  {
   "cell_type": "code",
   "execution_count": 710,
   "metadata": {},
   "outputs": [],
   "source": []
  },
  {
   "cell_type": "code",
   "execution_count": 711,
   "metadata": {},
   "outputs": [],
   "source": []
  },
  {
   "cell_type": "code",
   "execution_count": null,
   "metadata": {},
   "outputs": [],
   "source": []
  },
  {
   "cell_type": "code",
   "execution_count": null,
   "metadata": {},
   "outputs": [],
   "source": []
  },
  {
   "cell_type": "code",
   "execution_count": null,
   "metadata": {},
   "outputs": [],
   "source": []
  },
  {
   "cell_type": "code",
   "execution_count": null,
   "metadata": {},
   "outputs": [],
   "source": []
  }
 ],
 "metadata": {
  "kernelspec": {
   "display_name": "Python 3",
   "language": "python",
   "name": "python3"
  },
  "language_info": {
   "codemirror_mode": {
    "name": "ipython",
    "version": 3
   },
   "file_extension": ".py",
   "mimetype": "text/x-python",
   "name": "python",
   "nbconvert_exporter": "python",
   "pygments_lexer": "ipython3",
   "version": "3.6.4"
  }
 },
 "nbformat": 4,
 "nbformat_minor": 2
}
