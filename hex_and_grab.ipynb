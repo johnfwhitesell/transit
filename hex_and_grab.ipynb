{
 "cells": [
  {
   "cell_type": "code",
   "execution_count": null,
   "metadata": {},
   "outputs": [],
   "source": []
  },
  {
   "cell_type": "code",
   "execution_count": 110,
   "metadata": {},
   "outputs": [],
   "source": [
    "from numpy import pi, cos, sin, sqrt\n",
    "import matplotlib.pyplot as plt\n",
    "import pandas as pd\n",
    "import geopandas as gpd\n",
    "from shapely.geometry import Polygon, Point\n",
    "import pandas as pd\n",
    "from math import modf\n",
    "import json\n",
    "from random import uniform\n",
    "import requests\n",
    "from numpy import mean\n",
    "\n",
    "hex_width = 50\n",
    "city_radius = 0.20 # in lat-long degrees\n",
    "\n",
    "hex_size = city_radius/(2*hex_width)\n",
    "\n",
    "washington_y = 38.904978\n",
    "washington_x = -77.039658\n",
    "\n",
    "\n",
    "atlanta_y = 33.7490\n",
    "atlanta_x = -84.3880\n"
   ]
  },
  {
   "cell_type": "code",
   "execution_count": 111,
   "metadata": {},
   "outputs": [],
   "source": [
    "# df = gpd.GeoDataFrame(pd.read_pickle('../transit/points_pickle'),crs={'init' :'epsg:3857'})"
   ]
  },
  {
   "cell_type": "code",
   "execution_count": 112,
   "metadata": {},
   "outputs": [],
   "source": [
    "def axial_to_cube(x,y):\n",
    "    z = -x -y\n",
    "    return (x,y,z)"
   ]
  },
  {
   "cell_type": "code",
   "execution_count": null,
   "metadata": {},
   "outputs": [],
   "source": []
  },
  {
   "cell_type": "code",
   "execution_count": 126,
   "metadata": {},
   "outputs": [],
   "source": []
  },
  {
   "cell_type": "code",
   "execution_count": 113,
   "metadata": {},
   "outputs": [],
   "source": [
    "key_path = \"C:\\\\Users\\\\John\\\\Documents\\\\notGitHub\\\\API_key.txt\"\n",
    "key_file = open(key_path, 'r')\n",
    "api_key = key_file.readline()"
   ]
  },
  {
   "cell_type": "code",
   "execution_count": 114,
   "metadata": {},
   "outputs": [],
   "source": [
    "string1 = \"https://mobilityscore.transitscreen.io/api\"\n",
    "string2 = \"/v1/locations.json?coordinates=\"\n",
    "string3 = \"&key=\"\n",
    "string4 = \"&geojson=true\"\n",
    "\n",
    "def api_string(coords):\n",
    "    new_string = string1+string2+coords+string3+api_key+string4\n",
    "    return new_string"
   ]
  },
  {
   "cell_type": "code",
   "execution_count": 138,
   "metadata": {},
   "outputs": [],
   "source": [
    "class hexagon:\n",
    "    def __init__(self, coords, city_center=(atlanta_y, atlanta_x), size=hex_size):\n",
    "        # there will be no coordinate reference system at the \n",
    "        # hex level, that needs to be handled by the grid\n",
    "        self.x_loc = float(coords[0])\n",
    "        self.y_loc = float(coords[1])\n",
    "        self.z_loc = float(coords[2])\n",
    "        self.city_center = city_center\n",
    "        self.size = size\n",
    "        self.self_center()\n",
    "        self.create_vertices()\n",
    "        self.points=[]\n",
    "        self.scores=[]\n",
    "        self.bikeshares=[]\n",
    "        self.carshares=[]\n",
    "        self.masstransits=[]\n",
    "        self.ridehailings=[]\n",
    "    def self_center(self):\n",
    "        self.x_center = self.size * 1.5 * self.x_loc\n",
    "        self.y_center = self.size * sqrt(3) * (self.y_loc + self.x_loc/2)        \n",
    "    def create_vertices(self):\n",
    "        # I am only interested in making \"flat top\" layouts\n",
    "        self.vertices = tuple(self.vertex(n) for n in range(6))\n",
    "    def vertex(self, n):\n",
    "        angle = n*pi/3\n",
    "        i = self.size*cos(angle) + self.x_center + self.city_center[1]\n",
    "        j = self.size*sin(angle) + self.y_center + self.city_center[0]\n",
    "        return(i,j)\n",
    "    \n",
    "    def random_points(self, n):\n",
    "        for i in range(n):\n",
    "            angle = uniform(0,2*pi)\n",
    "            distance = uniform(0,self.size*0.9)\n",
    "            self.points.append(\n",
    "                str(distance*cos(angle)+self.city_center[0])+\n",
    "                \",\"+\n",
    "                str(distance*sin(angle)+self.city_center[1]))\n",
    "            \n",
    "    def api_scrape(self):\n",
    "        for coord in self.points:\n",
    "            request_string = api_string(coord)\n",
    "            result = requests.get(request_string)\n",
    "            \n",
    "            if result.status_code == 200:\n",
    "                self.scores.append(result.json()['data']['mobilityScore']['score'])\n",
    "                breakdown = result.json()['data']['mobilityScore']['scoreBreakdown']\n",
    "                self.bikeshares.append(float(breakdown['bikeshare'].strip('%'))/100.0)\n",
    "                self.carshares.append(float(breakdown['carshare'].strip('%'))/100.0)\n",
    "                self.masstransits.append(float(breakdown['masstransit'].strip('%'))/100.0)\n",
    "                self.ridehailings.append(float(breakdown['ridehailing'].strip('%'))/100.0)\n",
    "            else:\n",
    "                print('foobar')\n",
    "            \n",
    "        self.score = mean(self.scores)\n",
    "        self.bikeshare = mean(self.bikeshares)\n",
    "        self.carshare = mean(self.carshares)\n",
    "        self.masstransit = mean(self.masstransits)\n",
    "        self.ridehailing = mean(self.ridehailings)"
   ]
  },
  {
   "cell_type": "code",
   "execution_count": 124,
   "metadata": {},
   "outputs": [],
   "source": [
    "hex = hexagon((0,0,0))\n",
    "hex.random_points(5)\n",
    "hex.points\n",
    "hex.api_scrape()"
   ]
  },
  {
   "cell_type": "code",
   "execution_count": 125,
   "metadata": {},
   "outputs": [
    {
     "data": {
      "text/plain": [
       "(93.8, [0.15, 0.12, 0.11, 0.1, 0.0], 0.01, 0.746, 0.14800000000000002)"
      ]
     },
     "execution_count": 125,
     "metadata": {},
     "output_type": "execute_result"
    }
   ],
   "source": [
    "hex.score, hex.bikeshares, hex.carshare, hex.masstransit, hex.ridehailing"
   ]
  },
  {
   "cell_type": "code",
   "execution_count": null,
   "metadata": {},
   "outputs": [],
   "source": [
    "\n",
    "\n",
    "def xy_generator(center,grid,size):\n",
    "    cx = grid[0] * 1.5 * size + center[1] # using lat-long convention for the city centers so x is the second value in center but not grid\n",
    "    cy = size * sqrt(3) * ( grid[1] + grid[0]/2 ) + center[0]\n",
    "    x=[]\n",
    "    y=[]\n",
    "    \n",
    "    for n in range(6):\n",
    "        angle=n*pi/3\n",
    "        x.append(size*cos(angle)+cx)\n",
    "        y.append(size*sin(angle)+cy)\n",
    "    return (x,y)\n",
    "\n",
    "xy_generator((39,-77),(0,0),0.025)\n",
    "\n"
   ]
  },
  {
   "cell_type": "code",
   "execution_count": 139,
   "metadata": {},
   "outputs": [
    {
     "data": {
      "text/html": [
       "<div>\n",
       "<style scoped>\n",
       "    .dataframe tbody tr th:only-of-type {\n",
       "        vertical-align: middle;\n",
       "    }\n",
       "\n",
       "    .dataframe tbody tr th {\n",
       "        vertical-align: top;\n",
       "    }\n",
       "\n",
       "    .dataframe thead th {\n",
       "        text-align: right;\n",
       "    }\n",
       "</style>\n",
       "<table border=\"1\" class=\"dataframe\">\n",
       "  <thead>\n",
       "    <tr style=\"text-align: right;\">\n",
       "      <th></th>\n",
       "      <th>hexagon</th>\n",
       "      <th>radius</th>\n",
       "      <th>y</th>\n",
       "      <th>x</th>\n",
       "    </tr>\n",
       "  </thead>\n",
       "  <tbody>\n",
       "    <tr>\n",
       "      <th>0</th>\n",
       "      <td>(0, 0, 0)</td>\n",
       "      <td>0</td>\n",
       "      <td>[33.749, 33.75073205080757, 33.75073205080757,...</td>\n",
       "      <td>[-84.38600000000001, -84.387, -84.389000000000...</td>\n",
       "    </tr>\n",
       "    <tr>\n",
       "      <th>1</th>\n",
       "      <td>(1, -1, 0)</td>\n",
       "      <td>1</td>\n",
       "      <td>[33.747267949192434, 33.749, 33.749, 33.747267...</td>\n",
       "      <td>[-84.38300000000001, -84.384, -84.386000000000...</td>\n",
       "    </tr>\n",
       "    <tr>\n",
       "      <th>2</th>\n",
       "      <td>(-1, 0, 1)</td>\n",
       "      <td>1</td>\n",
       "      <td>[33.747267949192434, 33.749, 33.749, 33.747267...</td>\n",
       "      <td>[-84.38900000000001, -84.39, -84.3920000000000...</td>\n",
       "    </tr>\n",
       "    <tr>\n",
       "      <th>3</th>\n",
       "      <td>(0, 1, -1)</td>\n",
       "      <td>1</td>\n",
       "      <td>[33.75246410161514, 33.75419615242271, 33.7541...</td>\n",
       "      <td>[-84.38600000000001, -84.387, -84.389000000000...</td>\n",
       "    </tr>\n",
       "    <tr>\n",
       "      <th>4</th>\n",
       "      <td>(-1, 1, 0)</td>\n",
       "      <td>1</td>\n",
       "      <td>[33.75073205080757, 33.75246410161514, 33.7524...</td>\n",
       "      <td>[-84.38900000000001, -84.39, -84.3920000000000...</td>\n",
       "    </tr>\n",
       "  </tbody>\n",
       "</table>\n",
       "</div>"
      ],
      "text/plain": [
       "      hexagon  radius                                                  y  \\\n",
       "0   (0, 0, 0)       0  [33.749, 33.75073205080757, 33.75073205080757,...   \n",
       "1  (1, -1, 0)       1  [33.747267949192434, 33.749, 33.749, 33.747267...   \n",
       "2  (-1, 0, 1)       1  [33.747267949192434, 33.749, 33.749, 33.747267...   \n",
       "3  (0, 1, -1)       1  [33.75246410161514, 33.75419615242271, 33.7541...   \n",
       "4  (-1, 1, 0)       1  [33.75073205080757, 33.75246410161514, 33.7524...   \n",
       "\n",
       "                                                   x  \n",
       "0  [-84.38600000000001, -84.387, -84.389000000000...  \n",
       "1  [-84.38300000000001, -84.384, -84.386000000000...  \n",
       "2  [-84.38900000000001, -84.39, -84.3920000000000...  \n",
       "3  [-84.38600000000001, -84.387, -84.389000000000...  \n",
       "4  [-84.38900000000001, -84.39, -84.3920000000000...  "
      ]
     },
     "execution_count": 139,
     "metadata": {},
     "output_type": "execute_result"
    }
   ],
   "source": [
    "from tqdm import tqdm\n",
    "\n",
    "class grid_axial:\n",
    "    def __init__(self, width, size=0.0025, coordinates = (38.904978, -77.039658)):\n",
    "        self.width=width\n",
    "        self.size=size\n",
    "        self.coordinates = coordinates\n",
    "        self.hex_dataframe_creator()\n",
    "        self.polygons =[]\n",
    "    def set_crs(self, crs):\n",
    "        pass\n",
    "    def make_ring(self,n):\n",
    "        ring = []\n",
    "        for m in range(1,n+1):\n",
    "            ring.append(((n,-m,-n+m),m))\n",
    "            ring.append(((-m,-n+m,n),m))\n",
    "            ring.append(((-n+m,n,-m),m))\n",
    "            ring.append(((-n,m, n-m),m))\n",
    "            ring.append(((m,n-m,-n),m))\n",
    "            ring.append(((n-m,-n,m),m))\n",
    "        return ring\n",
    "    \n",
    "    def fill_grid(self):\n",
    "        hex_list = [((0,0,0),0)]\n",
    "        for n in range(1,self.width+1):\n",
    "            hex_list+=self.make_ring(n)\n",
    "        return hex_list\n",
    "        \n",
    "    def y_generator(self, grid):\n",
    "        center = self.coordinates\n",
    "        size = self.size\n",
    "        cy = size * sqrt(3) * ( grid[1] + grid[0]/2 ) + center[0]\n",
    "        # using lat-long convention for the city centers so x is the second value in center but not grid\n",
    "        y=[]\n",
    "        for n in range(6):\n",
    "            angle=n*pi/3\n",
    "            y.append(size*sin(angle)+cy)\n",
    "        return y\n",
    "    \n",
    "    def x_generator(self,grid):\n",
    "        center = self.coordinates\n",
    "        size = self.size\n",
    "        cx = 1.5 * float(grid[0]) * size + center[1] \n",
    "        # using lat-long convention for the city centers so x is the second value in center but not grid\n",
    "        x=[]\n",
    "\n",
    "        for n in range(6):\n",
    "            angle=n*pi/3\n",
    "            x.append(size*cos(angle)+cx)\n",
    "        return x\n",
    "    \n",
    "    def hex_dataframe_creator(self):\n",
    "        self.hexes = gpd.GeoDataFrame(self.fill_grid(), columns = ['hexagon','radius'])\n",
    "        self.hexes['y'] = self.hexes.hexagon.apply(self.y_generator)\n",
    "        self.hexes['x'] = self.hexes.hexagon.apply(self.x_generator)\n",
    "        \n",
    "    def check_randoms(self,n):\n",
    "        hex_list = self.hexes['hexagon'].values\n",
    "        for next in tqdm(hex_list):\n",
    "            hex = hexagon(next, self.coordinates, self.size)\n",
    "            hex.random_points(n)\n",
    "            hex.api_scrape()\n",
    "            self.polygons.append(hex)\n",
    "                          \n",
    "                \n",
    "            \n",
    "        \n",
    "\n",
    "\n",
    "        \n",
    "atlanta = grid_axial(hex_width,hex_size, coordinates=(atlanta_y,atlanta_x))\n",
    "atlanta.hexes.head()"
   ]
  },
  {
   "cell_type": "code",
   "execution_count": null,
   "metadata": {},
   "outputs": [
    {
     "name": "stderr",
     "output_type": "stream",
     "text": [
      "\n",
      "  0%|                                                                                         | 0/7651 [00:00<?, ?it/s]\n",
      "Exception in thread Thread-8:\n",
      "Traceback (most recent call last):\n",
      "  File \"c:\\programdata\\anaconda3\\lib\\threading.py\", line 916, in _bootstrap_inner\n",
      "    self.run()\n",
      "  File \"c:\\programdata\\anaconda3\\lib\\site-packages\\tqdm\\_tqdm.py\", line 144, in run\n",
      "    for instance in self.tqdm_cls._instances:\n",
      "  File \"c:\\programdata\\anaconda3\\lib\\_weakrefset.py\", line 60, in __iter__\n",
      "    for itemref in self.data:\n",
      "RuntimeError: Set changed size during iteration\n",
      "\n",
      "  0%|▏                                                                            | 13/7651 [01:32<15:07:39,  7.13s/it]"
     ]
    }
   ],
   "source": [
    "atlanta.check_randoms(5)"
   ]
  },
  {
   "cell_type": "code",
   "execution_count": 701,
   "metadata": {},
   "outputs": [],
   "source": [
    "def hex_round(x,y):\n",
    "    z = -x -y\n",
    "    x_d, x = modf(x)\n",
    "    y_d, y = modf(y)\n",
    "    z_d, z = modf(z)\n",
    "    \n",
    "    if x_d>y_d and x_d>z_d:\n",
    "        x = -y-z\n",
    "    elif y_d>z_d:\n",
    "        y = -x-z\n",
    "    else:\n",
    "        z=-x-y\n",
    "        \n",
    "    return (int(x),int(y),int(z))"
   ]
  },
  {
   "cell_type": "code",
   "execution_count": 702,
   "metadata": {},
   "outputs": [],
   "source": [
    "ssq = sqrt(3)/3\n",
    "\n",
    "def point_loc_to_hex_loc(x_h, y_h, size):\n",
    "    x = (x_h * 2/3)/ size\n",
    "    y = ((-x_h/3) + (ssq * y_h)) / size\n",
    "    return hex_round(x,y)\n"
   ]
  },
  {
   "cell_type": "code",
   "execution_count": 703,
   "metadata": {},
   "outputs": [],
   "source": [
    "def hex_center(x_row, y_row, size):\n",
    "    x = size * 3/2 * x_row\n",
    "    y = size * (3**0.5) * (y_row + x_row/2)\n",
    "    return x, y"
   ]
  },
  {
   "cell_type": "code",
   "execution_count": 704,
   "metadata": {},
   "outputs": [],
   "source": [
    "\n",
    "hex_assign = lambda p: point_loc_to_hex_loc(p.x-washington_x, p.y-washington_y, hex_size)\n"
   ]
  },
  {
   "cell_type": "code",
   "execution_count": null,
   "metadata": {},
   "outputs": [],
   "source": [
    "df['hexagon'] = df['geometry'].apply(hex_assign)\n"
   ]
  }
 ],
 "metadata": {
  "kernelspec": {
   "display_name": "Python 3",
   "language": "python",
   "name": "python3"
  },
  "language_info": {
   "codemirror_mode": {
    "name": "ipython",
    "version": 3
   },
   "file_extension": ".py",
   "mimetype": "text/x-python",
   "name": "python",
   "nbconvert_exporter": "python",
   "pygments_lexer": "ipython3",
   "version": "3.6.4"
  }
 },
 "nbformat": 4,
 "nbformat_minor": 2
}
