{
 "cells": [
  {
   "cell_type": "code",
   "execution_count": 12,
   "metadata": {},
   "outputs": [
    {
     "data": {
      "application/vnd.jupyter.widget-view+json": {
       "model_id": "9b118fb7e95d4bc8b6e72ce30ce6e6d5",
       "version_major": 2,
       "version_minor": 0
      },
      "text/html": [
       "<p>Failed to display Jupyter Widget of type <code>HBox</code>.</p>\n",
       "<p>\n",
       "  If you're reading this message in the Jupyter Notebook or JupyterLab Notebook, it may mean\n",
       "  that the widgets JavaScript is still loading. If this message persists, it\n",
       "  likely means that the widgets JavaScript library is either not installed or\n",
       "  not enabled. See the <a href=\"https://ipywidgets.readthedocs.io/en/stable/user_install.html\">Jupyter\n",
       "  Widgets Documentation</a> for setup instructions.\n",
       "</p>\n",
       "<p>\n",
       "  If you're reading this message in another frontend (for example, a static\n",
       "  rendering on GitHub or <a href=\"https://nbviewer.jupyter.org/\">NBViewer</a>),\n",
       "  it may mean that your frontend doesn't currently support widgets.\n",
       "</p>\n"
      ],
      "text/plain": [
       "HBox(children=(IntProgress(value=1, bar_style='info', max=1), HTML(value='')))"
      ]
     },
     "metadata": {},
     "output_type": "display_data"
    }
   ],
   "source": [
    "# Standard library imports\n",
    "from math import sqrt, modf, cos, sin, pi\n",
    "# Imports from pip\n",
    "import numpy as np\n",
    "import pandas as pd\n",
    "import pyproj\n",
    "from tqdm import tqdm, tqdm_notebook\n",
    "tqdm.pandas(tqdm_notebook())\n",
    "# No personal imports\n"
   ]
  },
  {
   "cell_type": "code",
   "execution_count": 13,
   "metadata": {},
   "outputs": [],
   "source": [
    "# Reading a dataframe of already pulled points\n",
    "# df = pd.read_pickle('..\\\\..\\\\notGitHub\\\\partials\\\\DC_pulled_validated.pickle')\n",
    "\n",
    "# df.columns = [\"lon\", \"lat\", \"unit_num\", \n",
    "#               \"loc_str\", \"request\", \"Info\"]\n",
    "\n",
    "\n",
    "df = pd.read_pickle('checkpoint.pickle')\n",
    "df = df[df.Info.notnull()]"
   ]
  },
  {
   "cell_type": "code",
   "execution_count": null,
   "metadata": {},
   "outputs": [],
   "source": []
  },
  {
   "cell_type": "code",
   "execution_count": 14,
   "metadata": {},
   "outputs": [
    {
     "data": {
      "text/plain": [
       "(98,\n",
       " {'bikeshare': 0,\n",
       "  'carshare': 6.681514476614699,\n",
       "  'masstransit': 88.31570525488458,\n",
       "  'ridehailing': 21})"
      ]
     },
     "execution_count": 14,
     "metadata": {},
     "output_type": "execute_result"
    }
   ],
   "source": [
    "\"\"\"The current json field queries are incorrect so this will be left so the correct values can be substituted in later.\"\"\"\n",
    "\n",
    "# string for the json structure, i.e. where I am looking for the scores\n",
    "s1 = \"data\"\n",
    "s2 = \"mobilityScore\"\n",
    "# first field, i.e. individual score entry\n",
    "f1 = \"score\"\n",
    "# string for the structure to the other fields\n",
    "s3 = \"rawScoreBreakdown\"\n",
    "# other fields\n",
    "f2 = \"bikeshare\"\n",
    "f3 = \"carshare\"\n",
    "f4 = \"masstransit\"\n",
    "f5 = \"ridehailing\"\n",
    "\n",
    "# let's see if it works:\n",
    "df.head(1).Info.values[0].json()[s1][s2][f1],df.head(1).Info.values[0].json()[s1][s2][s3]"
   ]
  },
  {
   "cell_type": "code",
   "execution_count": null,
   "metadata": {},
   "outputs": [],
   "source": []
  },
  {
   "cell_type": "code",
   "execution_count": 15,
   "metadata": {},
   "outputs": [
    {
     "data": {
      "text/plain": [
       "True     18792\n",
       "False        8\n",
       "Name: Info, dtype: int64"
      ]
     },
     "execution_count": 15,
     "metadata": {},
     "output_type": "execute_result"
    }
   ],
   "source": [
    "(df.Info.apply(lambda x: x.ok)==True).value_counts()"
   ]
  },
  {
   "cell_type": "code",
   "execution_count": 16,
   "metadata": {},
   "outputs": [],
   "source": [
    "df = df[df.Info.apply(lambda x: x.ok)==True]"
   ]
  },
  {
   "cell_type": "code",
   "execution_count": 17,
   "metadata": {},
   "outputs": [
    {
     "name": "stdout",
     "output_type": "stream",
     "text": [
      "\n"
     ]
    },
    {
     "name": "stderr",
     "output_type": "stream",
     "text": [
      "Exception in thread Thread-6:\n",
      "Traceback (most recent call last):\n",
      "  File \"c:\\programdata\\anaconda3\\lib\\threading.py\", line 916, in _bootstrap_inner\n",
      "    self.run()\n",
      "  File \"c:\\programdata\\anaconda3\\lib\\site-packages\\tqdm\\_tqdm.py\", line 144, in run\n",
      "    for instance in self.tqdm_cls._instances:\n",
      "  File \"c:\\programdata\\anaconda3\\lib\\_weakrefset.py\", line 60, in __iter__\n",
      "    for itemref in self.data:\n",
      "RuntimeError: Set changed size during iteration\n",
      "\n"
     ]
    }
   ],
   "source": [
    "df['total_score'] = df.Info.apply(lambda x: x.json()[s1][s2][f1])\n",
    "df['bike_score'] = df.Info.apply(lambda x: float(x.json()[s1][s2][s3][f2]))\n",
    "df['car_score'] = df.Info.apply(lambda x: float(x.json()[s1][s2][s3][f3]))\n",
    "df['mass_score'] = df.Info.apply(lambda x: float(x.json()[s1][s2][s3][f4]))\n",
    "df['ride_score'] = df.Info.apply(lambda x: float(x.json()[s1][s2][s3][f5]))\n",
    "\n",
    "df = df[['Y','X','UNITNUM', 'total_score', 'bike_score', 'car_score', 'mass_score', 'ride_score']]\n",
    "df.columns = [\"lat\", \"lon\", \"unit_num\", 'total_score', 'bike_score', 'car_score', 'mass_score', 'ride_score']"
   ]
  },
  {
   "cell_type": "code",
   "execution_count": 18,
   "metadata": {},
   "outputs": [],
   "source": [
    "\"\"\"wgs84 and webdb are aliases for the two map projections used in this project.\n",
    "wgs84 is lat-long coordinates, aka EPSGL4326.  webdb is Web Mercator, used by the\n",
    "OpenStreetMaps raster files that are used for the background in this app.\"\"\"\n",
    "wgs84=pyproj.Proj(\"+init=EPSG:4326\") # LatLon with WGS84 datum used by GPS units and Google Earth\n",
    "webdb=pyproj.Proj(\"+init=EPSG:3857\") # Web Mercator\n",
    "\n",
    "############\n",
    "# These are functions that will be used in processing the points into hexagonal shapes and creating the shapefiles of those hexes\n",
    "############\n",
    "\n",
    "\"\"\" Note about hex coordinates:\n",
    "\n",
    "The hex coordinates in this code are done in a different x-y layout.\n",
    "Instead of x and y indicating directions seperated by 90 degrees\n",
    "x, y and z are seperated by 60 degrees.  This layout makes it easier\n",
    "to track hexagonal calculations because any adjacent hexagon is always\n",
    "exactly 1 away along two of the tree axis.  E.G. 1, 0, -1 is next to \n",
    "2, -1, -1 and 0, 0, 0.  x+y+z = 0 for any hexagon on a grid so the z\n",
    "axis is frequently ommitted.\n",
    "\n",
    "The hex coordinates are only used to refer to where something falls on the hex grid.\n",
    "I.E. the location of the hex at 2,-1,-1 is stored as (2,-1) and a point within that\n",
    "hex will have hex coordinates of (2, -1).  Everything else is kept in cartesian \n",
    "coordinates.  The point at (2, -1) will also have cartesian coordinates for it's location.\"\"\"\n",
    "\n",
    "\n",
    "def hex_round(x,y):\n",
    "    \"\"\"This takes a point that is already in hexial coordinates\n",
    "    and matches it to the closest grid, i.e. which hexagon it is in.\"\"\"\n",
    "    z = -x -y\n",
    "    x_d, x = modf(x)\n",
    "    y_d, y = modf(y)\n",
    "    z_d, z = modf(z)\n",
    "    \n",
    "    \"\"\"Because x+y+z=0, we can round the largest.\"\"\"\n",
    "    if x_d>y_d and x_d>z_d:\n",
    "        x = -y-z\n",
    "    elif y_d>z_d:\n",
    "        y = -x-z\n",
    "    else:\n",
    "        z=-x-y\n",
    "        \n",
    "    return (int(x),int(y),int(z))\n",
    "\n",
    "\"\"\"Storing the square root of 3 so it's not recalculated a bunch.\"\"\"\n",
    "sr3 = sqrt(3)/3\n",
    "\n",
    "def point_loc_to_hex_loc(x_h, y_h, size):\n",
    "    \"\"\"This converts a pair of cartesian points\n",
    "    into hexogonal coordinates.\"\"\"\n",
    "    x = (x_h * 2/3)/ size\n",
    "    y = ((-x_h/3) + (sr3 * y_h)) / size\n",
    "    return hex_round(x,y)\n",
    "\n",
    "def hex_center(x_row, y_row, size):\n",
    "    \"\"\"This finds the center of a hexagon.  Not currently used anywhere.\"\"\"\n",
    "    x = size * 3/2 * x_row\n",
    "    y = size * (sr3) * (y_row + x_row/2)\n",
    "    return x, y\n",
    "\n",
    "\n",
    "\"\"\"this simple little script just takes the index and makes a unique key\"\"\"\n",
    "index_key = lambda t, m: (t[0]+m+1 + (t[1]+m+1)*2*m)\n",
    "\n",
    "############\n",
    "# The city grid object is the thing that stores all the information for a single city.\n",
    "# It processes dataframes into the format that will work with Bokeh.\n",
    "############\n",
    "\n",
    "\n",
    "class city_grid:\n",
    "    \"\"\"The city grid is where all of the calculated information for a city is stored.\"\"\"\n",
    "    def __init__(self,name, lat, lon, grid_rings, hex_size):\n",
    "        self.name = name\n",
    "        self.lat = lat\n",
    "        self.lon = lon\n",
    "        \n",
    "        self.X, self.Y = pyproj.transform(wgs84, webdb, self.lon, self.lat)\n",
    "        \n",
    "        self.grid_rings = grid_rings # how many hexes there are from middle ot edge of grid\n",
    "        self.lat_size = hex_size # the size of each individual hex, center to vertex in degrees of latitude\n",
    "        self.hex_meters = (hex_size * 110574.0) # at the local level I should use meters not degrees\n",
    "        \n",
    "        # 1 decimal degree of latitude = 110.574 kms.  Longitude varies so I use latitude for consistency.\n",
    "        self.points = pd.DataFrame(columns = ['hex', 'hex_key','lat','lon', 'X', 'Y','unit_num', 'total_score',\n",
    "                                    'bike_score','car_score','mass_score','ride_score'])\n",
    "        self.hexes = pd.DataFrame(columns = ['grid', 'hex_key','x_shape','y_shape', 'point_list',\n",
    "                                             'total_score','bike_score','car_score',\n",
    "                                             'mass_score','ride_score','points_list'])\n",
    "        \n",
    "    ########\n",
    "    # Code to process points in lat-long and assign to hexes\n",
    "    ########\n",
    "        \n",
    "    def point_frame_entry(self, df):\n",
    "        for col in self.points.columns:\n",
    "            if col in df.columns:\n",
    "                self.points[col] = df[col]\n",
    "            else:\n",
    "                self.points[col] = None\n",
    "    \n",
    "            \n",
    "    def kilometer_conversion(self):\n",
    "        self.points['X'] = None\n",
    "        self.points['Y'] = None\n",
    "        for row in self.points[['lat','lon']].itertuples():\n",
    "            x, y = pyproj.transform(wgs84, webdb, row[2], row[1])\n",
    "            x = x- self.X\n",
    "            y = y- self.Y\n",
    "            \n",
    "            self.points.at[row[0], 'X'] = x\n",
    "            self.points.at[row[0], 'Y'] = y\n",
    "\n",
    "\n",
    "    def hex_clear_and_assign(self):\n",
    "        self.points['hex'] = None\n",
    "        t = tqdm_notebook(self.points[['X','Y']].itertuples(), total = self.points[['X','Y']].shape[0])\n",
    "        print(\"Calculating hex assignments for points\")\n",
    "        \n",
    "        for row in t:\n",
    "            index = point_loc_to_hex_loc( (row[1])  , (row[2]), self.hex_meters)\n",
    "            self.points.at[row[0],'hex'] = index\n",
    "            self.points.at[row[0],'hex_key'] = index_key(index, self.grid_rings)\n",
    "\n",
    "        \"\"\"This returns the 'index' of the hexagon where the point lies.  It's given in hexagonal \n",
    "        coordinates i.e. 3 axis in a plane not two (see below).  This is calculated algebraically \n",
    "        from the size of the hexagons with no reference to the hexagon shapes themselves, those will\n",
    "        be generated later\"\"\"\n",
    "\n",
    "    ###########\n",
    "    # Code to generate grid of hexagons\n",
    "    ###########\n",
    "    \n",
    "    \n",
    "    \"\"\"Remember the 3 axis system used in place of cartesian coordinates\n",
    "    for hex locations.\"\"\"   \n",
    "    def make_ring(self,n):\n",
    "        \"\"\"All the hexagons n hexes from the center\"\"\"\n",
    "        ring = []\n",
    "        for m in range(1,n+1):\n",
    "            ring.append((n,-m,-n+m))\n",
    "            ring.append((-m,-n+m,n))\n",
    "            ring.append((-n+m,n,-m))\n",
    "            ring.append((-n,m, n-m))\n",
    "            ring.append((m,n-m,-n))\n",
    "            ring.append((n-m,-n,m))\n",
    "        return ring\n",
    "    \n",
    "    def fill_grid(self):\n",
    "        hex_list = [(0,0,0)]\n",
    "        for n in range(1,self.grid_rings+1):\n",
    "            hex_list+=self.make_ring(n)\n",
    "        return hex_list\n",
    "        \n",
    "    def yx_generator(self, grid):\n",
    "        \"\"\"Bokeh expects the coordinates to be passed in a list of x coordinates\n",
    "        and a seperate list of y coordinates.  This generates those for each hex\"\"\"\n",
    "        size = self.hex_meters\n",
    "        cy = size * sqrt(3) * ( grid[1] + grid[0]/2 ) + self.Y\n",
    "        cx = 1.5 * float(grid[0]) * size + self.X\n",
    "        Y=[]\n",
    "        X=[]\n",
    "        for n in range(6):\n",
    "            angle=n*pi/3\n",
    "            Y.append(size*sin(angle)+cy)            \n",
    "            X.append(size*cos(angle)+cx)\n",
    "        return Y, X\n",
    "\n",
    "    def grid_creation(self):\n",
    "        \"\"\"This creates the dataframe with all the hex grid information.\"\"\"\n",
    "        g = self.fill_grid()\n",
    "        l = len(g)\n",
    "        s = self.grid_rings\n",
    "        \"\"\"The number of hexagons from center to edge is stored at s,\n",
    "        it will be used when calculating the 'index_key'.  \n",
    "        This is a unique value for every hex and needs to use s to\n",
    "        make sure there aren't any overlaps\"\"\"\n",
    "        \n",
    "        columns = ['total_score','bike_score',\n",
    "                   'car_score','mass_score',\n",
    "                   'ride_score','points_list' ]\n",
    "        self.hexes = pd.DataFrame(np.zeros((l,1)), columns=['grid'])\n",
    "        self.hexes['grid'] = g\n",
    "        self.hexes['hex_key'] = self.hexes.grid.apply(lambda x: index_key(x, s))\n",
    "        for col in columns:\n",
    "            self.hexes[col] = pd.np.empty((len(self.hexes), 0)).tolist()\n",
    "        YX = self.hexes['grid'].progress_apply(self.yx_generator)\n",
    "        self.hexes['Y'] = YX.apply(lambda x: x[0])\n",
    "        self.hexes['X'] = YX.apply(lambda x: x[1])\n",
    "        self.hexes.set_index('hex_key', inplace=True)\n",
    "            \n",
    "    def hex_pairing(self):\n",
    "        \"\"\"This uses the fact that every point already has calculated \n",
    "        the \"id\" of the hex in which it falls, using it's coordinates.\n",
    "        Because of this, it doesn't have to iterate through the hexagons\n",
    "        to find it's match.\"\"\"\n",
    "        points = self.points\n",
    "        hexes = self.hexes        \n",
    "        points['point_id'] = points.index\n",
    "        t = tqdm_notebook(points.itertuples(), total=points.shape[0])\n",
    "        print(\"Generating list of values within each hex\")\n",
    "        \n",
    "        for row in t:\n",
    "            hex_key = row[2] # this is the id of the hex it matches\n",
    "            \n",
    "            hex_row = hexes.loc[hex_key]            \n",
    "            hex_row['total_score'].append(row[8])\n",
    "            hex_row['bike_score'].append(row[9])\n",
    "            hex_row['car_score'].append(row[10])\n",
    "            hex_row['mass_score'].append(row[11])\n",
    "            hex_row['ride_score'].append(row[12])\n",
    "            hex_row['points_list'].append(row[13])      \n",
    "        print(\"Done\")\n",
    "        \n",
    "    def export_frame(self):\n",
    "        fp = self.name + \"_2.pickle\"\n",
    "        self.hexes.to_pickle(fp)"
   ]
  },
  {
   "cell_type": "code",
   "execution_count": 19,
   "metadata": {},
   "outputs": [
    {
     "data": {
      "application/vnd.jupyter.widget-view+json": {
       "model_id": "89468db1535e47bba83ffd218909aea5",
       "version_major": 2,
       "version_minor": 0
      },
      "text/html": [
       "<p>Failed to display Jupyter Widget of type <code>HBox</code>.</p>\n",
       "<p>\n",
       "  If you're reading this message in the Jupyter Notebook or JupyterLab Notebook, it may mean\n",
       "  that the widgets JavaScript is still loading. If this message persists, it\n",
       "  likely means that the widgets JavaScript library is either not installed or\n",
       "  not enabled. See the <a href=\"https://ipywidgets.readthedocs.io/en/stable/user_install.html\">Jupyter\n",
       "  Widgets Documentation</a> for setup instructions.\n",
       "</p>\n",
       "<p>\n",
       "  If you're reading this message in another frontend (for example, a static\n",
       "  rendering on GitHub or <a href=\"https://nbviewer.jupyter.org/\">NBViewer</a>),\n",
       "  it may mean that your frontend doesn't currently support widgets.\n",
       "</p>\n"
      ],
      "text/plain": [
       "HBox(children=(IntProgress(value=0, max=18792), HTML(value='')))"
      ]
     },
     "metadata": {},
     "output_type": "display_data"
    },
    {
     "name": "stdout",
     "output_type": "stream",
     "text": [
      "Calculating hex assignments for points\n"
     ]
    },
    {
     "name": "stderr",
     "output_type": "stream",
     "text": [
      "100%|███████████████████████████████████████████████████████████████████████| 120601/120601 [00:01<00:00, 81597.51it/s]\n"
     ]
    },
    {
     "data": {
      "application/vnd.jupyter.widget-view+json": {
       "model_id": "b3568982f6964be691e0ef3d989647b5",
       "version_major": 2,
       "version_minor": 0
      },
      "text/html": [
       "<p>Failed to display Jupyter Widget of type <code>HBox</code>.</p>\n",
       "<p>\n",
       "  If you're reading this message in the Jupyter Notebook or JupyterLab Notebook, it may mean\n",
       "  that the widgets JavaScript is still loading. If this message persists, it\n",
       "  likely means that the widgets JavaScript library is either not installed or\n",
       "  not enabled. See the <a href=\"https://ipywidgets.readthedocs.io/en/stable/user_install.html\">Jupyter\n",
       "  Widgets Documentation</a> for setup instructions.\n",
       "</p>\n",
       "<p>\n",
       "  If you're reading this message in another frontend (for example, a static\n",
       "  rendering on GitHub or <a href=\"https://nbviewer.jupyter.org/\">NBViewer</a>),\n",
       "  it may mean that your frontend doesn't currently support widgets.\n",
       "</p>\n"
      ],
      "text/plain": [
       "HBox(children=(IntProgress(value=0, max=18792), HTML(value='')))"
      ]
     },
     "metadata": {},
     "output_type": "display_data"
    },
    {
     "name": "stdout",
     "output_type": "stream",
     "text": [
      "Generating list of values within each hex\n",
      "Done\n"
     ]
    }
   ],
   "source": [
    "grid_rings = 200\n",
    "city_radius = 0.20 # in lat-long degrees\n",
    "hex_size = city_radius/(2*grid_rings)\n",
    "\n",
    "washington_y = 38.904978\n",
    "washington_x = -77.039658\n",
    "\n",
    "wgs84=pyproj.Proj(\"+init=EPSG:4326\") # LatLon with WGS84 datum used by GPS units and Google Earth\n",
    "webdb=pyproj.Proj(\"+init=EPSG:3857\") # Web Mercator\n",
    "\n",
    "\n",
    "Washington = city_grid(\"Washington\", washington_y, washington_x, grid_rings, hex_size)\n",
    "\n",
    "Washington.point_frame_entry(df)\n",
    "Washington.kilometer_conversion()\n",
    "Washington.hex_clear_and_assign()\n",
    "Washington.grid_creation()\n",
    "Washington.points.head()\n",
    "Washington.hex_pairing()\n",
    "Washington.export_frame()"
   ]
  },
  {
   "cell_type": "code",
   "execution_count": 10,
   "metadata": {},
   "outputs": [
    {
     "data": {
      "text/plain": [
       "((14793, 13), (120601, 9))"
      ]
     },
     "execution_count": 10,
     "metadata": {},
     "output_type": "execute_result"
    }
   ],
   "source": [
    "Washington.points.shape, Washington.hexes.shape"
   ]
  },
  {
   "cell_type": "code",
   "execution_count": null,
   "metadata": {},
   "outputs": [],
   "source": []
  },
  {
   "cell_type": "code",
   "execution_count": null,
   "metadata": {},
   "outputs": [],
   "source": []
  },
  {
   "cell_type": "code",
   "execution_count": null,
   "metadata": {},
   "outputs": [],
   "source": []
  },
  {
   "cell_type": "code",
   "execution_count": null,
   "metadata": {},
   "outputs": [],
   "source": []
  },
  {
   "cell_type": "code",
   "execution_count": 185,
   "metadata": {},
   "outputs": [],
   "source": [
    "\"\"\"\n",
    "#Speedtesting, fun!\n",
    "\n",
    "def iat_assign():\n",
    "    df['XY'] = None\n",
    "    l = df.shape[0]\n",
    "    for i in range(l):\n",
    "        df.iat[i,11] = (df.iat[i,1],df.iat[i,0])\n",
    "        \n",
    "def at_assign():\n",
    "    df['XY'] = None\n",
    "    for i in df.index:\n",
    "        df.at[i,'XY'] = (df.at[i,'lon'], df.at[i,'lat'])\n",
    "\n",
    "def itertuples_at_assign():\n",
    "    df['XY'] = None\n",
    "    for row in df[['lon','lat']].itertuples():\n",
    "        XY = (row[2],row[1])\n",
    "        df.at[row[0], 'XY'] = XY\n",
    "        \n",
    "def itertuples_at_assign_2():\n",
    "    df['XY'] = None\n",
    "    for row in df[['lon','lat']].itertuples():\n",
    "        df.at[row[0], 'XY'] = (row[2],row[1])\n",
    "        \n",
    "def itertuples_iat_assign():\n",
    "    df['XY'] = None\n",
    "    for row in df[['lon','lat']].reset_index().itertuples():\n",
    "        XY = (row[2],row[1])\n",
    "        df.iat[row[0], 11] = XY\n",
    "        \n",
    "%timeit iat_assign()\n",
    "%timeit at_assign()\n",
    "%timeit itertuples_at_assign()\n",
    "%timeit itertuples_at_assign_2()\n",
    "%timeit itertuples_iat_assign()\n",
    "\"\"\"\n",
    "\n",
    "\"\"\"\n",
    "iat_assign:\n",
    "546 ms ± 8.64 ms per loop (mean ± std. dev. of 7 runs, 1 loop each)\n",
    "at_assign:\n",
    "566 ms ± 37.3 ms per loop (mean ± std. dev. of 7 runs, 1 loop each)\n",
    "itertuples_at_assign:\n",
    "228 ms ± 4.22 ms per loop (mean ± std. dev. of 7 runs, 1 loop each)\n",
    "itertuples_at_assign_2:\n",
    "223 ms ± 4.11 ms per loop (mean ± std. dev. of 7 runs, 1 loop each)\n",
    "itertuples_iat_assign:\n",
    "258 ms ± 14 ms per loop (mean ± std. dev. of 7 runs, 1 loop each)\n",
    "\"\"\""
   ]
  },
  {
   "cell_type": "code",
   "execution_count": 186,
   "metadata": {},
   "outputs": [],
   "source": [
    "# test = Washington_grid.hexes\n",
    "# w = grid_rings\n",
    "\n",
    "# %timeit test['integer_form'] = test['grid'].apply(lambda x: x[0]+w+1) + test['grid'].apply(lambda x: x[1]+w+3)*2*w\n",
    "## 8.32 ms ± 193 µs per loop (mean ± std. dev. of 7 runs, 100 loops each)\n",
    "\n",
    "# %timeit test['integer_form']== 2550\n",
    "## 133 µs ± 1.92 µs per loop (mean ± std. dev. of 7 runs, 10000 loops each)\n",
    "\n",
    "# %timeit test['grid']==(25,25,25)\n",
    "## 1.24 ms ± 146 µs per loop (mean ± std. dev. of 7 runs, 1000 loops each)"
   ]
  },
  {
   "cell_type": "code",
   "execution_count": 187,
   "metadata": {},
   "outputs": [],
   "source": [
    "# \"\"\"    def hex_pairing(self):\n",
    "#         # This uses the fact that every point already has calculated the \"id\" of the hex in which it falls, using it's coordinates.\n",
    "#         points = self.points\n",
    "#         hexes = self.hexes        \n",
    "#         points['point_id'] = points.index\n",
    "#         t = tqdm(points.itertuples(), total=points.shape[0])\n",
    "#         print(\"Generating list of values within each hex\")\n",
    "        \n",
    "#         for row in t:\n",
    "#             id = row[2] # this is the id of the hex it matches\n",
    "            \n",
    "#             hex_row = hexes.loc[id]\n",
    "#             hex_row['total_score'].apply(lambda l: l.append(row.total_score))\n",
    "#             hex_row['bike_score'].apply(lambda l: l.append(row.bike_score))\n",
    "#             hex_row['car_score'].apply(lambda l: l.append(row.car_score))\n",
    "#             hex_row['mass_score'].apply(lambda l: l.append(row.mass_score))\n",
    "#             hex_row['ride_score'].apply(lambda l: l.append(row.ride_score))\n",
    "#             hex_row['points_list'].apply(lambda l: l.append(row.point_id))            \n",
    "            \n",
    "#             # Selecting the row then adjusting all values runs about twice as fast as looking up each value\n",
    "            \n",
    "#             hexes.loc[id, 'total_score'].apply(lambda l: l.append(row.total_score))\n",
    "#             hexes.loc[id, 'bike_score'].apply(lambda l: l.append(row.bike_score))\n",
    "#             hexes.loc[id, 'car_score'].apply(lambda l: l.append(row.car_score))\n",
    "#             hexes.loc[id, 'mass_score'].apply(lambda l: l.append(row.mass_score))\n",
    "#             hexes.loc[id, 'ride_score'].apply(lambda l: l.append(row.ride_score))\n",
    "#             hexes.loc[id, 'points_list'].apply(lambda l: l.append(row.point_id))\n",
    "                \n",
    "#                 \"\"\"\n"
   ]
  },
  {
   "cell_type": "code",
   "execution_count": null,
   "metadata": {},
   "outputs": [],
   "source": []
  }
 ],
 "metadata": {
  "kernelspec": {
   "display_name": "Python 3",
   "language": "python",
   "name": "python3"
  },
  "language_info": {
   "codemirror_mode": {
    "name": "ipython",
    "version": 3
   },
   "file_extension": ".py",
   "mimetype": "text/x-python",
   "name": "python",
   "nbconvert_exporter": "python",
   "pygments_lexer": "ipython3",
   "version": "3.6.4"
  }
 },
 "nbformat": 4,
 "nbformat_minor": 2
}
