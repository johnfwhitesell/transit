{
 "cells": [
  {
   "cell_type": "code",
   "execution_count": 6,
   "metadata": {},
   "outputs": [],
   "source": [
    "import geopandas as gpd\n",
    "from geojson import GeoJSON\n",
    "from numpy import pi, cos, sin\n",
    "from shapely.geometry import Polygon\n",
    "import json"
   ]
  },
  {
   "cell_type": "code",
   "execution_count": 7,
   "metadata": {},
   "outputs": [],
   "source": [
    "\n",
    "\n",
    "def single_hex(x, y, r):\n",
    "    verts = []\n",
    "    for i in range(6):\n",
    "        angle = i * 2 * pi / 6\n",
    "        xc = x + cos(angle) * r\n",
    "        yc = y + sin(angle) * r\n",
    "        verts.append((xc, yc))\n",
    "    return verts\n",
    "\n",
    "\n",
    "def make_grid(center, radius_count=20, hex_radius=0.005):\n",
    "    results = []\n",
    "    hex_list = []\n",
    "    hex_list.append(single_hex(center[0],center[1], hex_radius))\n",
    "    for n in range(1,radius_count,1): # get the corner hexes of a band this distance from center\n",
    "        c2c = n*2*hex_radius*sin(pi/3) # distance of center of these verts from overall center\n",
    "        verts = []\n",
    "        for m in range(6):\n",
    "            angle = ((m/6)-(1/12)) * (2.0*pi)\n",
    "            v_x = center[0] + cos(angle)*c2c # coordinates of one of the six corner hexes\n",
    "            v_y = center[1] + sin(angle)*c2c\n",
    "            verts.append((v_x, v_y))\n",
    "        for i,this_hex in enumerate(verts):# fill in the hexes between the corners\n",
    "            next_hex = verts[(i+1)%6] # this allows wraparound when finding the next hex counterclockwise\n",
    "            centers = []\n",
    "            side_length = n\n",
    "            gap_x = (next_hex[0]-this_hex[0])/side_length\n",
    "            gap_y = (next_hex[1]-this_hex[1])/side_length\n",
    "            for j in range(side_length):\n",
    "                x_coord = this_hex[0]+gap_x*j\n",
    "                y_coord = this_hex[1]+gap_y*j\n",
    "                hex_list.append(single_hex(x_coord,y_coord,hex_radius))\n",
    "    for hex_cords in hex_list:\n",
    "        results.append(Polygon(hex_cords))\n",
    "    return results\n",
    "\n",
    "\n",
    "\n"
   ]
  },
  {
   "cell_type": "code",
   "execution_count": 20,
   "metadata": {},
   "outputs": [],
   "source": [
    "\n",
    "\n",
    "hex_size = 0.0025;\n",
    "\n",
    "class city:\n",
    "    def __init__(self, name, latitude, longitude, radius = 20, hex_size = hex_size):\n",
    "        # a word to the wise, latitude, the y-coordinate, conventionally comes first.  West is negative longitude.\n",
    "        self.name = str(name)\n",
    "        self.latitude = float(latitude)\n",
    "        self.longitude = float(longitude)\n",
    "        cities.append(self)\n",
    "        self.radius = radius\n",
    "        self.hex_size = hex_size\n",
    "        self.shapes = None\n",
    "    def hexify(self):\n",
    "        self.shapes = gpd.GeoDataFrame(make_grid((self.latitude,self.longitude, self.radius)),\n",
    "                                       columns=['geometry'], crs = {'init': 'epsg:4326'})\n",
    "        self.shapes['hex_number'] = self.shapes.index\n",
    "    def self_to_json(self):        \n",
    "        with open(self.name+'_hex.json', 'w') as outfile:\n",
    "            json.dump(json.loads(self.shapes.to_json()), outfile)\n",
    "        \n",
    "    def clear_frame(self):\n",
    "        self.shapes = None\n",
    "    def assign_points(self, point_df):\n",
    "        pass\n",
    "        \n"
   ]
  },
  {
   "cell_type": "code",
   "execution_count": 21,
   "metadata": {},
   "outputs": [
    {
     "data": {
      "text/plain": [
       "[<__main__.city at 0x1fa5aaa1c88>,\n",
       " <__main__.city at 0x1fa5aaa1f28>,\n",
       " <__main__.city at 0x1fa5aaa1cf8>]"
      ]
     },
     "execution_count": 21,
     "metadata": {},
     "output_type": "execute_result"
    }
   ],
   "source": [
    "cities = []\n",
    "city('Washington', latitude=-77.0369, longitude=38.9072, radius=40, hex_size = hex_size)\n",
    "city('San_Francisco', latitude = -122.4194, longitude = 37.7749, radius=40, hex_size = hex_size)\n",
    "city('New_York', latitude=-74.0060, longitude = 40.7128, radius=40, hex_size = hex_size)\n",
    "\n",
    "cities"
   ]
  },
  {
   "cell_type": "code",
   "execution_count": 10,
   "metadata": {},
   "outputs": [],
   "source": [
    "for burb in cities:\n",
    "    burb.hexify()\n",
    "    burb.self_to_json()\n",
    "    burb.clear_frame()"
   ]
  },
  {
   "cell_type": "code",
   "execution_count": 11,
   "metadata": {},
   "outputs": [],
   "source": [
    "cities[0].hexify()\n",
    "out = cities[0].shapes"
   ]
  },
  {
   "cell_type": "code",
   "execution_count": 12,
   "metadata": {},
   "outputs": [],
   "source": [
    "out.to_pickle('washington_frame')"
   ]
  },
  {
   "cell_type": "code",
   "execution_count": 13,
   "metadata": {},
   "outputs": [],
   "source": [
    "import pandas as pd\n",
    "\n",
    "points = pd.read_pickle('points_pickle')"
   ]
  },
  {
   "cell_type": "code",
   "execution_count": 14,
   "metadata": {},
   "outputs": [],
   "source": [
    "from shapely.geometry import Point"
   ]
  },
  {
   "cell_type": "code",
   "execution_count": 15,
   "metadata": {},
   "outputs": [],
   "source": [
    "points_g = gpd.GeoDataFrame(points, crs = {'init': 'epsg:4326'}, geometry = [Point(xy) for xy in zip(points.X, points.Y)])"
   ]
  },
  {
   "cell_type": "code",
   "execution_count": 16,
   "metadata": {},
   "outputs": [
    {
     "data": {
      "text/html": [
       "<div>\n",
       "<style scoped>\n",
       "    .dataframe tbody tr th:only-of-type {\n",
       "        vertical-align: middle;\n",
       "    }\n",
       "\n",
       "    .dataframe tbody tr th {\n",
       "        vertical-align: top;\n",
       "    }\n",
       "\n",
       "    .dataframe thead th {\n",
       "        text-align: right;\n",
       "    }\n",
       "</style>\n",
       "<table border=\"1\" class=\"dataframe\">\n",
       "  <thead>\n",
       "    <tr style=\"text-align: right;\">\n",
       "      <th></th>\n",
       "      <th>X</th>\n",
       "      <th>Y</th>\n",
       "      <th>UNITNUM</th>\n",
       "      <th>scores</th>\n",
       "      <th>geometry</th>\n",
       "      <th>shape_id</th>\n",
       "    </tr>\n",
       "    <tr>\n",
       "      <th>ADDRESS_ID</th>\n",
       "      <th></th>\n",
       "      <th></th>\n",
       "      <th></th>\n",
       "      <th></th>\n",
       "      <th></th>\n",
       "      <th></th>\n",
       "    </tr>\n",
       "  </thead>\n",
       "  <tbody>\n",
       "    <tr>\n",
       "      <th>243225</th>\n",
       "      <td>-77.037265</td>\n",
       "      <td>38.936436</td>\n",
       "      <td>1181.0</td>\n",
       "      <td>{'score': 77, 'bikeshare': '0%', 'carshare': '...</td>\n",
       "      <td>POINT (-77.03726510819578 38.93643575527931)</td>\n",
       "      <td>8</td>\n",
       "    </tr>\n",
       "    <tr>\n",
       "      <th>284325</th>\n",
       "      <td>-77.024650</td>\n",
       "      <td>38.920318</td>\n",
       "      <td>917.0</td>\n",
       "      <td>{'score': 73, 'bikeshare': '0%', 'carshare': '...</td>\n",
       "      <td>POINT (-77.02464966400156 38.92031826898436)</td>\n",
       "      <td>8</td>\n",
       "    </tr>\n",
       "    <tr>\n",
       "      <th>294461</th>\n",
       "      <td>-77.081959</td>\n",
       "      <td>38.935867</td>\n",
       "      <td>671.0</td>\n",
       "      <td>{'score': 79, 'bikeshare': '19%', 'carshare': ...</td>\n",
       "      <td>POINT (-77.08195893397365 38.93586687687617)</td>\n",
       "      <td>8</td>\n",
       "    </tr>\n",
       "    <tr>\n",
       "      <th>235844</th>\n",
       "      <td>-77.035880</td>\n",
       "      <td>38.923626</td>\n",
       "      <td>664.0</td>\n",
       "      <td>{'score': 79, 'bikeshare': '19%', 'carshare': ...</td>\n",
       "      <td>POINT (-77.03588045315645 38.92362582942218)</td>\n",
       "      <td>8</td>\n",
       "    </tr>\n",
       "    <tr>\n",
       "      <th>220630</th>\n",
       "      <td>-77.061250</td>\n",
       "      <td>38.943732</td>\n",
       "      <td>638.0</td>\n",
       "      <td>{'score': 79, 'bikeshare': '19%', 'carshare': ...</td>\n",
       "      <td>POINT (-77.06125006503876 38.94373173501572)</td>\n",
       "      <td>8</td>\n",
       "    </tr>\n",
       "  </tbody>\n",
       "</table>\n",
       "</div>"
      ],
      "text/plain": [
       "                    X          Y  UNITNUM  \\\n",
       "ADDRESS_ID                                  \n",
       "243225     -77.037265  38.936436   1181.0   \n",
       "284325     -77.024650  38.920318    917.0   \n",
       "294461     -77.081959  38.935867    671.0   \n",
       "235844     -77.035880  38.923626    664.0   \n",
       "220630     -77.061250  38.943732    638.0   \n",
       "\n",
       "                                                       scores  \\\n",
       "ADDRESS_ID                                                      \n",
       "243225      {'score': 77, 'bikeshare': '0%', 'carshare': '...   \n",
       "284325      {'score': 73, 'bikeshare': '0%', 'carshare': '...   \n",
       "294461      {'score': 79, 'bikeshare': '19%', 'carshare': ...   \n",
       "235844      {'score': 79, 'bikeshare': '19%', 'carshare': ...   \n",
       "220630      {'score': 79, 'bikeshare': '19%', 'carshare': ...   \n",
       "\n",
       "                                                geometry  shape_id  \n",
       "ADDRESS_ID                                                          \n",
       "243225      POINT (-77.03726510819578 38.93643575527931)         8  \n",
       "284325      POINT (-77.02464966400156 38.92031826898436)         8  \n",
       "294461      POINT (-77.08195893397365 38.93586687687617)         8  \n",
       "235844      POINT (-77.03588045315645 38.92362582942218)         8  \n",
       "220630      POINT (-77.06125006503876 38.94373173501572)         8  "
      ]
     },
     "execution_count": 16,
     "metadata": {},
     "output_type": "execute_result"
    }
   ],
   "source": [
    "points_g.head()"
   ]
  },
  {
   "cell_type": "code",
   "execution_count": 17,
   "metadata": {},
   "outputs": [
    {
     "data": {
      "text/plain": [
       "0    POLYGON ((-77.03190000000001 38.9072, -77.0344...\n",
       "1    POLYGON ((-77.02440000000001 38.90286987298108...\n",
       "2    POLYGON ((-77.02440000000001 38.91153012701893...\n",
       "3    POLYGON ((-77.03190000000001 38.91586025403785...\n",
       "4    POLYGON ((-77.0394 38.91153012701893, -77.0419...\n",
       "Name: geometry, dtype: object"
      ]
     },
     "execution_count": 17,
     "metadata": {},
     "output_type": "execute_result"
    }
   ],
   "source": [
    "points_g['shape_id'] = None\n",
    "out['geometry'].head()"
   ]
  },
  {
   "cell_type": "code",
   "execution_count": 22,
   "metadata": {},
   "outputs": [
    {
     "data": {
      "text/plain": [
       "Series([], Name: shape_id, dtype: int64)"
      ]
     },
     "execution_count": 22,
     "metadata": {},
     "output_type": "execute_result"
    }
   ],
   "source": [
    "# def find_shape(in_point):\n",
    "#     for shape in out.iterrows:\n",
    "#         if in_point.within(shape['geometry']):\n",
    "#             return shape\n",
    "\n",
    "def find_shape(in_point):\n",
    "    for i in out.index:\n",
    "        if in_point.within(out.iloc[i].geometry):\n",
    "            return i\n",
    "        \n",
    "\n",
    "\n",
    "\n",
    "\n",
    "\"\"\"Changing the hex assignment over to a mathematical \n",
    "formula should run a lot faster then having geopandas \n",
    "assign the hexes and it should make it so the speed loss\n",
    "from increasing grid size should be minimal.\"\"\"\n",
    "\n",
    "center_core = single_hex(0,0,hex_size)\n",
    "import pandas as pd\n",
    "\n",
    "\n",
    "\n",
    "def find_shape_math(center_offset, city_center, hex_size):\n",
    "    x = center_offset[0] - city_center[0]\n",
    "    y = center_offeset[1] - city_center[1]\n",
    "    \n",
    "    x_full = x//(hex_size*2.0)\n",
    "    y_full = y//(2.0 * hex_size*cos( pi/6))\n",
    "                    \n",
    "    x_rem = x%(hex_size*2.0)\n",
    "    y_rem = y%(hex_size*cos( pi/6))\n",
    "\n",
    "points_g.shape_id.value_counts()"
   ]
  },
  {
   "cell_type": "code",
   "execution_count": null,
   "metadata": {},
   "outputs": [],
   "source": []
  },
  {
   "cell_type": "code",
   "execution_count": 23,
   "metadata": {},
   "outputs": [],
   "source": [
    "points_g['shape_id'] = points_g['geometry'].apply(lambda x: find_shape(x))\n"
   ]
  },
  {
   "cell_type": "code",
   "execution_count": null,
   "metadata": {},
   "outputs": [],
   "source": [
    "points_g.head()\n",
    "\n",
    "points.to_pickle('points_pickle')\n",
    "\n",
    "# points_g.head(100).apply(lambda x: find_shape(x))"
   ]
  },
  {
   "cell_type": "code",
   "execution_count": null,
   "metadata": {},
   "outputs": [],
   "source": []
  },
  {
   "cell_type": "code",
   "execution_count": 1,
   "metadata": {},
   "outputs": [
    {
     "ename": "NameError",
     "evalue": "name 'points_g' is not defined",
     "output_type": "error",
     "traceback": [
      "\u001b[1;31m---------------------------------------------------------------------------\u001b[0m",
      "\u001b[1;31mNameError\u001b[0m                                 Traceback (most recent call last)",
      "\u001b[1;32m<ipython-input-1-0d8fdb980f67>\u001b[0m in \u001b[0;36m<module>\u001b[1;34m()\u001b[0m\n\u001b[1;32m----> 1\u001b[1;33m \u001b[0mpoints_g\u001b[0m\u001b[1;33m.\u001b[0m\u001b[0mhead\u001b[0m\u001b[1;33m(\u001b[0m\u001b[1;33m)\u001b[0m\u001b[1;33m\u001b[0m\u001b[0m\n\u001b[0m",
      "\u001b[1;31mNameError\u001b[0m: name 'points_g' is not defined"
     ]
    }
   ],
   "source": [
    "points_g.head()"
   ]
  },
  {
   "cell_type": "code",
   "execution_count": null,
   "metadata": {},
   "outputs": [],
   "source": []
  },
  {
   "cell_type": "code",
   "execution_count": null,
   "metadata": {},
   "outputs": [],
   "source": []
  }
 ],
 "metadata": {
  "kernelspec": {
   "display_name": "Python 3",
   "language": "python",
   "name": "python3"
  },
  "language_info": {
   "codemirror_mode": {
    "name": "ipython",
    "version": 3
   },
   "file_extension": ".py",
   "mimetype": "text/x-python",
   "name": "python",
   "nbconvert_exporter": "python",
   "pygments_lexer": "ipython3",
   "version": "3.6.4"
  }
 },
 "nbformat": 4,
 "nbformat_minor": 2
}
