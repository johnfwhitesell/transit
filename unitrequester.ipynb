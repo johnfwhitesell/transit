{
 "cells": [
  {
   "cell_type": "code",
   "execution_count": 3,
   "metadata": {},
   "outputs": [],
   "source": [
    "import requests\n",
    "import json\n",
    "import pandas as pd\n",
    "url='https://maps2.dcgis.dc.gov/dcgis/rest/services/DCGIS_DATA/Property_and_Land_WebMercator/MapServer/68/query?where=1%3D1&outFields=*&outSR=4326&f=json'"
   ]
  },
  {
   "cell_type": "code",
   "execution_count": 36,
   "metadata": {},
   "outputs": [],
   "source": [
    "url_response = requests.get(url)"
   ]
  },
  {
   "cell_type": "code",
   "execution_count": 86,
   "metadata": {},
   "outputs": [],
   "source": [
    "url_json = url_response.json()\n",
    "df = pd.io.json.json_normalize(url_json['features'])\n",
    "df.columns = df.columns.map(lambda x: x[11:])"
   ]
  },
  {
   "cell_type": "code",
   "execution_count": 87,
   "metadata": {},
   "outputs": [
    {
     "data": {
      "text/html": [
       "<div>\n",
       "<style scoped>\n",
       "    .dataframe tbody tr th:only-of-type {\n",
       "        vertical-align: middle;\n",
       "    }\n",
       "\n",
       "    .dataframe tbody tr th {\n",
       "        vertical-align: top;\n",
       "    }\n",
       "\n",
       "    .dataframe thead th {\n",
       "        text-align: right;\n",
       "    }\n",
       "</style>\n",
       "<table border=\"1\" class=\"dataframe\">\n",
       "  <thead>\n",
       "    <tr style=\"text-align: right;\">\n",
       "      <th></th>\n",
       "      <th>ADDRESS_ID</th>\n",
       "      <th>FULLADDRESS</th>\n",
       "      <th>METADATA_ID</th>\n",
       "      <th>OBJECTID</th>\n",
       "      <th>SSL</th>\n",
       "      <th>STATUS</th>\n",
       "      <th>UNITNUM</th>\n",
       "      <th>UNITTYPE</th>\n",
       "      <th>UNIT_ID</th>\n",
       "    </tr>\n",
       "  </thead>\n",
       "  <tbody>\n",
       "    <tr>\n",
       "      <th>0</th>\n",
       "      <td>145743</td>\n",
       "      <td>2017 37TH STREET SE</td>\n",
       "      <td>316669</td>\n",
       "      <td>1</td>\n",
       "      <td>5671    2022</td>\n",
       "      <td>ACTIVE</td>\n",
       "      <td>102</td>\n",
       "      <td>CONDO</td>\n",
       "      <td>1271</td>\n",
       "    </tr>\n",
       "    <tr>\n",
       "      <th>1</th>\n",
       "      <td>145743</td>\n",
       "      <td>2017 37TH STREET SE</td>\n",
       "      <td>316670</td>\n",
       "      <td>2</td>\n",
       "      <td>5671    2023</td>\n",
       "      <td>ACTIVE</td>\n",
       "      <td>201</td>\n",
       "      <td>CONDO</td>\n",
       "      <td>1272</td>\n",
       "    </tr>\n",
       "    <tr>\n",
       "      <th>2</th>\n",
       "      <td>145743</td>\n",
       "      <td>2017 37TH STREET SE</td>\n",
       "      <td>316671</td>\n",
       "      <td>3</td>\n",
       "      <td>5671    2024</td>\n",
       "      <td>ACTIVE</td>\n",
       "      <td>202</td>\n",
       "      <td>CONDO</td>\n",
       "      <td>1273</td>\n",
       "    </tr>\n",
       "    <tr>\n",
       "      <th>3</th>\n",
       "      <td>145743</td>\n",
       "      <td>2017 37TH STREET SE</td>\n",
       "      <td>316672</td>\n",
       "      <td>4</td>\n",
       "      <td>5671    2025</td>\n",
       "      <td>ACTIVE</td>\n",
       "      <td>301</td>\n",
       "      <td>CONDO</td>\n",
       "      <td>1274</td>\n",
       "    </tr>\n",
       "    <tr>\n",
       "      <th>4</th>\n",
       "      <td>145743</td>\n",
       "      <td>2017 37TH STREET SE</td>\n",
       "      <td>316673</td>\n",
       "      <td>5</td>\n",
       "      <td>5671    2026</td>\n",
       "      <td>ACTIVE</td>\n",
       "      <td>302</td>\n",
       "      <td>CONDO</td>\n",
       "      <td>1275</td>\n",
       "    </tr>\n",
       "  </tbody>\n",
       "</table>\n",
       "</div>"
      ],
      "text/plain": [
       "   ADDRESS_ID          FULLADDRESS  METADATA_ID  OBJECTID           SSL  \\\n",
       "0      145743  2017 37TH STREET SE       316669         1  5671    2022   \n",
       "1      145743  2017 37TH STREET SE       316670         2  5671    2023   \n",
       "2      145743  2017 37TH STREET SE       316671         3  5671    2024   \n",
       "3      145743  2017 37TH STREET SE       316672         4  5671    2025   \n",
       "4      145743  2017 37TH STREET SE       316673         5  5671    2026   \n",
       "\n",
       "   STATUS UNITNUM UNITTYPE  UNIT_ID  \n",
       "0  ACTIVE     102    CONDO     1271  \n",
       "1  ACTIVE     201    CONDO     1272  \n",
       "2  ACTIVE     202    CONDO     1273  \n",
       "3  ACTIVE     301    CONDO     1274  \n",
       "4  ACTIVE     302    CONDO     1275  "
      ]
     },
     "execution_count": 87,
     "metadata": {},
     "output_type": "execute_result"
    }
   ],
   "source": [
    "df.head()"
   ]
  },
  {
   "cell_type": "code",
   "execution_count": 38,
   "metadata": {},
   "outputs": [
    {
     "data": {
      "text/plain": [
       "count      1000\n",
       "unique        2\n",
       "top       CONDO\n",
       "freq        997\n",
       "Name: attributes.UNITTYPE, dtype: object"
      ]
     },
     "execution_count": 38,
     "metadata": {},
     "output_type": "execute_result"
    }
   ],
   "source": [
    "df['attributes.UNITTYPE'].describe()"
   ]
  },
  {
   "cell_type": "code",
   "execution_count": null,
   "metadata": {},
   "outputs": [],
   "source": []
  }
 ],
 "metadata": {
  "kernelspec": {
   "display_name": "Python 3",
   "language": "python",
   "name": "python3"
  },
  "language_info": {
   "codemirror_mode": {
    "name": "ipython",
    "version": 3
   },
   "file_extension": ".py",
   "mimetype": "text/x-python",
   "name": "python",
   "nbconvert_exporter": "python",
   "pygments_lexer": "ipython3",
   "version": "3.6.4"
  }
 },
 "nbformat": 4,
 "nbformat_minor": 2
}
