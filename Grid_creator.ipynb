{
 "cells": [
  {
   "cell_type": "code",
   "execution_count": 47,
   "metadata": {},
   "outputs": [],
   "source": [
    "import geopandas as gpd\n",
    "from geojson import GeoJSON\n",
    "from numpy import pi, cos, sin\n",
    "from shapely.geometry import Polygon\n",
    "import json"
   ]
  },
  {
   "cell_type": "code",
   "execution_count": 48,
   "metadata": {},
   "outputs": [],
   "source": [
    "\n",
    "\n",
    "def single_hex(x, y, r):\n",
    "    verts = []\n",
    "    for i in range(6):\n",
    "        angle = i * 2 * pi / 6\n",
    "        xc = x + cos(angle) * r\n",
    "        yc = y + sin(angle) * r\n",
    "        verts.append((xc, yc))\n",
    "    return verts\n",
    "\n",
    "\n",
    "def make_grid(center, radius_count=20, hex_radius=0.005):\n",
    "    results = []\n",
    "    hex_list = []\n",
    "    hex_list.append(single_hex(center[0],center[1], hex_radius))\n",
    "    for n in range(1,radius_count,1): # get the corner hexes of a band this distance from center\n",
    "        c2c = n*2*hex_radius*sin(pi/3) # distance of center of these verts from overall center\n",
    "        verts = []\n",
    "        for m in range(6):\n",
    "            angle = ((m/6)-(1/12)) * (2.0*pi)\n",
    "            v_x = center[0] + cos(angle)*c2c # coordinates of one of the six corner hexes\n",
    "            v_y = center[1] + sin(angle)*c2c\n",
    "            verts.append((v_x, v_y))\n",
    "        for i,this_hex in enumerate(verts):# fill in the hexes between the corners\n",
    "            next_hex = verts[(i+1)%6] # this allows wraparound when finding the next hex counterclockwise\n",
    "            centers = []\n",
    "            side_length = n\n",
    "            gap_x = (next_hex[0]-this_hex[0])/side_length\n",
    "            gap_y = (next_hex[1]-this_hex[1])/side_length\n",
    "            for j in range(side_length):\n",
    "                x_coord = this_hex[0]+gap_x*j\n",
    "                y_coord = this_hex[1]+gap_y*j\n",
    "                hex_list.append(single_hex(x_coord,y_coord,hex_radius))\n",
    "    for hex_cords in hex_list:\n",
    "        results.append(Polygon(hex_cords))\n",
    "    return results\n",
    "\n",
    "\n",
    "\n"
   ]
  },
  {
   "cell_type": "code",
   "execution_count": 53,
   "metadata": {},
   "outputs": [],
   "source": [
    "\n",
    "class city:\n",
    "    def __init__(self, name, latitude, longitude, radius = 20, hex_size = 0.005):\n",
    "        # a word to the wise, latitude, the y-coordinate, conventionally comes first.  West is negative longitude.\n",
    "        self.name = str(name)\n",
    "        self.latitude = float(latitude)\n",
    "        self.longitude = float(longitude)\n",
    "        cities.append(self)\n",
    "        self.radius = radius\n",
    "        self.hex_size = hex_size\n",
    "    def hexify(self):\n",
    "        self.shapes = gpd.GeoDataFrame(make_grid((self.latitude,self.longitude, self.radius)), columns=['geometry'])\n",
    "        self.shapes['hex_number'] = self.shapes.index\n",
    "    def self_to_json(self):        \n",
    "        with open(self.name+'_hex.json', 'w') as outfile:\n",
    "            json.dump(json.loads(self.shapes.to_json()), outfile)\n",
    "        \n",
    "    def clear_frame(self):\n",
    "        self.shapes = None\n",
    "        \n"
   ]
  },
  {
   "cell_type": "code",
   "execution_count": 54,
   "metadata": {},
   "outputs": [
    {
     "data": {
      "text/plain": [
       "[<__main__.city at 0x1e897a8f630>,\n",
       " <__main__.city at 0x1e897a1f518>,\n",
       " <__main__.city at 0x1e897ae1ba8>]"
      ]
     },
     "execution_count": 54,
     "metadata": {},
     "output_type": "execute_result"
    }
   ],
   "source": [
    "cities = []\n",
    "city('Washington', latitude=-77.0369, longitude=38.9072, radius=40, hex_size = 0.0025)\n",
    "city('San_Francisco', latitude = -122.4194, longitude = 37.7749, radius=40, hex_size = 0.0025)\n",
    "city('New_York', latitude=-74.0060, longitude = 40.7128, radius=40, hex_size = 0.0025)\n",
    "\n",
    "cities"
   ]
  },
  {
   "cell_type": "code",
   "execution_count": 55,
   "metadata": {},
   "outputs": [],
   "source": [
    "for burb in cities:\n",
    "    burb.hexify()\n",
    "    burb.self_to_json()\n",
    "    burb.clear_frame()"
   ]
  },
  {
   "cell_type": "code",
   "execution_count": null,
   "metadata": {},
   "outputs": [],
   "source": []
  },
  {
   "cell_type": "code",
   "execution_count": null,
   "metadata": {},
   "outputs": [],
   "source": []
  },
  {
   "cell_type": "code",
   "execution_count": null,
   "metadata": {},
   "outputs": [],
   "source": []
  }
 ],
 "metadata": {
  "kernelspec": {
   "display_name": "Python 3",
   "language": "python",
   "name": "python3"
  },
  "language_info": {
   "codemirror_mode": {
    "name": "ipython",
    "version": 3
   },
   "file_extension": ".py",
   "mimetype": "text/x-python",
   "name": "python",
   "nbconvert_exporter": "python",
   "pygments_lexer": "ipython3",
   "version": "3.6.4"
  }
 },
 "nbformat": 4,
 "nbformat_minor": 2
}
