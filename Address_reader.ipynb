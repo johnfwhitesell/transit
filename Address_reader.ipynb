{
 "cells": [
  {
   "cell_type": "code",
   "execution_count": 40,
   "metadata": {},
   "outputs": [],
   "source": [
    "DC_path = \"C:\\\\Users\\\\John\\\\Documents\\\\notGitHub\\\\addresses\\\\us\\\\dc\\\\statewide.csv\"\n",
    "DC_list = \"C:\\\\Users\\\\John\\\\Documents\\\\notGitHub\\\\DC_addresses.csv\"\n",
    "DC_shape = \"C:\\\\Users\\\\John\\\\Documents\\\\notGitHub\\\\address_shape\\\\Address_Points.xml\"\n",
    "DC_web = \"C:\\\\Users\\\\John\\\\Documents\\\\notGitHub\\\\DC_web.json\"\n"
   ]
  },
  {
   "cell_type": "code",
   "execution_count": 16,
   "metadata": {},
   "outputs": [],
   "source": [
    "import pandas as pd\n",
    "import geopandas as gpd\n",
    "DC = pd.read_csv(DC_list)"
   ]
  },
  {
   "cell_type": "code",
   "execution_count": 17,
   "metadata": {},
   "outputs": [
    {
     "data": {
      "text/plain": [
       "Index(['STATE', 'COUNTY', 'TRACT', 'BLOCK', 'GEOID', 'ORIGINAL_COUNT_OF_HUs',\n",
       "       'CURRENT_COUNT_OF_HUs', 'LOCAL_COUNT_OF_HUs', 'DIFFERENCE_IN_HUs',\n",
       "       'ORIGINAL_COUNT_OF_GQs', 'CURRENT_COUNT_OF_GQs', 'LOCAL_COUNT_OF_GQs',\n",
       "       'DIFFERENCE_IN_GQs'],\n",
       "      dtype='object')"
      ]
     },
     "execution_count": 17,
     "metadata": {},
     "output_type": "execute_result"
    }
   ],
   "source": [
    "DC.columns"
   ]
  },
  {
   "cell_type": "code",
   "execution_count": 18,
   "metadata": {},
   "outputs": [
    {
     "data": {
      "text/html": [
       "<div>\n",
       "<style scoped>\n",
       "    .dataframe tbody tr th:only-of-type {\n",
       "        vertical-align: middle;\n",
       "    }\n",
       "\n",
       "    .dataframe tbody tr th {\n",
       "        vertical-align: top;\n",
       "    }\n",
       "\n",
       "    .dataframe thead th {\n",
       "        text-align: right;\n",
       "    }\n",
       "</style>\n",
       "<table border=\"1\" class=\"dataframe\">\n",
       "  <thead>\n",
       "    <tr style=\"text-align: right;\">\n",
       "      <th></th>\n",
       "      <th>STATE</th>\n",
       "      <th>COUNTY</th>\n",
       "      <th>TRACT</th>\n",
       "      <th>BLOCK</th>\n",
       "      <th>GEOID</th>\n",
       "      <th>ORIGINAL_COUNT_OF_HUs</th>\n",
       "      <th>CURRENT_COUNT_OF_HUs</th>\n",
       "      <th>LOCAL_COUNT_OF_HUs</th>\n",
       "      <th>DIFFERENCE_IN_HUs</th>\n",
       "      <th>ORIGINAL_COUNT_OF_GQs</th>\n",
       "      <th>CURRENT_COUNT_OF_GQs</th>\n",
       "      <th>LOCAL_COUNT_OF_GQs</th>\n",
       "      <th>DIFFERENCE_IN_GQs</th>\n",
       "    </tr>\n",
       "  </thead>\n",
       "  <tbody>\n",
       "    <tr>\n",
       "      <th>0</th>\n",
       "      <td>11.0</td>\n",
       "      <td>1.0</td>\n",
       "      <td>1.0</td>\n",
       "      <td>1000.0</td>\n",
       "      <td>110010001001000</td>\n",
       "      <td>212</td>\n",
       "      <td>212</td>\n",
       "      <td>0</td>\n",
       "      <td>212</td>\n",
       "      <td>0</td>\n",
       "      <td>0</td>\n",
       "      <td>0</td>\n",
       "      <td>0</td>\n",
       "    </tr>\n",
       "    <tr>\n",
       "      <th>1</th>\n",
       "      <td>11.0</td>\n",
       "      <td>1.0</td>\n",
       "      <td>1.0</td>\n",
       "      <td>1001.0</td>\n",
       "      <td>110010001001001</td>\n",
       "      <td>15</td>\n",
       "      <td>15</td>\n",
       "      <td>0</td>\n",
       "      <td>15</td>\n",
       "      <td>0</td>\n",
       "      <td>0</td>\n",
       "      <td>0</td>\n",
       "      <td>0</td>\n",
       "    </tr>\n",
       "    <tr>\n",
       "      <th>2</th>\n",
       "      <td>11.0</td>\n",
       "      <td>1.0</td>\n",
       "      <td>1.0</td>\n",
       "      <td>1002.0</td>\n",
       "      <td>110010001001002</td>\n",
       "      <td>87</td>\n",
       "      <td>87</td>\n",
       "      <td>0</td>\n",
       "      <td>87</td>\n",
       "      <td>0</td>\n",
       "      <td>0</td>\n",
       "      <td>0</td>\n",
       "      <td>0</td>\n",
       "    </tr>\n",
       "    <tr>\n",
       "      <th>3</th>\n",
       "      <td>11.0</td>\n",
       "      <td>1.0</td>\n",
       "      <td>1.0</td>\n",
       "      <td>1003.0</td>\n",
       "      <td>110010001001003</td>\n",
       "      <td>83</td>\n",
       "      <td>83</td>\n",
       "      <td>0</td>\n",
       "      <td>83</td>\n",
       "      <td>0</td>\n",
       "      <td>0</td>\n",
       "      <td>0</td>\n",
       "      <td>0</td>\n",
       "    </tr>\n",
       "    <tr>\n",
       "      <th>4</th>\n",
       "      <td>11.0</td>\n",
       "      <td>1.0</td>\n",
       "      <td>1.0</td>\n",
       "      <td>1004.0</td>\n",
       "      <td>110010001001004</td>\n",
       "      <td>56</td>\n",
       "      <td>56</td>\n",
       "      <td>0</td>\n",
       "      <td>56</td>\n",
       "      <td>0</td>\n",
       "      <td>0</td>\n",
       "      <td>0</td>\n",
       "      <td>0</td>\n",
       "    </tr>\n",
       "  </tbody>\n",
       "</table>\n",
       "</div>"
      ],
      "text/plain": [
       "   STATE  COUNTY  TRACT   BLOCK            GEOID  ORIGINAL_COUNT_OF_HUs  \\\n",
       "0   11.0     1.0    1.0  1000.0  110010001001000                    212   \n",
       "1   11.0     1.0    1.0  1001.0  110010001001001                     15   \n",
       "2   11.0     1.0    1.0  1002.0  110010001001002                     87   \n",
       "3   11.0     1.0    1.0  1003.0  110010001001003                     83   \n",
       "4   11.0     1.0    1.0  1004.0  110010001001004                     56   \n",
       "\n",
       "   CURRENT_COUNT_OF_HUs  LOCAL_COUNT_OF_HUs  DIFFERENCE_IN_HUs  \\\n",
       "0                   212                   0                212   \n",
       "1                    15                   0                 15   \n",
       "2                    87                   0                 87   \n",
       "3                    83                   0                 83   \n",
       "4                    56                   0                 56   \n",
       "\n",
       "   ORIGINAL_COUNT_OF_GQs  CURRENT_COUNT_OF_GQs  LOCAL_COUNT_OF_GQs  \\\n",
       "0                      0                     0                   0   \n",
       "1                      0                     0                   0   \n",
       "2                      0                     0                   0   \n",
       "3                      0                     0                   0   \n",
       "4                      0                     0                   0   \n",
       "\n",
       "   DIFFERENCE_IN_GQs  \n",
       "0                  0  \n",
       "1                  0  \n",
       "2                  0  \n",
       "3                  0  \n",
       "4                  0  "
      ]
     },
     "execution_count": 18,
     "metadata": {},
     "output_type": "execute_result"
    }
   ],
   "source": [
    "DC.head()"
   ]
  },
  {
   "cell_type": "code",
   "execution_count": 27,
   "metadata": {},
   "outputs": [],
   "source": [
    "df_DC = gpd.GeoDataFrame.from_file(DC_shape)"
   ]
  },
  {
   "cell_type": "code",
   "execution_count": 28,
   "metadata": {},
   "outputs": [
    {
     "data": {
      "text/plain": [
       "Index(['OBJECTID_1', 'SITE_ADDRE', 'ADDRESS_ID', 'STATUS', 'SSL', 'TYPE_',\n",
       "       'ENTRANCETY', 'ADDRNUM', 'ADDRNUMSUF', 'STNAME', 'STREET_TYP',\n",
       "       'QUADRANT', 'CITY', 'STATE', 'FULLADDRES', 'SQUARE', 'SUFFIX', 'LOT',\n",
       "       'NATIONALGR', 'ASSESSMENT', 'ASSESSME_1', 'CFSA_NAME', 'HOTSPOT',\n",
       "       'CLUSTER_', 'POLDIST', 'ROC', 'PSA', 'SMD', 'CENSUS_TRA', 'VOTE_PRCNC',\n",
       "       'WARD', 'ZIPCODE', 'ANC', 'NEWCOMMSEL', 'NEWCOMMCAN', 'CENSUS_BLO',\n",
       "       'CENSUS_B_1', 'FOCUS_IMPR', 'SE_ANNO_CA', 'LATITUDE', 'LONGITUDE',\n",
       "       'ACTIVE_RES', 'RES_TYPE', 'ACTIVE_R_1', 'WARD_2002', 'WARD_2012',\n",
       "       'ANC_2002', 'ANC_2012', 'SMD_2002', 'SMD_2012', 'geometry'],\n",
       "      dtype='object')"
      ]
     },
     "execution_count": 28,
     "metadata": {},
     "output_type": "execute_result"
    }
   ],
   "source": [
    "df_DC.columns"
   ]
  },
  {
   "cell_type": "code",
   "execution_count": 33,
   "metadata": {},
   "outputs": [
    {
     "data": {
      "text/plain": [
       "count    147113.000000\n",
       "mean          2.328985\n",
       "std          13.887376\n",
       "min           0.000000\n",
       "25%           1.000000\n",
       "50%           1.000000\n",
       "75%           1.000000\n",
       "max        1181.000000\n",
       "Name: ACTIVE_R_1, dtype: float64"
      ]
     },
     "execution_count": 33,
     "metadata": {},
     "output_type": "execute_result"
    }
   ],
   "source": [
    "df_DC.ACTIVE_R_1.describe()"
   ]
  },
  {
   "cell_type": "code",
   "execution_count": 35,
   "metadata": {},
   "outputs": [
    {
     "data": {
      "text/plain": [
       "count    147113.000000\n",
       "mean          1.576462\n",
       "std          13.975987\n",
       "min           0.000000\n",
       "25%           0.000000\n",
       "50%           0.000000\n",
       "75%           0.000000\n",
       "max        1181.000000\n",
       "Name: ACTIVE_RES, dtype: float64"
      ]
     },
     "execution_count": 35,
     "metadata": {},
     "output_type": "execute_result"
    }
   ],
   "source": [
    "df_DC.ACTIVE_RES.describe()"
   ]
  },
  {
   "cell_type": "code",
   "execution_count": 39,
   "metadata": {},
   "outputs": [
    {
     "data": {
      "text/plain": [
       "RESIDENTIAL        131020\n",
       "NON RESIDENTIAL     15668\n",
       "MIXED USE             426\n",
       "Name: RES_TYPE, dtype: int64"
      ]
     },
     "execution_count": 39,
     "metadata": {},
     "output_type": "execute_result"
    }
   ],
   "source": [
    "df_DC.RES_TYPE.value_counts()"
   ]
  },
  {
   "cell_type": "code",
   "execution_count": 36,
   "metadata": {},
   "outputs": [
    {
     "data": {
      "text/plain": [
       "(126230, 51)"
      ]
     },
     "execution_count": 36,
     "metadata": {},
     "output_type": "execute_result"
    }
   ],
   "source": [
    "df_DC[df_DC.ACTIVE_RES==0].shape"
   ]
  },
  {
   "cell_type": "code",
   "execution_count": 37,
   "metadata": {},
   "outputs": [
    {
     "data": {
      "text/plain": [
       "(18766, 51)"
      ]
     },
     "execution_count": 37,
     "metadata": {},
     "output_type": "execute_result"
    }
   ],
   "source": [
    "df_DC[df_DC.ACTIVE_R_1==0].shape"
   ]
  },
  {
   "cell_type": "code",
   "execution_count": 41,
   "metadata": {},
   "outputs": [],
   "source": [
    "DC_j = gpd.read_file(DC_web)"
   ]
  },
  {
   "cell_type": "code",
   "execution_count": 44,
   "metadata": {},
   "outputs": [
    {
     "data": {
      "text/html": [
       "<div>\n",
       "<style scoped>\n",
       "    .dataframe tbody tr th:only-of-type {\n",
       "        vertical-align: middle;\n",
       "    }\n",
       "\n",
       "    .dataframe tbody tr th {\n",
       "        vertical-align: top;\n",
       "    }\n",
       "\n",
       "    .dataframe thead th {\n",
       "        text-align: right;\n",
       "    }\n",
       "</style>\n",
       "<table border=\"1\" class=\"dataframe\">\n",
       "  <thead>\n",
       "    <tr style=\"text-align: right;\">\n",
       "      <th></th>\n",
       "      <th>ENTRANCETYPE</th>\n",
       "      <th>FULLADDRESS</th>\n",
       "      <th>LATITUDE</th>\n",
       "      <th>LONGITUDE</th>\n",
       "      <th>ACTIVE_RES_UNIT_COUNT</th>\n",
       "      <th>ANC_2012</th>\n",
       "      <th>ACTIVE_RES_OCCUPANCY_COUNT</th>\n",
       "      <th>SMD</th>\n",
       "      <th>PSA</th>\n",
       "      <th>CENSUS_BLOCK</th>\n",
       "      <th>RES_TYPE</th>\n",
       "      <th>geometry</th>\n",
       "    </tr>\n",
       "  </thead>\n",
       "  <tbody>\n",
       "    <tr>\n",
       "      <th>0</th>\n",
       "      <td>OFFICIAL</td>\n",
       "      <td>1627 VARNUM PLACE NE</td>\n",
       "      <td>38.943237</td>\n",
       "      <td>-76.982426</td>\n",
       "      <td>0.0</td>\n",
       "      <td>ANC 5B</td>\n",
       "      <td>1.0</td>\n",
       "      <td>SMD 5B01</td>\n",
       "      <td>Police Service Area 405</td>\n",
       "      <td>009503 2005</td>\n",
       "      <td>RESIDENTIAL</td>\n",
       "      <td>POINT (-76.98242830595981 38.94324443041245)</td>\n",
       "    </tr>\n",
       "  </tbody>\n",
       "</table>\n",
       "</div>"
      ],
      "text/plain": [
       "  ENTRANCETYPE           FULLADDRESS   LATITUDE  LONGITUDE  \\\n",
       "0     OFFICIAL  1627 VARNUM PLACE NE  38.943237 -76.982426   \n",
       "\n",
       "   ACTIVE_RES_UNIT_COUNT ANC_2012  ACTIVE_RES_OCCUPANCY_COUNT       SMD  \\\n",
       "0                    0.0   ANC 5B                         1.0  SMD 5B01   \n",
       "\n",
       "                       PSA CENSUS_BLOCK     RES_TYPE  \\\n",
       "0  Police Service Area 405  009503 2005  RESIDENTIAL   \n",
       "\n",
       "                                       geometry  \n",
       "0  POINT (-76.98242830595981 38.94324443041245)  "
      ]
     },
     "execution_count": 44,
     "metadata": {},
     "output_type": "execute_result"
    }
   ],
   "source": [
    "DC_j.head(1)\n",
    "\n",
    "# occupancy count is the number of units at the address\n",
    "# active_res_unit_count is the number of occupied units at the address"
   ]
  },
  {
   "cell_type": "code",
   "execution_count": 47,
   "metadata": {},
   "outputs": [
    {
     "data": {
      "text/plain": [
       "Index(['ENTRANCETYPE', 'FULLADDRESS', 'LATITUDE', 'LONGITUDE',\n",
       "       'ACTIVE_RES_UNIT_COUNT', 'ANC_2012', 'ACTIVE_RES_OCCUPANCY_COUNT',\n",
       "       'SMD', 'PSA', 'CENSUS_BLOCK', 'RES_TYPE', 'geometry'],\n",
       "      dtype='object')"
      ]
     },
     "execution_count": 47,
     "metadata": {},
     "output_type": "execute_result"
    }
   ],
   "source": [
    "DC_j.columns"
   ]
  },
  {
   "cell_type": "code",
   "execution_count": 49,
   "metadata": {},
   "outputs": [
    {
     "name": "stderr",
     "output_type": "stream",
     "text": [
      "c:\\programdata\\anaconda3\\lib\\site-packages\\matplotlib\\axes\\_axes.py:6448: UserWarning: The 'normed' kwarg is deprecated, and has been replaced by the 'density' kwarg.\n",
      "  warnings.warn(\"The 'normed' kwarg is deprecated, and has been \"\n"
     ]
    },
    {
     "data": {
      "text/plain": [
       "<matplotlib.axes._subplots.AxesSubplot at 0x16840a34978>"
      ]
     },
     "execution_count": 49,
     "metadata": {},
     "output_type": "execute_result"
    },
    {
     "data": {
      "image/png": "[encoded data removed]",
      "text/plain": [
       "<Figure size 432x288 with 1 Axes>"
      ]
     },
     "metadata": {},
     "output_type": "display_data"
    }
   ],
   "source": [
    "import matplotlib\n",
    "import seaborn as sns\n",
    "\n",
    "sns.distplot(DC_j.ACTIVE_RES_OCCUPANCY_COUNT)"
   ]
  },
  {
   "cell_type": "code",
   "execution_count": 50,
   "metadata": {},
   "outputs": [
    {
     "name": "stderr",
     "output_type": "stream",
     "text": [
      "c:\\programdata\\anaconda3\\lib\\site-packages\\matplotlib\\axes\\_axes.py:6448: UserWarning: The 'normed' kwarg is deprecated, and has been replaced by the 'density' kwarg.\n",
      "  warnings.warn(\"The 'normed' kwarg is deprecated, and has been \"\n"
     ]
    },
    {
     "data": {
      "text/plain": [
       "<matplotlib.axes._subplots.AxesSubplot at 0x16840aa4908>"
      ]
     },
     "execution_count": 50,
     "metadata": {},
     "output_type": "execute_result"
    },
    {
     "data": {
      "image/png": "[encoded data removed]",
      "text/plain": [
       "<Figure size 432x288 with 1 Axes>"
      ]
     },
     "metadata": {},
     "output_type": "display_data"
    }
   ],
   "source": [
    "sns.distplot(DC_j.ACTIVE_RES_UNIT_COUNT)"
   ]
  },
  {
   "cell_type": "code",
   "execution_count": 61,
   "metadata": {},
   "outputs": [
    {
     "data": {
      "text/html": [
       "<div>\n",
       "<style scoped>\n",
       "    .dataframe tbody tr th:only-of-type {\n",
       "        vertical-align: middle;\n",
       "    }\n",
       "\n",
       "    .dataframe tbody tr th {\n",
       "        vertical-align: top;\n",
       "    }\n",
       "\n",
       "    .dataframe thead th {\n",
       "        text-align: right;\n",
       "    }\n",
       "</style>\n",
       "<table border=\"1\" class=\"dataframe\">\n",
       "  <thead>\n",
       "    <tr style=\"text-align: right;\">\n",
       "      <th></th>\n",
       "      <th>ACTIVE_RES_UNIT_COUNT</th>\n",
       "      <th>ACTIVE_RES_OCCUPANCY_COUNT</th>\n",
       "    </tr>\n",
       "  </thead>\n",
       "  <tbody>\n",
       "    <tr>\n",
       "      <th>count</th>\n",
       "      <td>1000.000000</td>\n",
       "      <td>1000.000000</td>\n",
       "    </tr>\n",
       "    <tr>\n",
       "      <th>mean</th>\n",
       "      <td>0.567000</td>\n",
       "      <td>1.461000</td>\n",
       "    </tr>\n",
       "    <tr>\n",
       "      <th>std</th>\n",
       "      <td>3.869171</td>\n",
       "      <td>3.757206</td>\n",
       "    </tr>\n",
       "    <tr>\n",
       "      <th>min</th>\n",
       "      <td>0.000000</td>\n",
       "      <td>0.000000</td>\n",
       "    </tr>\n",
       "    <tr>\n",
       "      <th>25%</th>\n",
       "      <td>0.000000</td>\n",
       "      <td>1.000000</td>\n",
       "    </tr>\n",
       "    <tr>\n",
       "      <th>50%</th>\n",
       "      <td>0.000000</td>\n",
       "      <td>1.000000</td>\n",
       "    </tr>\n",
       "    <tr>\n",
       "      <th>75%</th>\n",
       "      <td>0.000000</td>\n",
       "      <td>1.000000</td>\n",
       "    </tr>\n",
       "    <tr>\n",
       "      <th>max</th>\n",
       "      <td>101.000000</td>\n",
       "      <td>101.000000</td>\n",
       "    </tr>\n",
       "  </tbody>\n",
       "</table>\n",
       "</div>"
      ],
      "text/plain": [
       "       ACTIVE_RES_UNIT_COUNT  ACTIVE_RES_OCCUPANCY_COUNT\n",
       "count            1000.000000                 1000.000000\n",
       "mean                0.567000                    1.461000\n",
       "std                 3.869171                    3.757206\n",
       "min                 0.000000                    0.000000\n",
       "25%                 0.000000                    1.000000\n",
       "50%                 0.000000                    1.000000\n",
       "75%                 0.000000                    1.000000\n",
       "max               101.000000                  101.000000"
      ]
     },
     "execution_count": 61,
     "metadata": {},
     "output_type": "execute_result"
    }
   ],
   "source": [
    "DC_j[['ACTIVE_RES_UNIT_COUNT','ACTIVE_RES_OCCUPANCY_COUNT']].describe()"
   ]
  },
  {
   "cell_type": "code",
   "execution_count": 59,
   "metadata": {},
   "outputs": [
    {
     "data": {
      "text/plain": [
       "0.3880903490759753"
      ]
     },
     "execution_count": 59,
     "metadata": {},
     "output_type": "execute_result"
    }
   ],
   "source": [
    "DC_j.ACTIVE_RES_UNIT_COUNT.describe()[\n",
    "    'mean']/DC_j.ACTIVE_RES_OCCUPANCY_COUNT.describe()['mean'] \n",
    "# this can't be accurate, it would mean 62% of city residences are empty"
   ]
  },
  {
   "cell_type": "code",
   "execution_count": 62,
   "metadata": {},
   "outputs": [],
   "source": [
    "part = DC_j[DC_j['ACTIVE_RES_OCCUPANCY_COUNT']!=1][['ACTIVE_RES_UNIT_COUNT','ACTIVE_RES_OCCUPANCY_COUNT']]"
   ]
  },
  {
   "cell_type": "code",
   "execution_count": 63,
   "metadata": {},
   "outputs": [
    {
     "data": {
      "text/html": [
       "<div>\n",
       "<style scoped>\n",
       "    .dataframe tbody tr th:only-of-type {\n",
       "        vertical-align: middle;\n",
       "    }\n",
       "\n",
       "    .dataframe tbody tr th {\n",
       "        vertical-align: top;\n",
       "    }\n",
       "\n",
       "    .dataframe thead th {\n",
       "        text-align: right;\n",
       "    }\n",
       "</style>\n",
       "<table border=\"1\" class=\"dataframe\">\n",
       "  <thead>\n",
       "    <tr style=\"text-align: right;\">\n",
       "      <th></th>\n",
       "      <th>ACTIVE_RES_UNIT_COUNT</th>\n",
       "      <th>ACTIVE_RES_OCCUPANCY_COUNT</th>\n",
       "    </tr>\n",
       "  </thead>\n",
       "  <tbody>\n",
       "    <tr>\n",
       "      <th>count</th>\n",
       "      <td>139.000000</td>\n",
       "      <td>139.000000</td>\n",
       "    </tr>\n",
       "    <tr>\n",
       "      <th>mean</th>\n",
       "      <td>4.079137</td>\n",
       "      <td>4.316547</td>\n",
       "    </tr>\n",
       "    <tr>\n",
       "      <th>std</th>\n",
       "      <td>9.692418</td>\n",
       "      <td>9.625627</td>\n",
       "    </tr>\n",
       "    <tr>\n",
       "      <th>min</th>\n",
       "      <td>0.000000</td>\n",
       "      <td>0.000000</td>\n",
       "    </tr>\n",
       "    <tr>\n",
       "      <th>25%</th>\n",
       "      <td>0.000000</td>\n",
       "      <td>0.000000</td>\n",
       "    </tr>\n",
       "    <tr>\n",
       "      <th>50%</th>\n",
       "      <td>1.000000</td>\n",
       "      <td>2.000000</td>\n",
       "    </tr>\n",
       "    <tr>\n",
       "      <th>75%</th>\n",
       "      <td>4.000000</td>\n",
       "      <td>4.000000</td>\n",
       "    </tr>\n",
       "    <tr>\n",
       "      <th>max</th>\n",
       "      <td>101.000000</td>\n",
       "      <td>101.000000</td>\n",
       "    </tr>\n",
       "  </tbody>\n",
       "</table>\n",
       "</div>"
      ],
      "text/plain": [
       "       ACTIVE_RES_UNIT_COUNT  ACTIVE_RES_OCCUPANCY_COUNT\n",
       "count             139.000000                  139.000000\n",
       "mean                4.079137                    4.316547\n",
       "std                 9.692418                    9.625627\n",
       "min                 0.000000                    0.000000\n",
       "25%                 0.000000                    0.000000\n",
       "50%                 1.000000                    2.000000\n",
       "75%                 4.000000                    4.000000\n",
       "max               101.000000                  101.000000"
      ]
     },
     "execution_count": 63,
     "metadata": {},
     "output_type": "execute_result"
    }
   ],
   "source": [
    "part.describe()"
   ]
  },
  {
   "cell_type": "code",
   "execution_count": 65,
   "metadata": {},
   "outputs": [
    {
     "data": {
      "text/html": [
       "<div>\n",
       "<style scoped>\n",
       "    .dataframe tbody tr th:only-of-type {\n",
       "        vertical-align: middle;\n",
       "    }\n",
       "\n",
       "    .dataframe tbody tr th {\n",
       "        vertical-align: top;\n",
       "    }\n",
       "\n",
       "    .dataframe thead th {\n",
       "        text-align: right;\n",
       "    }\n",
       "</style>\n",
       "<table border=\"1\" class=\"dataframe\">\n",
       "  <thead>\n",
       "    <tr style=\"text-align: right;\">\n",
       "      <th></th>\n",
       "      <th>ACTIVE_RES_UNIT_COUNT</th>\n",
       "      <th>ACTIVE_RES_OCCUPANCY_COUNT</th>\n",
       "    </tr>\n",
       "  </thead>\n",
       "  <tbody>\n",
       "    <tr>\n",
       "      <th>count</th>\n",
       "      <td>99.000000</td>\n",
       "      <td>99.000000</td>\n",
       "    </tr>\n",
       "    <tr>\n",
       "      <th>mean</th>\n",
       "      <td>5.727273</td>\n",
       "      <td>6.060606</td>\n",
       "    </tr>\n",
       "    <tr>\n",
       "      <th>std</th>\n",
       "      <td>11.079323</td>\n",
       "      <td>10.944963</td>\n",
       "    </tr>\n",
       "    <tr>\n",
       "      <th>min</th>\n",
       "      <td>1.000000</td>\n",
       "      <td>2.000000</td>\n",
       "    </tr>\n",
       "    <tr>\n",
       "      <th>25%</th>\n",
       "      <td>1.000000</td>\n",
       "      <td>2.000000</td>\n",
       "    </tr>\n",
       "    <tr>\n",
       "      <th>50%</th>\n",
       "      <td>3.000000</td>\n",
       "      <td>3.000000</td>\n",
       "    </tr>\n",
       "    <tr>\n",
       "      <th>75%</th>\n",
       "      <td>5.000000</td>\n",
       "      <td>5.000000</td>\n",
       "    </tr>\n",
       "    <tr>\n",
       "      <th>max</th>\n",
       "      <td>101.000000</td>\n",
       "      <td>101.000000</td>\n",
       "    </tr>\n",
       "  </tbody>\n",
       "</table>\n",
       "</div>"
      ],
      "text/plain": [
       "       ACTIVE_RES_UNIT_COUNT  ACTIVE_RES_OCCUPANCY_COUNT\n",
       "count              99.000000                   99.000000\n",
       "mean                5.727273                    6.060606\n",
       "std                11.079323                   10.944963\n",
       "min                 1.000000                    2.000000\n",
       "25%                 1.000000                    2.000000\n",
       "50%                 3.000000                    3.000000\n",
       "75%                 5.000000                    5.000000\n",
       "max               101.000000                  101.000000"
      ]
     },
     "execution_count": 65,
     "metadata": {},
     "output_type": "execute_result"
    }
   ],
   "source": [
    "part[part['ACTIVE_RES_OCCUPANCY_COUNT']>1].describe()"
   ]
  },
  {
   "cell_type": "code",
   "execution_count": null,
   "metadata": {},
   "outputs": [],
   "source": []
  },
  {
   "cell_type": "code",
   "execution_count": null,
   "metadata": {},
   "outputs": [],
   "source": []
  }
 ],
 "metadata": {
  "kernelspec": {
   "display_name": "Python 3",
   "language": "python",
   "name": "python3"
  },
  "language_info": {
   "codemirror_mode": {
    "name": "ipython",
    "version": 3
   },
   "file_extension": ".py",
   "mimetype": "text/x-python",
   "name": "python",
   "nbconvert_exporter": "python",
   "pygments_lexer": "ipython3",
   "version": "3.6.4"
  }
 },
 "nbformat": 4,
 "nbformat_minor": 2
}
