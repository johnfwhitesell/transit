{
 "cells": [
  {
   "cell_type": "code",
   "execution_count": 128,
   "metadata": {},
   "outputs": [],
   "source": [
    "import pandas as pd\n",
    "import requests\n",
    "import json"
   ]
  },
  {
   "cell_type": "code",
   "execution_count": 129,
   "metadata": {},
   "outputs": [],
   "source": [
    "df = pd.read_pickle('..\\\\..\\\\notGitHub\\\\partials\\\\done')"
   ]
  },
  {
   "cell_type": "code",
   "execution_count": null,
   "metadata": {},
   "outputs": [],
   "source": []
  },
  {
   "cell_type": "code",
   "execution_count": 131,
   "metadata": {},
   "outputs": [],
   "source": [
    "\"\"\"In order to make handling smoother I had been dropping everything \n",
    "into it's pre-designated singleton list as I downloaded it.  \n",
    "However this was missed with some.  They need to be isolated.\"\"\"\n",
    "\n",
    "df.Info.apply(lambda x: isinstance(x,list)).value_counts()\n",
    "# 21030 valid, 169 invalid\n",
    "\n",
    "#invalid = df[df.Info.apply(lambda x: isinstance(x,list))==False]\n",
    "invalid = df[df['Info'].apply(lambda x: isinstance(x, dict))]\n",
    "failed_responses = df[df[df.Info.apply(lambda x: isinstance(x,list))]['Info'].apply(lambda x: x[0].status_code)!=200]\n",
    "\n",
    "\n",
    "df = df[df.Info.apply(lambda x: isinstance(x,list))==True]"
   ]
  },
  {
   "cell_type": "code",
   "execution_count": 132,
   "metadata": {},
   "outputs": [
    {
     "data": {
      "text/plain": [
       "True    21030\n",
       "Name: Info, dtype: int64"
      ]
     },
     "execution_count": 132,
     "metadata": {},
     "output_type": "execute_result"
    }
   ],
   "source": [
    "df[df.Info.apply(lambda x: isinstance(x,list))]['Info'].apply(lambda x: isinstance(x[0],requests.models.Response)).value_counts()"
   ]
  },
  {
   "cell_type": "code",
   "execution_count": 133,
   "metadata": {},
   "outputs": [],
   "source": [
    "df[df.Info.apply(lambda x: isinstance(x,list))]['Info'].apply(lambda x: x[0].status_code).value_counts()\n",
    "# there are 51 responses that were failures\n",
    "failed_responses = df[df[df.Info.apply(lambda x: isinstance(x,list))]['Info'].apply(lambda x: x[0].status_code)!=200]\n",
    "\n",
    "\n",
    "df = df[df[df.Info.apply(lambda x: isinstance(x,list))]['Info'].apply(lambda x: x[0].status_code)==200]\n"
   ]
  },
  {
   "cell_type": "code",
   "execution_count": 134,
   "metadata": {},
   "outputs": [],
   "source": [
    "df['Info'] = df.Info.apply(lambda x: x[0]).apply(lambda x: x.json())"
   ]
  },
  {
   "cell_type": "code",
   "execution_count": 138,
   "metadata": {},
   "outputs": [],
   "source": [
    "df = pd.concat([df, invalid])"
   ]
  },
  {
   "cell_type": "code",
   "execution_count": 139,
   "metadata": {},
   "outputs": [],
   "source": [
    "df.to_pickle('..\\\\..\\\\notGitHub\\\\partials\\\\DC_pulled_validated.pickle')"
   ]
  },
  {
   "cell_type": "code",
   "execution_count": null,
   "metadata": {},
   "outputs": [],
   "source": []
  },
  {
   "cell_type": "code",
   "execution_count": null,
   "metadata": {},
   "outputs": [],
   "source": []
  },
  {
   "cell_type": "code",
   "execution_count": null,
   "metadata": {},
   "outputs": [],
   "source": []
  }
 ],
 "metadata": {
  "kernelspec": {
   "display_name": "Python 3",
   "language": "python",
   "name": "python3"
  },
  "language_info": {
   "codemirror_mode": {
    "name": "ipython",
    "version": 3
   },
   "file_extension": ".py",
   "mimetype": "text/x-python",
   "name": "python",
   "nbconvert_exporter": "python",
   "pygments_lexer": "ipython3",
   "version": "3.6.4"
  }
 },
 "nbformat": 4,
 "nbformat_minor": 2
}
