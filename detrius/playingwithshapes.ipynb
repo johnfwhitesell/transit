{
 "cells": [
  {
   "cell_type": "code",
   "execution_count": 45,
   "metadata": {},
   "outputs": [],
   "source": [
    "from bokeh.sampledata import us_states\n",
    "from bokeh.io import output_file,show\n",
    "from bokeh.models import (\n",
    "    ColumnDataSource,\n",
    "    HoverTool,\n",
    "    LogColorMapper\n",
    ")\n",
    "\n",
    "from bokeh.palettes import Viridis6 as palette\n",
    "from bokeh.plotting import figure\n",
    "\n",
    "output_file('./temp.html')"
   ]
  },
  {
   "cell_type": "code",
   "execution_count": 46,
   "metadata": {},
   "outputs": [],
   "source": [
    "IL = us_states.data['IL']"
   ]
  },
  {
   "cell_type": "code",
   "execution_count": 53,
   "metadata": {},
   "outputs": [
    {
     "data": {
      "text/plain": [
       "(list, list)"
      ]
     },
     "execution_count": 53,
     "metadata": {},
     "output_type": "execute_result"
    }
   ],
   "source": [
    "type(IL['lons']), type(county_names)\n",
    "'y'=IL['lats']\n",
    "'x'=IL['lons']"
   ]
  },
  {
   "cell_type": "code",
   "execution_count": 55,
   "metadata": {},
   "outputs": [
    {
     "ename": "SyntaxError",
     "evalue": "keyword can't be an expression (<ipython-input-55-10a65508931e>, line 1)",
     "output_type": "error",
     "traceback": [
      "\u001b[1;36m  File \u001b[1;32m\"<ipython-input-55-10a65508931e>\"\u001b[1;36m, line \u001b[1;32m1\u001b[0m\n\u001b[1;33m    source = ColumnDataSource(data= dict('x'=IL['lons'],'y'=IL['lats']))\u001b[0m\n\u001b[1;37m                                        ^\u001b[0m\n\u001b[1;31mSyntaxError\u001b[0m\u001b[1;31m:\u001b[0m keyword can't be an expression\n"
     ]
    }
   ],
   "source": [
    "source = ColumnDataSource(data= dict())"
   ]
  },
  {
   "cell_type": "code",
   "execution_count": 48,
   "metadata": {},
   "outputs": [],
   "source": [
    "p = figure(\n",
    "    title=\"Illanois\",\n",
    "    x_axis_location=None, y_axis_location=None\n",
    ")\n",
    "p.grid.grid_line_color = \"black\"\n",
    "\n",
    "p.patches('x', 'y', source=source,\n",
    "          fill_color = 'green',\n",
    "          fill_alpha=0.7, line_color=\"black\", line_width=0.5)\n",
    "\n",
    "show(p)"
   ]
  },
  {
   "cell_type": "code",
   "execution_count": 50,
   "metadata": {},
   "outputs": [],
   "source": [
    "\n",
    "from bokeh.sampledata.us_counties import data as counties\n",
    "from bokeh.sampledata.unemployment import data as unemployment\n",
    "\n",
    "palette.reverse()\n",
    "\n",
    "counties = {\n",
    "    code: county for code, county in counties.items() if county[\"state\"] == \"tx\"\n",
    "}\n",
    "\n",
    "county_xs = [county[\"lons\"] for county in counties.values()]\n",
    "county_ys = [county[\"lats\"] for county in counties.values()]\n",
    "\n",
    "county_names = [county['name'] for county in counties.values()]\n",
    "county_rates = [unemployment[county_id] for county_id in counties]\n",
    "color_mapper = LogColorMapper(palette=palette)\n",
    "\n",
    "source = ColumnDataSource(data=dict(\n",
    "    x=county_xs,\n",
    "    y=county_ys,\n",
    "    name=county_names,\n",
    "    rate=county_rates,\n",
    "))\n",
    "\n",
    "TOOLS = \"pan,wheel_zoom,reset,hover,save\"\n",
    "\n",
    "p = figure(\n",
    "    title=\"Texas Unemployment, 2009\", tools=TOOLS,\n",
    "    x_axis_location=None, y_axis_location=None\n",
    ")\n",
    "p.grid.grid_line_color = None\n",
    "\n",
    "p.patches('x', 'y', source=source,\n",
    "          fill_color={'field': 'rate', 'transform': color_mapper},\n",
    "          fill_alpha=0.7, line_color=\"white\", line_width=0.5)\n",
    "\n",
    "hover = p.select_one(HoverTool)\n",
    "hover.point_policy = \"follow_mouse\"\n",
    "hover.tooltips = [\n",
    "    (\"Name\", \"@name\"),\n",
    "    (\"Unemployment rate)\", \"@rate%\"),\n",
    "    (\"(Long, Lat)\", \"($x, $y)\"),\n",
    "]\n",
    "\n",
    "show(p)"
   ]
  },
  {
   "cell_type": "code",
   "execution_count": null,
   "metadata": {},
   "outputs": [],
   "source": []
  }
 ],
 "metadata": {
  "kernelspec": {
   "display_name": "Python 3",
   "language": "python",
   "name": "python3"
  },
  "language_info": {
   "codemirror_mode": {
    "name": "ipython",
    "version": 3
   },
   "file_extension": ".py",
   "mimetype": "text/x-python",
   "name": "python",
   "nbconvert_exporter": "python",
   "pygments_lexer": "ipython3",
   "version": "3.6.4"
  }
 },
 "nbformat": 4,
 "nbformat_minor": 2
}
