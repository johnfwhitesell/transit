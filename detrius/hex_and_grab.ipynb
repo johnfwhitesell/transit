{
 "cells": [
  {
   "cell_type": "code",
   "execution_count": 2,
   "metadata": {},
   "outputs": [],
   "source": [
    "from numpy import pi, cos, sin, sqrt\n",
    "import matplotlib.pyplot as plt\n",
    "import pandas as pd\n",
    "import geopandas as gpd\n",
    "from shapely.geometry import Polygon, Point\n",
    "import pandas as pd\n",
    "from math import modf\n",
    "import json\n",
    "from random import uniform\n",
    "import requests\n",
    "from numpy import mean\n",
    "\n",
    "hex_width = 50\n",
    "city_radius = 0.20 # in lat-long degrees\n",
    "\n",
    "hex_size = city_radius/(2*hex_width)\n",
    "\n",
    "washington_y = 38.904978\n",
    "washington_x = -77.039658\n",
    "\n",
    "\n",
    "atlanta_y = 33.7490\n",
    "atlanta_x = -84.3880\n"
   ]
  },
  {
   "cell_type": "code",
   "execution_count": 3,
   "metadata": {},
   "outputs": [],
   "source": [
    "# df = gpd.GeoDataFrame(pd.read_pickle('../transit/points_pickle'),crs={'init' :'epsg:3857'})"
   ]
  },
  {
   "cell_type": "code",
   "execution_count": 4,
   "metadata": {},
   "outputs": [],
   "source": [
    "def axial_to_cube(x,y):\n",
    "    z = -x -y\n",
    "    return (x,y,z)"
   ]
  },
  {
   "cell_type": "code",
   "execution_count": 5,
   "metadata": {},
   "outputs": [],
   "source": [
    "key_path = \"C:\\\\Users\\\\John\\\\Documents\\\\notGitHub\\\\API_key.txt\"\n",
    "key_file = open(key_path, 'r')\n",
    "api_key = key_file.readline()"
   ]
  },
  {
   "cell_type": "code",
   "execution_count": 6,
   "metadata": {},
   "outputs": [],
   "source": [
    "string1 = \"https://mobilityscore.transitscreen.io/api\"\n",
    "string2 = \"/v1/locations.json?coordinates=\"\n",
    "string3 = \"&key=\"\n",
    "string4 = \"&geojson=true\"\n",
    "\n",
    "def api_string(coords):\n",
    "    new_string = string1+string2+coords+string3+api_key+string4\n",
    "    return new_string"
   ]
  },
  {
   "cell_type": "code",
   "execution_count": 7,
   "metadata": {},
   "outputs": [],
   "source": [
    "class hexagon:\n",
    "    def __init__(self, coords, city_center=(atlanta_y, atlanta_x), size=hex_size):\n",
    "        # there will be no coordinate reference system at the \n",
    "        # hex level, that needs to be handled by the grid\n",
    "        self.x_loc = float(coords[0])\n",
    "        self.y_loc = float(coords[1])\n",
    "        self.z_loc = float(coords[2])\n",
    "        self.city_center = city_center\n",
    "        self.size = size\n",
    "        self.self_center()\n",
    "        self.create_vertices()\n",
    "        self.points=[]\n",
    "        self.scores=[]\n",
    "        self.bikeshares=[]\n",
    "        self.carshares=[]\n",
    "        self.masstransits=[]\n",
    "        self.ridehailings=[]\n",
    "    def self_center(self):\n",
    "        self.x_center = self.size * 1.5 * self.x_loc\n",
    "        self.y_center = self.size * sqrt(3) * (self.y_loc + self.x_loc/2)        \n",
    "    def create_vertices(self):\n",
    "        # I am only interested in making \"flat top\" layouts\n",
    "        self.vertices = tuple(self.vertex(n) for n in range(6))\n",
    "    def vertex(self, n):\n",
    "        angle = n*pi/3\n",
    "        i = self.size*cos(angle) + self.x_center + self.city_center[1]\n",
    "        j = self.size*sin(angle) + self.y_center + self.city_center[0]\n",
    "        return(i,j)\n",
    "        \n",
    "    \n",
    "    def random_points(self, n):\n",
    "        for i in n:\n",
    "            rand_x = uniform(-1,1)\n",
    "            rand_y = uniform(-1,1)\n",
    "            point_h = self.center_x + rand_x *self.size\n",
    "            point_v = self.center_y + self.size*sqrt(3) * (rand_y + rand_x / 2)\n",
    "            \n",
    "            self.points.append((point_v,point_h))\n",
    "            # note that this gives the point in lat-long format which means y comes first!\n",
    "            \n",
    "    def coord_string(pair):\n",
    "        # note that this assumes the points are already in lat-long format!\n",
    "        return str(pair[0]) + \",\" + str(pair[1])\n",
    "    \n",
    "    def api_scrape(self):\n",
    "        for coord in self.points:\n",
    "            request_string = api_string(coord_string(pair))\n",
    "            result = requests.get(request_string)\n",
    "            # this needs to use raw score breakdown\n",
    "            if result.status_code == 200:\n",
    "                self.scores.append(result.json()['data']['mobilityScore']['score'])\n",
    "                breakdown = result.json()['data']['mobilityScore']['scoreBreakdown']\n",
    "                self.bikeshares.append(float(breakdown['bikeshare'].strip('%'))/100.0)\n",
    "                self.carshares.append(float(breakdown['carshare'].strip('%'))/100.0)\n",
    "                self.masstransits.append(float(breakdown['masstransit'].strip('%'))/100.0)\n",
    "                self.ridehailings.append(float(breakdown['ridehailing'].strip('%'))/100.0)\n",
    "            else:\n",
    "                print('foobar')\n",
    "            \n",
    "        self.score = mean(self.scores)\n",
    "        self.bikeshare = mean(self.bikeshares)\n",
    "        self.carshare = mean(self.carshares)\n",
    "        self.masstransit = mean(self.masstransits)\n",
    "        self.ridehailing = mean(self.ridehailings)"
   ]
  },
  {
   "cell_type": "code",
   "execution_count": null,
   "metadata": {},
   "outputs": [],
   "source": []
  },
  {
   "cell_type": "code",
   "execution_count": 8,
   "metadata": {},
   "outputs": [],
   "source": [
    "## for testing purposes\n",
    "\n",
    "# hex = hexagon((0,0,0))\n",
    "# hex.random_points(5)\n",
    "# hex.points\n",
    "# hex.api_scrape()\n",
    "# hex.score, hex.bikeshares, hex.carshare, hex.masstransit, hex.ridehailing"
   ]
  },
  {
   "cell_type": "code",
   "execution_count": 9,
   "metadata": {},
   "outputs": [
    {
     "data": {
      "text/plain": [
       "([-76.975, -76.9875, -77.0125, -77.025, -77.0125, -76.9875],\n",
       " [39.0,\n",
       "  39.02165063509461,\n",
       "  39.02165063509461,\n",
       "  39.0,\n",
       "  38.97834936490539,\n",
       "  38.97834936490539])"
      ]
     },
     "execution_count": 9,
     "metadata": {},
     "output_type": "execute_result"
    }
   ],
   "source": [
    "\n",
    "\n",
    "def xy_generator(center,grid,size):\n",
    "    cx = grid[0] * 1.5 * size + center[1] # using lat-long convention for the city centers so x is the second value in center but not grid\n",
    "    cy = size * sqrt(3) * ( grid[1] + grid[0]/2 ) + center[0]\n",
    "    x=[]\n",
    "    y=[]\n",
    "    \n",
    "    for n in range(6):\n",
    "        angle=n*pi/3\n",
    "        x.append(size*cos(angle)+cx)\n",
    "        y.append(size*sin(angle)+cy)\n",
    "    return (x,y)\n",
    "\n",
    "xy_generator((39,-77),(0,0),0.025)"
   ]
  },
  {
   "cell_type": "code",
   "execution_count": 19,
   "metadata": {},
   "outputs": [],
   "source": [
    "from tqdm import tqdm\n",
    "import pickle\n",
    "\n",
    "class grid_axial:\n",
    "    def __init__(self, width, size=0.0025, coordinates = (38.904978, -77.039658)):\n",
    "        self.width=width\n",
    "        self.size=size\n",
    "        self.coordinates = coordinates\n",
    "        self.hex_dataframe_creator()\n",
    "        self.polygons =[]\n",
    "    def set_crs(self, crs):\n",
    "        pass\n",
    "    def make_ring(self,n):\n",
    "        ring = []\n",
    "        for m in range(1,n+1):\n",
    "            ring.append(((n,-m,-n+m),m))\n",
    "            ring.append(((-m,-n+m,n),m))\n",
    "            ring.append(((-n+m,n,-m),m))\n",
    "            ring.append(((-n,m, n-m),m))\n",
    "            ring.append(((m,n-m,-n),m))\n",
    "            ring.append(((n-m,-n,m),m))\n",
    "        return ring\n",
    "    \n",
    "    def fill_grid(self):\n",
    "        hex_list = [((0,0,0),0)]\n",
    "        for n in range(1,self.width+1):\n",
    "            hex_list+=self.make_ring(n)\n",
    "        return hex_list\n",
    "        \n",
    "    def y_generator(self, grid):\n",
    "        center = self.coordinates\n",
    "        size = self.size\n",
    "        cy = size * sqrt(3) * ( grid[1] + grid[0]/2 ) + center[0]\n",
    "        # using lat-long convention for the city centers so x is the second value in center but not grid\n",
    "        y=[]\n",
    "        for n in range(6):\n",
    "            angle=n*pi/3\n",
    "            y.append(size*sin(angle)+cy)\n",
    "        return y\n",
    "    \n",
    "    def x_generator(self,grid):\n",
    "        center = self.coordinates\n",
    "        size = self.size\n",
    "        cx = 1.5 * float(grid[0]) * size + center[1] \n",
    "        # using lat-long convention for the city centers so x is the second value in center but not grid\n",
    "        x=[]\n",
    "\n",
    "        for n in range(6):\n",
    "            angle=n*pi/3\n",
    "            x.append(size*cos(angle)+cx)\n",
    "        return x\n",
    "    \n",
    "    def hex_dataframe_creator(self):\n",
    "        self.hexes = gpd.GeoDataFrame(self.fill_grid(), columns = ['hexagon','radius'])\n",
    "        self.hexes['y'] = self.hexes.hexagon.apply(self.y_generator)\n",
    "        self.hexes['x'] = self.hexes.hexagon.apply(self.x_generator)\n",
    "    \n",
    "    \n",
    "    def poly_wag(self):        \n",
    "        self.hexes['transit_score'] = [poly.score for poly in self.polygons]\n",
    "        self.hexes['bike_score']  = [poly.bikeshare for poly in self.polygons]\n",
    "        self.hexes['carshare_score']  = [poly.carshares for poly in self.polygons]\n",
    "        self.hexes['mass_transit_score']  = [poly.masstransits for poly in self.polygons]\n",
    "        self.hexes['ride_hail_score'] = [poly.ridehailings for poly in self.polygons]\n",
    "    \n",
    "    def save_partial(self):\n",
    "        with open('partial.pkl', 'wb') as f:\n",
    "            pickle.dump(self.polygons, f)    \n",
    "        \n",
    "    def check_randoms(self,n):\n",
    "        hex_list = self.hexes['hexagon'].values\n",
    "        i = 0\n",
    "        for next in tqdm(hex_list):\n",
    "            hex = hexagon(coords=next, city_center=self.coordinates, size=self.size)\n",
    "            hex.random_points(n)\n",
    "            hex.api_scrape()\n",
    "            self.polygons.append(hex)\n",
    "            i+=1\n",
    "            if i==100:\n",
    "                i=0\n",
    "                self.save_partial()\n",
    "        \n",
    "\n",
    "\n",
    "        \n",
    "# atlanta = grid_axial(hex_width,hex_size, coordinates=(atlanta_y,atlanta_x))\n",
    "# atlanta.hexes.head()"
   ]
  },
  {
   "cell_type": "code",
   "execution_count": 20,
   "metadata": {},
   "outputs": [
    {
     "data": {
      "text/html": [
       "<div>\n",
       "<style scoped>\n",
       "    .dataframe tbody tr th:only-of-type {\n",
       "        vertical-align: middle;\n",
       "    }\n",
       "\n",
       "    .dataframe tbody tr th {\n",
       "        vertical-align: top;\n",
       "    }\n",
       "\n",
       "    .dataframe thead th {\n",
       "        text-align: right;\n",
       "    }\n",
       "</style>\n",
       "<table border=\"1\" class=\"dataframe\">\n",
       "  <thead>\n",
       "    <tr style=\"text-align: right;\">\n",
       "      <th></th>\n",
       "      <th>hexagon</th>\n",
       "      <th>radius</th>\n",
       "      <th>y</th>\n",
       "      <th>x</th>\n",
       "    </tr>\n",
       "  </thead>\n",
       "  <tbody>\n",
       "    <tr>\n",
       "      <th>0</th>\n",
       "      <td>(0, 0, 0)</td>\n",
       "      <td>0</td>\n",
       "      <td>[38.904978, 38.90671005080757, 38.906710050807...</td>\n",
       "      <td>[-77.03765800000001, -77.038658, -77.040658000...</td>\n",
       "    </tr>\n",
       "    <tr>\n",
       "      <th>1</th>\n",
       "      <td>(1, -1, 0)</td>\n",
       "      <td>1</td>\n",
       "      <td>[38.90324594919243, 38.904978, 38.904978, 38.9...</td>\n",
       "      <td>[-77.03465800000001, -77.035658, -77.037658000...</td>\n",
       "    </tr>\n",
       "    <tr>\n",
       "      <th>2</th>\n",
       "      <td>(-1, 0, 1)</td>\n",
       "      <td>1</td>\n",
       "      <td>[38.90324594919243, 38.904978, 38.904978, 38.9...</td>\n",
       "      <td>[-77.04065800000001, -77.041658, -77.043658000...</td>\n",
       "    </tr>\n",
       "    <tr>\n",
       "      <th>3</th>\n",
       "      <td>(0, 1, -1)</td>\n",
       "      <td>1</td>\n",
       "      <td>[38.90844210161514, 38.910174152422705, 38.910...</td>\n",
       "      <td>[-77.03765800000001, -77.038658, -77.040658000...</td>\n",
       "    </tr>\n",
       "    <tr>\n",
       "      <th>4</th>\n",
       "      <td>(-1, 1, 0)</td>\n",
       "      <td>1</td>\n",
       "      <td>[38.90671005080757, 38.90844210161514, 38.9084...</td>\n",
       "      <td>[-77.04065800000001, -77.041658, -77.043658000...</td>\n",
       "    </tr>\n",
       "  </tbody>\n",
       "</table>\n",
       "</div>"
      ],
      "text/plain": [
       "      hexagon  radius                                                  y  \\\n",
       "0   (0, 0, 0)       0  [38.904978, 38.90671005080757, 38.906710050807...   \n",
       "1  (1, -1, 0)       1  [38.90324594919243, 38.904978, 38.904978, 38.9...   \n",
       "2  (-1, 0, 1)       1  [38.90324594919243, 38.904978, 38.904978, 38.9...   \n",
       "3  (0, 1, -1)       1  [38.90844210161514, 38.910174152422705, 38.910...   \n",
       "4  (-1, 1, 0)       1  [38.90671005080757, 38.90844210161514, 38.9084...   \n",
       "\n",
       "                                                   x  \n",
       "0  [-77.03765800000001, -77.038658, -77.040658000...  \n",
       "1  [-77.03465800000001, -77.035658, -77.037658000...  \n",
       "2  [-77.04065800000001, -77.041658, -77.043658000...  \n",
       "3  [-77.03765800000001, -77.038658, -77.040658000...  \n",
       "4  [-77.04065800000001, -77.041658, -77.043658000...  "
      ]
     },
     "execution_count": 20,
     "metadata": {},
     "output_type": "execute_result"
    }
   ],
   "source": [
    "dc = grid_axial(hex_width, hex_size, coordinates=(washington_y, washington_x))\n",
    "dc.hexes.head()"
   ]
  },
  {
   "cell_type": "code",
   "execution_count": 23,
   "metadata": {},
   "outputs": [
    {
     "name": "stderr",
     "output_type": "stream",
     "text": [
      "  1%|▌                                                                             | 54/7651 [02:15<5:17:17,  2.51s/it]"
     ]
    },
    {
     "name": "stdout",
     "output_type": "stream",
     "text": [
      "foobar\n"
     ]
    },
    {
     "name": "stderr",
     "output_type": "stream",
     "text": [
      "c:\\programdata\\anaconda3\\lib\\site-packages\\numpy\\core\\fromnumeric.py:2957: RuntimeWarning: Mean of empty slice.\n",
      "  out=out, **kwargs)\n",
      "c:\\programdata\\anaconda3\\lib\\site-packages\\numpy\\core\\_methods.py:80: RuntimeWarning: invalid value encountered in double_scalars\n",
      "  ret = ret.dtype.type(ret / rcount)\n",
      "  5%|████▏                                                                        | 414/7651 [14:12<4:08:18,  2.06s/it]"
     ]
    },
    {
     "name": "stdout",
     "output_type": "stream",
     "text": [
      "foobar\n"
     ]
    },
    {
     "name": "stderr",
     "output_type": "stream",
     "text": [
      " 11%|████████▍                                                                    | 835/7651 [27:52<3:47:34,  2.00s/it]"
     ]
    },
    {
     "name": "stdout",
     "output_type": "stream",
     "text": [
      "foobar\n"
     ]
    },
    {
     "name": "stderr",
     "output_type": "stream",
     "text": [
      " 11%|████████▌                                                                    | 849/7651 [28:18<3:46:49,  2.00s/it]"
     ]
    },
    {
     "name": "stdout",
     "output_type": "stream",
     "text": [
      "foobar\n"
     ]
    },
    {
     "name": "stderr",
     "output_type": "stream",
     "text": [
      " 15%|███████████▎                                                                | 1133/7651 [37:13<3:34:07,  1.97s/it]"
     ]
    },
    {
     "name": "stdout",
     "output_type": "stream",
     "text": [
      "foobar\n"
     ]
    },
    {
     "name": "stderr",
     "output_type": "stream",
     "text": [
      " 16%|████████████▏                                                               | 1222/7651 [40:32<3:33:18,  1.99s/it]"
     ]
    },
    {
     "name": "stdout",
     "output_type": "stream",
     "text": [
      "foobar\n"
     ]
    },
    {
     "name": "stderr",
     "output_type": "stream",
     "text": [
      " 20%|███████████████▎                                                            | 1540/7651 [51:02<3:22:33,  1.99s/it]"
     ]
    },
    {
     "name": "stdout",
     "output_type": "stream",
     "text": [
      "foobar\n"
     ]
    },
    {
     "name": "stderr",
     "output_type": "stream",
     "text": [
      " 21%|███████████████▉                                                            | 1605/7651 [53:08<3:20:10,  1.99s/it]"
     ]
    },
    {
     "name": "stdout",
     "output_type": "stream",
     "text": [
      "foobar\n"
     ]
    },
    {
     "name": "stderr",
     "output_type": "stream",
     "text": [
      " 26%|███████████████████▏                                                      | 1978/7651 [1:04:54<3:06:08,  1.97s/it]"
     ]
    },
    {
     "name": "stdout",
     "output_type": "stream",
     "text": [
      "foobar\n"
     ]
    },
    {
     "name": "stderr",
     "output_type": "stream",
     "text": [
      " 32%|███████████████████████▌                                                  | 2439/7651 [1:19:00<2:48:51,  1.94s/it]"
     ]
    },
    {
     "name": "stdout",
     "output_type": "stream",
     "text": [
      "foobar\n"
     ]
    },
    {
     "name": "stderr",
     "output_type": "stream",
     "text": [
      " 35%|██████████████████████████                                                | 2692/7651 [1:26:18<2:38:59,  1.92s/it]"
     ]
    },
    {
     "name": "stdout",
     "output_type": "stream",
     "text": [
      "foobar\n"
     ]
    },
    {
     "name": "stderr",
     "output_type": "stream",
     "text": [
      " 36%|██████████████████████████▍                                               | 2732/7651 [1:27:32<2:37:37,  1.92s/it]"
     ]
    },
    {
     "name": "stdout",
     "output_type": "stream",
     "text": [
      "foobar\n"
     ]
    },
    {
     "name": "stderr",
     "output_type": "stream",
     "text": [
      " 36%|██████████████████████████▊                                               | 2772/7651 [1:28:49<2:36:19,  1.92s/it]"
     ]
    },
    {
     "name": "stdout",
     "output_type": "stream",
     "text": [
      "foobar\n"
     ]
    },
    {
     "name": "stderr",
     "output_type": "stream",
     "text": [
      " 39%|████████████████████████████▋                                             | 2969/7651 [1:34:38<2:29:14,  1.91s/it]"
     ]
    },
    {
     "name": "stdout",
     "output_type": "stream",
     "text": [
      "foobar\n"
     ]
    },
    {
     "name": "stderr",
     "output_type": "stream",
     "text": [
      " 41%|██████████████████████████████                                            | 3108/7651 [1:39:00<2:24:43,  1.91s/it]"
     ]
    },
    {
     "name": "stdout",
     "output_type": "stream",
     "text": [
      "foobar\n"
     ]
    },
    {
     "name": "stderr",
     "output_type": "stream",
     "text": [
      " 46%|█████████████████████████████████▋                                        | 3482/7651 [1:50:21<2:12:08,  1.90s/it]"
     ]
    },
    {
     "name": "stdout",
     "output_type": "stream",
     "text": [
      "foobar\n"
     ]
    },
    {
     "name": "stderr",
     "output_type": "stream",
     "text": [
      " 46%|█████████████████████████████████▉                                        | 3503/7651 [1:51:00<2:11:27,  1.90s/it]"
     ]
    },
    {
     "name": "stdout",
     "output_type": "stream",
     "text": [
      "foobar\n"
     ]
    },
    {
     "name": "stderr",
     "output_type": "stream",
     "text": [
      " 46%|██████████████████████████████████                                        | 3526/7651 [1:51:43<2:10:42,  1.90s/it]"
     ]
    },
    {
     "name": "stdout",
     "output_type": "stream",
     "text": [
      "foobar\n"
     ]
    },
    {
     "name": "stderr",
     "output_type": "stream",
     "text": [
      " 47%|██████████████████████████████████▋                                       | 3589/7651 [1:53:37<2:08:35,  1.90s/it]"
     ]
    },
    {
     "name": "stdout",
     "output_type": "stream",
     "text": [
      "foobar\n"
     ]
    },
    {
     "name": "stderr",
     "output_type": "stream",
     "text": [
      " 50%|█████████████████████████████████████▏                                    | 3839/7651 [2:00:47<1:59:56,  1.89s/it]"
     ]
    },
    {
     "name": "stdout",
     "output_type": "stream",
     "text": [
      "foobar\n"
     ]
    },
    {
     "name": "stderr",
     "output_type": "stream",
     "text": [
      " 57%|██████████████████████████████████████████                                | 4348/7651 [2:14:46<1:42:23,  1.86s/it]"
     ]
    },
    {
     "name": "stdout",
     "output_type": "stream",
     "text": [
      "foobar\n"
     ]
    },
    {
     "name": "stderr",
     "output_type": "stream",
     "text": [
      " 58%|██████████████████████████████████████████▋                               | 4411/7651 [2:16:44<1:40:26,  1.86s/it]"
     ]
    },
    {
     "name": "stdout",
     "output_type": "stream",
     "text": [
      "foobar\n"
     ]
    },
    {
     "name": "stderr",
     "output_type": "stream",
     "text": [
      " 66%|████████████████████████████████████████████████▋                         | 5033/7651 [2:34:36<1:20:25,  1.84s/it]"
     ]
    },
    {
     "name": "stdout",
     "output_type": "stream",
     "text": [
      "foobar\n"
     ]
    },
    {
     "name": "stderr",
     "output_type": "stream",
     "text": [
      " 73%|██████████████████████████████████████████████████████                    | 5584/7651 [2:50:42<1:03:11,  1.83s/it]"
     ]
    },
    {
     "name": "stdout",
     "output_type": "stream",
     "text": [
      "foobar\n"
     ]
    },
    {
     "name": "stderr",
     "output_type": "stream",
     "text": [
      " 78%|███████████████████████████████████████████████████████████▏                | 5957/7651 [3:02:08<51:47,  1.83s/it]"
     ]
    },
    {
     "name": "stdout",
     "output_type": "stream",
     "text": [
      "foobar\n"
     ]
    },
    {
     "name": "stderr",
     "output_type": "stream",
     "text": [
      " 81%|█████████████████████████████████████████████████████████████▏              | 6160/7651 [3:08:14<45:33,  1.83s/it]"
     ]
    },
    {
     "name": "stdout",
     "output_type": "stream",
     "text": [
      "foobar\n"
     ]
    },
    {
     "name": "stderr",
     "output_type": "stream",
     "text": [
      " 84%|████████████████████████████████████████████████████████████████▏           | 6458/7651 [3:18:04<36:35,  1.84s/it]"
     ]
    },
    {
     "name": "stdout",
     "output_type": "stream",
     "text": [
      "foobar\n"
     ]
    },
    {
     "name": "stderr",
     "output_type": "stream",
     "text": [
      " 85%|████████████████████████████████████████████████████████████████▊           | 6531/7651 [3:20:22<34:21,  1.84s/it]"
     ]
    },
    {
     "name": "stdout",
     "output_type": "stream",
     "text": [
      "foobar\n"
     ]
    },
    {
     "name": "stderr",
     "output_type": "stream",
     "text": [
      " 86%|█████████████████████████████████████████████████████████████████▏          | 6561/7651 [3:21:14<33:25,  1.84s/it]"
     ]
    },
    {
     "name": "stdout",
     "output_type": "stream",
     "text": [
      "foobar\n"
     ]
    },
    {
     "name": "stderr",
     "output_type": "stream",
     "text": [
      " 86%|█████████████████████████████████████████████████████████████████▋          | 6611/7651 [3:22:43<31:53,  1.84s/it]"
     ]
    },
    {
     "name": "stdout",
     "output_type": "stream",
     "text": [
      "foobar\n"
     ]
    },
    {
     "name": "stderr",
     "output_type": "stream",
     "text": [
      " 90%|████████████████████████████████████████████████████████████████████▋       | 6916/7651 [3:31:20<22:27,  1.83s/it]"
     ]
    },
    {
     "name": "stdout",
     "output_type": "stream",
     "text": [
      "foobar\n"
     ]
    },
    {
     "name": "stderr",
     "output_type": "stream",
     "text": [
      " 91%|████████████████████████████████████████████████████████████████████▊       | 6930/7651 [3:31:44<22:01,  1.83s/it]"
     ]
    },
    {
     "name": "stdout",
     "output_type": "stream",
     "text": [
      "foobar\n"
     ]
    },
    {
     "name": "stderr",
     "output_type": "stream",
     "text": [
      " 92%|█████████████████████████████████████████████████████████████████████▌      | 7009/7651 [3:34:02<19:36,  1.83s/it]"
     ]
    },
    {
     "name": "stdout",
     "output_type": "stream",
     "text": [
      "foobar\n"
     ]
    },
    {
     "name": "stderr",
     "output_type": "stream",
     "text": [
      " 93%|██████████████████████████████████████████████████████████████████████▍     | 7097/7651 [3:36:32<16:54,  1.83s/it]"
     ]
    },
    {
     "name": "stdout",
     "output_type": "stream",
     "text": [
      "foobar\n"
     ]
    },
    {
     "name": "stderr",
     "output_type": "stream",
     "text": [
      " 94%|███████████████████████████████████████████████████████████████████████▌    | 7204/7651 [3:39:40<13:37,  1.83s/it]"
     ]
    },
    {
     "name": "stdout",
     "output_type": "stream",
     "text": [
      "foobar\n"
     ]
    },
    {
     "name": "stderr",
     "output_type": "stream",
     "text": [
      "100%|████████████████████████████████████████████████████████████████████████████| 7651/7651 [3:52:45<00:00,  1.83s/it]\n"
     ]
    }
   ],
   "source": [
    "dc.check_randoms(1)"
   ]
  },
  {
   "cell_type": "code",
   "execution_count": 27,
   "metadata": {},
   "outputs": [],
   "source": [
    "\n",
    "dc.hexes.head()\n",
    "\n",
    "df1 = dc.hexes"
   ]
  },
  {
   "cell_type": "code",
   "execution_count": null,
   "metadata": {},
   "outputs": [],
   "source": []
  },
  {
   "cell_type": "code",
   "execution_count": 34,
   "metadata": {},
   "outputs": [
    {
     "data": {
      "text/plain": [
       "(7751, (7651, 4))"
      ]
     },
     "execution_count": 34,
     "metadata": {},
     "output_type": "execute_result"
    }
   ],
   "source": [
    "poly = dc.polygons\n",
    "\n",
    "len(dc.polygons), df1.shape"
   ]
  },
  {
   "cell_type": "code",
   "execution_count": 41,
   "metadata": {},
   "outputs": [],
   "source": [
    "poly_df = pd.DataFrame(poly, columns = ['geometry'])"
   ]
  },
  {
   "cell_type": "code",
   "execution_count": 50,
   "metadata": {},
   "outputs": [],
   "source": [
    "poly_df['transit_score'] = poly_df['geometry'].apply(lambda x: x.scores)\n",
    "poly_df['bike_score']  = poly_df['geometry'].apply(lambda x: x.bikeshares)\n",
    "poly_df['carshare_score']  = poly_df['geometry'].apply(lambda x: x.carshares)\n",
    "poly_df['mass_transit_score']  = poly_df['geometry'].apply(lambda x: x.masstransits)\n",
    "poly_df['ride_hail_score'] = poly_df['geometry'].apply(lambda x: x.ridehailings)\n"
   ]
  },
  {
   "cell_type": "code",
   "execution_count": 45,
   "metadata": {},
   "outputs": [],
   "source": [
    "poly_df['coordinates'] = poly_df.geometry.apply(lambda x: (x.x_loc, x.y_loc, x.z_loc))"
   ]
  },
  {
   "cell_type": "code",
   "execution_count": 53,
   "metadata": {},
   "outputs": [
    {
     "data": {
      "text/html": [
       "<div>\n",
       "<style scoped>\n",
       "    .dataframe tbody tr th:only-of-type {\n",
       "        vertical-align: middle;\n",
       "    }\n",
       "\n",
       "    .dataframe tbody tr th {\n",
       "        vertical-align: top;\n",
       "    }\n",
       "\n",
       "    .dataframe thead th {\n",
       "        text-align: right;\n",
       "    }\n",
       "</style>\n",
       "<table border=\"1\" class=\"dataframe\">\n",
       "  <thead>\n",
       "    <tr style=\"text-align: right;\">\n",
       "      <th></th>\n",
       "      <th>geometry</th>\n",
       "      <th>coordinates</th>\n",
       "      <th>transit_score</th>\n",
       "      <th>bike_score</th>\n",
       "      <th>carshare_score</th>\n",
       "      <th>mass_transit_score</th>\n",
       "      <th>ride_hail_score</th>\n",
       "    </tr>\n",
       "  </thead>\n",
       "  <tbody>\n",
       "    <tr>\n",
       "      <th>0</th>\n",
       "      <td>&lt;__main__.hexagon object at 0x000001BE4BA19DD8&gt;</td>\n",
       "      <td>(0.0, 0.0, 0.0)</td>\n",
       "      <td>[98]</td>\n",
       "      <td>[0.11]</td>\n",
       "      <td>[0.02]</td>\n",
       "      <td>[0.74]</td>\n",
       "      <td>[0.13]</td>\n",
       "    </tr>\n",
       "    <tr>\n",
       "      <th>1</th>\n",
       "      <td>&lt;__main__.hexagon object at 0x000001BE4BA19DA0&gt;</td>\n",
       "      <td>(1.0, -1.0, 0.0)</td>\n",
       "      <td>[100]</td>\n",
       "      <td>[0.12]</td>\n",
       "      <td>[0.03]</td>\n",
       "      <td>[0.73]</td>\n",
       "      <td>[0.12]</td>\n",
       "    </tr>\n",
       "    <tr>\n",
       "      <th>2</th>\n",
       "      <td>&lt;__main__.hexagon object at 0x000001BE4BA195F8&gt;</td>\n",
       "      <td>(-1.0, 0.0, 1.0)</td>\n",
       "      <td>[100]</td>\n",
       "      <td>[0.12]</td>\n",
       "      <td>[0.03]</td>\n",
       "      <td>[0.73]</td>\n",
       "      <td>[0.12]</td>\n",
       "    </tr>\n",
       "    <tr>\n",
       "      <th>3</th>\n",
       "      <td>&lt;__main__.hexagon object at 0x000001BE4BA40908&gt;</td>\n",
       "      <td>(0.0, 1.0, -1.0)</td>\n",
       "      <td>[100]</td>\n",
       "      <td>[0.09]</td>\n",
       "      <td>[0.02]</td>\n",
       "      <td>[0.79]</td>\n",
       "      <td>[0.1]</td>\n",
       "    </tr>\n",
       "    <tr>\n",
       "      <th>4</th>\n",
       "      <td>&lt;__main__.hexagon object at 0x000001BE4B49AE80&gt;</td>\n",
       "      <td>(-1.0, 1.0, 0.0)</td>\n",
       "      <td>[100]</td>\n",
       "      <td>[0.08]</td>\n",
       "      <td>[0.03]</td>\n",
       "      <td>[0.77]</td>\n",
       "      <td>[0.12]</td>\n",
       "    </tr>\n",
       "  </tbody>\n",
       "</table>\n",
       "</div>"
      ],
      "text/plain": [
       "                                          geometry       coordinates  \\\n",
       "0  <__main__.hexagon object at 0x000001BE4BA19DD8>   (0.0, 0.0, 0.0)   \n",
       "1  <__main__.hexagon object at 0x000001BE4BA19DA0>  (1.0, -1.0, 0.0)   \n",
       "2  <__main__.hexagon object at 0x000001BE4BA195F8>  (-1.0, 0.0, 1.0)   \n",
       "3  <__main__.hexagon object at 0x000001BE4BA40908>  (0.0, 1.0, -1.0)   \n",
       "4  <__main__.hexagon object at 0x000001BE4B49AE80>  (-1.0, 1.0, 0.0)   \n",
       "\n",
       "  transit_score bike_score carshare_score mass_transit_score ride_hail_score  \n",
       "0          [98]     [0.11]         [0.02]             [0.74]          [0.13]  \n",
       "1         [100]     [0.12]         [0.03]             [0.73]          [0.12]  \n",
       "2         [100]     [0.12]         [0.03]             [0.73]          [0.12]  \n",
       "3         [100]     [0.09]         [0.02]             [0.79]           [0.1]  \n",
       "4         [100]     [0.08]         [0.03]             [0.77]          [0.12]  "
      ]
     },
     "execution_count": 53,
     "metadata": {},
     "output_type": "execute_result"
    }
   ],
   "source": [
    "poly_df.head()"
   ]
  },
  {
   "cell_type": "code",
   "execution_count": 59,
   "metadata": {},
   "outputs": [
    {
     "data": {
      "text/html": [
       "<div>\n",
       "<style scoped>\n",
       "    .dataframe tbody tr th:only-of-type {\n",
       "        vertical-align: middle;\n",
       "    }\n",
       "\n",
       "    .dataframe tbody tr th {\n",
       "        vertical-align: top;\n",
       "    }\n",
       "\n",
       "    .dataframe thead th {\n",
       "        text-align: right;\n",
       "    }\n",
       "</style>\n",
       "<table border=\"1\" class=\"dataframe\">\n",
       "  <thead>\n",
       "    <tr style=\"text-align: right;\">\n",
       "      <th></th>\n",
       "      <th>geometry</th>\n",
       "      <th>coordinates</th>\n",
       "      <th>transit_score</th>\n",
       "      <th>bike_score</th>\n",
       "      <th>carshare_score</th>\n",
       "      <th>mass_transit_score</th>\n",
       "      <th>ride_hail_score</th>\n",
       "    </tr>\n",
       "  </thead>\n",
       "  <tbody>\n",
       "    <tr>\n",
       "      <th>0</th>\n",
       "      <td>&lt;__main__.hexagon object at 0x000001BE4BA19DD8&gt;</td>\n",
       "      <td>(0.0, 0.0, 0.0)</td>\n",
       "      <td>98</td>\n",
       "      <td>0.11</td>\n",
       "      <td>0.02</td>\n",
       "      <td>0.74</td>\n",
       "      <td>0.13</td>\n",
       "    </tr>\n",
       "    <tr>\n",
       "      <th>1</th>\n",
       "      <td>&lt;__main__.hexagon object at 0x000001BE4BA19DA0&gt;</td>\n",
       "      <td>(1.0, -1.0, 0.0)</td>\n",
       "      <td>100</td>\n",
       "      <td>0.12</td>\n",
       "      <td>0.03</td>\n",
       "      <td>0.73</td>\n",
       "      <td>0.12</td>\n",
       "    </tr>\n",
       "    <tr>\n",
       "      <th>2</th>\n",
       "      <td>&lt;__main__.hexagon object at 0x000001BE4BA195F8&gt;</td>\n",
       "      <td>(-1.0, 0.0, 1.0)</td>\n",
       "      <td>100</td>\n",
       "      <td>0.12</td>\n",
       "      <td>0.03</td>\n",
       "      <td>0.73</td>\n",
       "      <td>0.12</td>\n",
       "    </tr>\n",
       "    <tr>\n",
       "      <th>3</th>\n",
       "      <td>&lt;__main__.hexagon object at 0x000001BE4BA40908&gt;</td>\n",
       "      <td>(0.0, 1.0, -1.0)</td>\n",
       "      <td>100</td>\n",
       "      <td>0.09</td>\n",
       "      <td>0.02</td>\n",
       "      <td>0.79</td>\n",
       "      <td>0.10</td>\n",
       "    </tr>\n",
       "    <tr>\n",
       "      <th>4</th>\n",
       "      <td>&lt;__main__.hexagon object at 0x000001BE4B49AE80&gt;</td>\n",
       "      <td>(-1.0, 1.0, 0.0)</td>\n",
       "      <td>100</td>\n",
       "      <td>0.08</td>\n",
       "      <td>0.03</td>\n",
       "      <td>0.77</td>\n",
       "      <td>0.12</td>\n",
       "    </tr>\n",
       "  </tbody>\n",
       "</table>\n",
       "</div>"
      ],
      "text/plain": [
       "                                          geometry       coordinates  \\\n",
       "0  <__main__.hexagon object at 0x000001BE4BA19DD8>   (0.0, 0.0, 0.0)   \n",
       "1  <__main__.hexagon object at 0x000001BE4BA19DA0>  (1.0, -1.0, 0.0)   \n",
       "2  <__main__.hexagon object at 0x000001BE4BA195F8>  (-1.0, 0.0, 1.0)   \n",
       "3  <__main__.hexagon object at 0x000001BE4BA40908>  (0.0, 1.0, -1.0)   \n",
       "4  <__main__.hexagon object at 0x000001BE4B49AE80>  (-1.0, 1.0, 0.0)   \n",
       "\n",
       "   transit_score  bike_score  carshare_score  mass_transit_score  \\\n",
       "0             98        0.11            0.02                0.74   \n",
       "1            100        0.12            0.03                0.73   \n",
       "2            100        0.12            0.03                0.73   \n",
       "3            100        0.09            0.02                0.79   \n",
       "4            100        0.08            0.03                0.77   \n",
       "\n",
       "   ride_hail_score  \n",
       "0             0.13  \n",
       "1             0.12  \n",
       "2             0.12  \n",
       "3             0.10  \n",
       "4             0.12  "
      ]
     },
     "execution_count": 59,
     "metadata": {},
     "output_type": "execute_result"
    }
   ],
   "source": [
    "poly_df['bike_score'] = poly_df['bike_score'].apply(lambda x: sum(x))\n",
    "poly_df['carshare_score'] = poly_df['carshare_score'].apply(lambda x: sum(x))\n",
    "poly_df['mass_transit_score'] = poly_df['mass_transit_score'].apply(lambda x: sum(x))\n",
    "poly_df['ride_hail_score'] = poly_df['ride_hail_score'].apply(lambda x: sum(x))\n",
    "poly_df['transit_score'] = poly_df['transit_score'].apply(lambda x: sum(x))\n",
    "\n",
    "poly_df.head()"
   ]
  },
  {
   "cell_type": "code",
   "execution_count": 71,
   "metadata": {},
   "outputs": [],
   "source": [
    "df2 = df1.merge(poly_df[['coordinates', 'transit_score', 'bike_score',\n",
    "       'carshare_score', 'mass_transit_score',\n",
    "         'ride_hail_score']].groupby('coordinates', as_index=False).mean(),\n",
    "          left_on='hexagon', right_on='coordinates')"
   ]
  },
  {
   "cell_type": "code",
   "execution_count": 73,
   "metadata": {},
   "outputs": [],
   "source": [
    "df2.to_pickle('washington_v2')"
   ]
  },
  {
   "cell_type": "code",
   "execution_count": 75,
   "metadata": {},
   "outputs": [
    {
     "data": {
      "text/plain": [
       "100.0    6845\n",
       "99.0      462\n",
       "98.0      255\n",
       "97.0       41\n",
       "0.0        34\n",
       "99.5       11\n",
       "98.5        2\n",
       "50.0        1\n",
       "Name: transit_score, dtype: int64"
      ]
     },
     "execution_count": 75,
     "metadata": {},
     "output_type": "execute_result"
    }
   ],
   "source": [
    "df2.transit_score.value_counts()"
   ]
  },
  {
   "cell_type": "code",
   "execution_count": null,
   "metadata": {},
   "outputs": [],
   "source": []
  },
  {
   "cell_type": "code",
   "execution_count": null,
   "metadata": {},
   "outputs": [],
   "source": []
  },
  {
   "cell_type": "code",
   "execution_count": null,
   "metadata": {},
   "outputs": [],
   "source": []
  },
  {
   "cell_type": "code",
   "execution_count": 24,
   "metadata": {},
   "outputs": [],
   "source": [
    "# atlanta.check_randoms(5) \n",
    "import pickle\n",
    "with open('hext_list_dc.pkl', 'wb') as f:\n",
    "    pickle.dump(dc, f)    "
   ]
  },
  {
   "cell_type": "code",
   "execution_count": null,
   "metadata": {},
   "outputs": [],
   "source": []
  },
  {
   "cell_type": "code",
   "execution_count": 701,
   "metadata": {},
   "outputs": [],
   "source": [
    "def hex_round(x,y):\n",
    "    z = -x -y\n",
    "    x_d, x = modf(x)\n",
    "    y_d, y = modf(y)\n",
    "    z_d, z = modf(z)\n",
    "    \n",
    "    if x_d>y_d and x_d>z_d:\n",
    "        x = -y-z\n",
    "    elif y_d>z_d:\n",
    "        y = -x-z\n",
    "    else:\n",
    "        z=-x-y\n",
    "        \n",
    "    return (int(x),int(y),int(z))"
   ]
  },
  {
   "cell_type": "code",
   "execution_count": 702,
   "metadata": {},
   "outputs": [],
   "source": [
    "ssq = sqrt(3)/3\n",
    "\n",
    "def point_loc_to_hex_loc(x_h, y_h, size):\n",
    "    x = (x_h * 2/3)/ size\n",
    "    y = ((-x_h/3) + (ssq * y_h)) / size\n",
    "    return hex_round(x,y)\n"
   ]
  },
  {
   "cell_type": "code",
   "execution_count": 703,
   "metadata": {},
   "outputs": [],
   "source": [
    "def hex_center(x_row, y_row, size):\n",
    "    x = size * 3/2 * x_row\n",
    "    y = size * (3**0.5) * (y_row + x_row/2)\n",
    "    return x, y"
   ]
  },
  {
   "cell_type": "code",
   "execution_count": 704,
   "metadata": {},
   "outputs": [],
   "source": [
    "\n",
    "hex_assign = lambda p: point_loc_to_hex_loc(p.x-washington_x, p.y-washington_y, hex_size)\n"
   ]
  },
  {
   "cell_type": "code",
   "execution_count": null,
   "metadata": {},
   "outputs": [],
   "source": [
    "df['hexagon'] = df['geometry'].apply(hex_assign)\n"
   ]
  }
 ],
 "metadata": {
  "kernelspec": {
   "display_name": "Python 3",
   "language": "python",
   "name": "python3"
  },
  "language_info": {
   "codemirror_mode": {
    "name": "ipython",
    "version": 3
   },
   "file_extension": ".py",
   "mimetype": "text/x-python",
   "name": "python",
   "nbconvert_exporter": "python",
   "pygments_lexer": "ipython3",
   "version": "3.6.4"
  }
 },
 "nbformat": 4,
 "nbformat_minor": 2
}
