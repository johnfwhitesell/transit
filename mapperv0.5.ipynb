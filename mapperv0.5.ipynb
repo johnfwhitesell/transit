{
 "cells": [
  {
   "cell_type": "code",
   "execution_count": 1,
   "metadata": {},
   "outputs": [
    {
     "data": {
      "application/vnd.jupyter.widget-view+json": {
       "model_id": "2a0b9f29073d4a0eb185ceb7a53b7d08",
       "version_major": 2,
       "version_minor": 0
      },
      "text/html": [
       "<p>Failed to display Jupyter Widget of type <code>HBox</code>.</p>\n",
       "<p>\n",
       "  If you're reading this message in the Jupyter Notebook or JupyterLab Notebook, it may mean\n",
       "  that the widgets JavaScript is still loading. If this message persists, it\n",
       "  likely means that the widgets JavaScript library is either not installed or\n",
       "  not enabled. See the <a href=\"https://ipywidgets.readthedocs.io/en/stable/user_install.html\">Jupyter\n",
       "  Widgets Documentation</a> for setup instructions.\n",
       "</p>\n",
       "<p>\n",
       "  If you're reading this message in another frontend (for example, a static\n",
       "  rendering on GitHub or <a href=\"https://nbviewer.jupyter.org/\">NBViewer</a>),\n",
       "  it may mean that your frontend doesn't currently support widgets.\n",
       "</p>\n"
      ],
      "text/plain": [
       "HBox(children=(IntProgress(value=1, bar_style='info', max=1), HTML(value='')))"
      ]
     },
     "metadata": {},
     "output_type": "display_data"
    },
    {
     "name": "stdout",
     "output_type": "stream",
     "text": [
      "\n"
     ]
    },
    {
     "data": {
      "text/html": [
       "<div>\n",
       "<style scoped>\n",
       "    .dataframe tbody tr th:only-of-type {\n",
       "        vertical-align: middle;\n",
       "    }\n",
       "\n",
       "    .dataframe tbody tr th {\n",
       "        vertical-align: top;\n",
       "    }\n",
       "\n",
       "    .dataframe thead th {\n",
       "        text-align: right;\n",
       "    }\n",
       "</style>\n",
       "<table border=\"1\" class=\"dataframe\">\n",
       "  <thead>\n",
       "    <tr style=\"text-align: right;\">\n",
       "      <th></th>\n",
       "      <th>grid</th>\n",
       "      <th>total_score</th>\n",
       "      <th>bike_score</th>\n",
       "      <th>car_score</th>\n",
       "      <th>mass_score</th>\n",
       "      <th>ride_score</th>\n",
       "      <th>points_list</th>\n",
       "      <th>Y</th>\n",
       "      <th>X</th>\n",
       "    </tr>\n",
       "    <tr>\n",
       "      <th>hex_key</th>\n",
       "      <th></th>\n",
       "      <th></th>\n",
       "      <th></th>\n",
       "      <th></th>\n",
       "      <th></th>\n",
       "      <th></th>\n",
       "      <th></th>\n",
       "      <th></th>\n",
       "      <th></th>\n",
       "    </tr>\n",
       "  </thead>\n",
       "  <tbody>\n",
       "    <tr>\n",
       "      <th>79404</th>\n",
       "      <td>(3, -3, 0)</td>\n",
       "      <td>[100]</td>\n",
       "      <td>[39.45681897512268]</td>\n",
       "      <td>[12.990695117258923]</td>\n",
       "      <td>[226.75359358506427]</td>\n",
       "      <td>[21.0]</td>\n",
       "      <td>[242034]</td>\n",
       "      <td>[4707925.971892506, 4707973.851839005, 4707973...</td>\n",
       "      <td>[-8575711.420947943, -8575739.064447943, -8575...</td>\n",
       "    </tr>\n",
       "    <tr>\n",
       "      <th>81798</th>\n",
       "      <td>(-3, 3, 0)</td>\n",
       "      <td>[100]</td>\n",
       "      <td>[43.40236093237809]</td>\n",
       "      <td>[0.0]</td>\n",
       "      <td>[156.4847602046781]</td>\n",
       "      <td>[21.0]</td>\n",
       "      <td>[243140]</td>\n",
       "      <td>[4708213.251571501, 4708261.131518, 4708261.13...</td>\n",
       "      <td>[-8576209.003947943, -8576236.647447944, -8576...</td>\n",
       "    </tr>\n",
       "    <tr>\n",
       "      <th>80604</th>\n",
       "      <td>(3, 0, -3)</td>\n",
       "      <td>[100]</td>\n",
       "      <td>[42.26390640730412]</td>\n",
       "      <td>[16.741951275257325]</td>\n",
       "      <td>[92.78495513582726]</td>\n",
       "      <td>[21.0]</td>\n",
       "      <td>[279253]</td>\n",
       "      <td>[4708213.251571501, 4708261.131518, 4708261.13...</td>\n",
       "      <td>[-8575711.420947943, -8575739.064447943, -8575...</td>\n",
       "    </tr>\n",
       "    <tr>\n",
       "      <th>81802</th>\n",
       "      <td>(1, 3, -4)</td>\n",
       "      <td>[100]</td>\n",
       "      <td>[102.21797524625919]</td>\n",
       "      <td>[18.501570039901363]</td>\n",
       "      <td>[159.9839344716706]</td>\n",
       "      <td>[21.0]</td>\n",
       "      <td>[241742]</td>\n",
       "      <td>[4708404.771357496, 4708452.651303995, 4708452...</td>\n",
       "      <td>[-8575877.281947942, -8575904.925447943, -8575...</td>\n",
       "    </tr>\n",
       "    <tr>\n",
       "      <th>82197</th>\n",
       "      <td>(-4, 4, 0)</td>\n",
       "      <td>[100]</td>\n",
       "      <td>[41.431725365382306]</td>\n",
       "      <td>[0.0]</td>\n",
       "      <td>[153.12321089304797]</td>\n",
       "      <td>[21.0]</td>\n",
       "      <td>[241284]</td>\n",
       "      <td>[4708261.131518, 4708309.011464499, 4708309.01...</td>\n",
       "      <td>[-8576291.934447942, -8576319.577947943, -8576...</td>\n",
       "    </tr>\n",
       "  </tbody>\n",
       "</table>\n",
       "</div>"
      ],
      "text/plain": [
       "               grid total_score            bike_score             car_score  \\\n",
       "hex_key                                                                       \n",
       "79404    (3, -3, 0)       [100]   [39.45681897512268]  [12.990695117258923]   \n",
       "81798    (-3, 3, 0)       [100]   [43.40236093237809]                 [0.0]   \n",
       "80604    (3, 0, -3)       [100]   [42.26390640730412]  [16.741951275257325]   \n",
       "81802    (1, 3, -4)       [100]  [102.21797524625919]  [18.501570039901363]   \n",
       "82197    (-4, 4, 0)       [100]  [41.431725365382306]                 [0.0]   \n",
       "\n",
       "                   mass_score ride_score points_list  \\\n",
       "hex_key                                                \n",
       "79404    [226.75359358506427]     [21.0]    [242034]   \n",
       "81798     [156.4847602046781]     [21.0]    [243140]   \n",
       "80604     [92.78495513582726]     [21.0]    [279253]   \n",
       "81802     [159.9839344716706]     [21.0]    [241742]   \n",
       "82197    [153.12321089304797]     [21.0]    [241284]   \n",
       "\n",
       "                                                         Y  \\\n",
       "hex_key                                                      \n",
       "79404    [4707925.971892506, 4707973.851839005, 4707973...   \n",
       "81798    [4708213.251571501, 4708261.131518, 4708261.13...   \n",
       "80604    [4708213.251571501, 4708261.131518, 4708261.13...   \n",
       "81802    [4708404.771357496, 4708452.651303995, 4708452...   \n",
       "82197    [4708261.131518, 4708309.011464499, 4708309.01...   \n",
       "\n",
       "                                                         X  \n",
       "hex_key                                                     \n",
       "79404    [-8575711.420947943, -8575739.064447943, -8575...  \n",
       "81798    [-8576209.003947943, -8576236.647447944, -8576...  \n",
       "80604    [-8575711.420947943, -8575739.064447943, -8575...  \n",
       "81802    [-8575877.281947942, -8575904.925447943, -8575...  \n",
       "82197    [-8576291.934447942, -8576319.577947943, -8576...  "
      ]
     },
     "execution_count": 1,
     "metadata": {},
     "output_type": "execute_result"
    }
   ],
   "source": [
    "import pandas as pd\n",
    "import geopandas as gpd\n",
    "from shapely.geometry import Polygon\n",
    "from geojson import GeoJSON\n",
    "import json\n",
    "import matplotlib\n",
    "from numpy import mean, all, median\n",
    "from tqdm import tqdm_notebook as tqdm\n",
    "tqdm().pandas()\n",
    "\n",
    "from bokeh.models import (ColumnDataSource, GMapPlot, Range1d, ColumnDataSource, LinearAxis,\n",
    "HoverTool, PanTool, WheelZoomTool, BoxZoomTool, ResetTool,CustomJS,\n",
    "GMapOptions, NumeralTickFormatter, PrintfTickFormatter, MapOptions)\n",
    "from bokeh.models.glyphs import Patches\n",
    "from bokeh.plotting import figure, save, show\n",
    "from bokeh.resources import CDN\n",
    "from bokeh.io import output_file, show, saving\n",
    "from bokeh.models.widgets import RadioButtonGroup\n",
    "from bokeh.layouts import widgetbox, column\n",
    "from bokeh.models.widgets import Panel, Tabs\n",
    "from bokeh import tile_providers\n",
    "from bokeh.tile_providers import CARTODBPOSITRON\n",
    "import pyproj\n",
    "outfp = r\"./docs/index.html\"\n",
    "output_file(outfp)\n",
    "# output_notebook() # this command doesn't work in jupyyer labs, only jupyter notebook\n",
    "\n",
    "df_wash = pd.read_pickle('Washington_2.pickle')\n",
    "df_wash.head()\n",
    "\n",
    "df = df_wash[df_wash['total_score'].apply(len)>0].copy()\n",
    "# This will discard all the hexes where there aren't any observations.\n",
    "# remember to make this a copy or else you will end up with warnings about writing to a slice\n",
    "df.head()"
   ]
  },
  {
   "cell_type": "code",
   "execution_count": null,
   "metadata": {},
   "outputs": [],
   "source": []
  },
  {
   "cell_type": "code",
   "execution_count": 2,
   "metadata": {},
   "outputs": [
    {
     "data": {
      "application/vnd.jupyter.widget-view+json": {
       "model_id": "ccf9c18f7e3146e0a989dda9396199e3",
       "version_major": 2,
       "version_minor": 0
      },
      "text/html": [
       "<p>Failed to display Jupyter Widget of type <code>HBox</code>.</p>\n",
       "<p>\n",
       "  If you're reading this message in the Jupyter Notebook or JupyterLab Notebook, it may mean\n",
       "  that the widgets JavaScript is still loading. If this message persists, it\n",
       "  likely means that the widgets JavaScript library is either not installed or\n",
       "  not enabled. See the <a href=\"https://ipywidgets.readthedocs.io/en/stable/user_install.html\">Jupyter\n",
       "  Widgets Documentation</a> for setup instructions.\n",
       "</p>\n",
       "<p>\n",
       "  If you're reading this message in another frontend (for example, a static\n",
       "  rendering on GitHub or <a href=\"https://nbviewer.jupyter.org/\">NBViewer</a>),\n",
       "  it may mean that your frontend doesn't currently support widgets.\n",
       "</p>\n"
      ],
      "text/plain": [
       "HBox(children=(IntProgress(value=0, max=6668), HTML(value='')))"
      ]
     },
     "metadata": {},
     "output_type": "display_data"
    },
    {
     "name": "stdout",
     "output_type": "stream",
     "text": [
      "\n"
     ]
    },
    {
     "data": {
      "application/vnd.jupyter.widget-view+json": {
       "model_id": "0f945ecaff2e48e2b46ba93ca3da6dbf",
       "version_major": 2,
       "version_minor": 0
      },
      "text/html": [
       "<p>Failed to display Jupyter Widget of type <code>HBox</code>.</p>\n",
       "<p>\n",
       "  If you're reading this message in the Jupyter Notebook or JupyterLab Notebook, it may mean\n",
       "  that the widgets JavaScript is still loading. If this message persists, it\n",
       "  likely means that the widgets JavaScript library is either not installed or\n",
       "  not enabled. See the <a href=\"https://ipywidgets.readthedocs.io/en/stable/user_install.html\">Jupyter\n",
       "  Widgets Documentation</a> for setup instructions.\n",
       "</p>\n",
       "<p>\n",
       "  If you're reading this message in another frontend (for example, a static\n",
       "  rendering on GitHub or <a href=\"https://nbviewer.jupyter.org/\">NBViewer</a>),\n",
       "  it may mean that your frontend doesn't currently support widgets.\n",
       "</p>\n"
      ],
      "text/plain": [
       "HBox(children=(IntProgress(value=0, max=6668), HTML(value='')))"
      ]
     },
     "metadata": {},
     "output_type": "display_data"
    },
    {
     "name": "stdout",
     "output_type": "stream",
     "text": [
      "\n"
     ]
    },
    {
     "data": {
      "application/vnd.jupyter.widget-view+json": {
       "model_id": "756aa4fdee774df4bbe8bee0fdc7ec1d",
       "version_major": 2,
       "version_minor": 0
      },
      "text/html": [
       "<p>Failed to display Jupyter Widget of type <code>HBox</code>.</p>\n",
       "<p>\n",
       "  If you're reading this message in the Jupyter Notebook or JupyterLab Notebook, it may mean\n",
       "  that the widgets JavaScript is still loading. If this message persists, it\n",
       "  likely means that the widgets JavaScript library is either not installed or\n",
       "  not enabled. See the <a href=\"https://ipywidgets.readthedocs.io/en/stable/user_install.html\">Jupyter\n",
       "  Widgets Documentation</a> for setup instructions.\n",
       "</p>\n",
       "<p>\n",
       "  If you're reading this message in another frontend (for example, a static\n",
       "  rendering on GitHub or <a href=\"https://nbviewer.jupyter.org/\">NBViewer</a>),\n",
       "  it may mean that your frontend doesn't currently support widgets.\n",
       "</p>\n"
      ],
      "text/plain": [
       "HBox(children=(IntProgress(value=0, max=6668), HTML(value='')))"
      ]
     },
     "metadata": {},
     "output_type": "display_data"
    },
    {
     "name": "stdout",
     "output_type": "stream",
     "text": [
      "\n"
     ]
    },
    {
     "data": {
      "application/vnd.jupyter.widget-view+json": {
       "model_id": "f02268dd6fec4ae4866678719bfa8d99",
       "version_major": 2,
       "version_minor": 0
      },
      "text/html": [
       "<p>Failed to display Jupyter Widget of type <code>HBox</code>.</p>\n",
       "<p>\n",
       "  If you're reading this message in the Jupyter Notebook or JupyterLab Notebook, it may mean\n",
       "  that the widgets JavaScript is still loading. If this message persists, it\n",
       "  likely means that the widgets JavaScript library is either not installed or\n",
       "  not enabled. See the <a href=\"https://ipywidgets.readthedocs.io/en/stable/user_install.html\">Jupyter\n",
       "  Widgets Documentation</a> for setup instructions.\n",
       "</p>\n",
       "<p>\n",
       "  If you're reading this message in another frontend (for example, a static\n",
       "  rendering on GitHub or <a href=\"https://nbviewer.jupyter.org/\">NBViewer</a>),\n",
       "  it may mean that your frontend doesn't currently support widgets.\n",
       "</p>\n"
      ],
      "text/plain": [
       "HBox(children=(IntProgress(value=0, max=6668), HTML(value='')))"
      ]
     },
     "metadata": {},
     "output_type": "display_data"
    },
    {
     "name": "stdout",
     "output_type": "stream",
     "text": [
      "\n"
     ]
    },
    {
     "data": {
      "application/vnd.jupyter.widget-view+json": {
       "model_id": "3b3c49cbd47b4a1b93636118c293f52a",
       "version_major": 2,
       "version_minor": 0
      },
      "text/html": [
       "<p>Failed to display Jupyter Widget of type <code>HBox</code>.</p>\n",
       "<p>\n",
       "  If you're reading this message in the Jupyter Notebook or JupyterLab Notebook, it may mean\n",
       "  that the widgets JavaScript is still loading. If this message persists, it\n",
       "  likely means that the widgets JavaScript library is either not installed or\n",
       "  not enabled. See the <a href=\"https://ipywidgets.readthedocs.io/en/stable/user_install.html\">Jupyter\n",
       "  Widgets Documentation</a> for setup instructions.\n",
       "</p>\n",
       "<p>\n",
       "  If you're reading this message in another frontend (for example, a static\n",
       "  rendering on GitHub or <a href=\"https://nbviewer.jupyter.org/\">NBViewer</a>),\n",
       "  it may mean that your frontend doesn't currently support widgets.\n",
       "</p>\n"
      ],
      "text/plain": [
       "HBox(children=(IntProgress(value=0, max=6668), HTML(value='')))"
      ]
     },
     "metadata": {},
     "output_type": "display_data"
    },
    {
     "name": "stdout",
     "output_type": "stream",
     "text": [
      "\n"
     ]
    },
    {
     "data": {
      "application/vnd.jupyter.widget-view+json": {
       "model_id": "1d00b4cb53d14fd6a5addc024bc6d482",
       "version_major": 2,
       "version_minor": 0
      },
      "text/html": [
       "<p>Failed to display Jupyter Widget of type <code>HBox</code>.</p>\n",
       "<p>\n",
       "  If you're reading this message in the Jupyter Notebook or JupyterLab Notebook, it may mean\n",
       "  that the widgets JavaScript is still loading. If this message persists, it\n",
       "  likely means that the widgets JavaScript library is either not installed or\n",
       "  not enabled. See the <a href=\"https://ipywidgets.readthedocs.io/en/stable/user_install.html\">Jupyter\n",
       "  Widgets Documentation</a> for setup instructions.\n",
       "</p>\n",
       "<p>\n",
       "  If you're reading this message in another frontend (for example, a static\n",
       "  rendering on GitHub or <a href=\"https://nbviewer.jupyter.org/\">NBViewer</a>),\n",
       "  it may mean that your frontend doesn't currently support widgets.\n",
       "</p>\n"
      ],
      "text/plain": [
       "HBox(children=(IntProgress(value=0, max=6668), HTML(value='')))"
      ]
     },
     "metadata": {},
     "output_type": "display_data"
    },
    {
     "name": "stdout",
     "output_type": "stream",
     "text": [
      "\n"
     ]
    },
    {
     "data": {
      "application/vnd.jupyter.widget-view+json": {
       "model_id": "e46ea025bc55411c97cd9dedfe52d440",
       "version_major": 2,
       "version_minor": 0
      },
      "text/html": [
       "<p>Failed to display Jupyter Widget of type <code>HBox</code>.</p>\n",
       "<p>\n",
       "  If you're reading this message in the Jupyter Notebook or JupyterLab Notebook, it may mean\n",
       "  that the widgets JavaScript is still loading. If this message persists, it\n",
       "  likely means that the widgets JavaScript library is either not installed or\n",
       "  not enabled. See the <a href=\"https://ipywidgets.readthedocs.io/en/stable/user_install.html\">Jupyter\n",
       "  Widgets Documentation</a> for setup instructions.\n",
       "</p>\n",
       "<p>\n",
       "  If you're reading this message in another frontend (for example, a static\n",
       "  rendering on GitHub or <a href=\"https://nbviewer.jupyter.org/\">NBViewer</a>),\n",
       "  it may mean that your frontend doesn't currently support widgets.\n",
       "</p>\n"
      ],
      "text/plain": [
       "HBox(children=(IntProgress(value=0, max=6668), HTML(value='')))"
      ]
     },
     "metadata": {},
     "output_type": "display_data"
    },
    {
     "name": "stdout",
     "output_type": "stream",
     "text": [
      "\n"
     ]
    },
    {
     "data": {
      "application/vnd.jupyter.widget-view+json": {
       "model_id": "ae096cbbf3f047b0a562802880b1bcd7",
       "version_major": 2,
       "version_minor": 0
      },
      "text/html": [
       "<p>Failed to display Jupyter Widget of type <code>HBox</code>.</p>\n",
       "<p>\n",
       "  If you're reading this message in the Jupyter Notebook or JupyterLab Notebook, it may mean\n",
       "  that the widgets JavaScript is still loading. If this message persists, it\n",
       "  likely means that the widgets JavaScript library is either not installed or\n",
       "  not enabled. See the <a href=\"https://ipywidgets.readthedocs.io/en/stable/user_install.html\">Jupyter\n",
       "  Widgets Documentation</a> for setup instructions.\n",
       "</p>\n",
       "<p>\n",
       "  If you're reading this message in another frontend (for example, a static\n",
       "  rendering on GitHub or <a href=\"https://nbviewer.jupyter.org/\">NBViewer</a>),\n",
       "  it may mean that your frontend doesn't currently support widgets.\n",
       "</p>\n"
      ],
      "text/plain": [
       "HBox(children=(IntProgress(value=0, max=6668), HTML(value='')))"
      ]
     },
     "metadata": {},
     "output_type": "display_data"
    },
    {
     "name": "stdout",
     "output_type": "stream",
     "text": [
      "\n"
     ]
    },
    {
     "data": {
      "application/vnd.jupyter.widget-view+json": {
       "model_id": "44fb2c6a027c4552a99e4bdb1617cf58",
       "version_major": 2,
       "version_minor": 0
      },
      "text/html": [
       "<p>Failed to display Jupyter Widget of type <code>HBox</code>.</p>\n",
       "<p>\n",
       "  If you're reading this message in the Jupyter Notebook or JupyterLab Notebook, it may mean\n",
       "  that the widgets JavaScript is still loading. If this message persists, it\n",
       "  likely means that the widgets JavaScript library is either not installed or\n",
       "  not enabled. See the <a href=\"https://ipywidgets.readthedocs.io/en/stable/user_install.html\">Jupyter\n",
       "  Widgets Documentation</a> for setup instructions.\n",
       "</p>\n",
       "<p>\n",
       "  If you're reading this message in another frontend (for example, a static\n",
       "  rendering on GitHub or <a href=\"https://nbviewer.jupyter.org/\">NBViewer</a>),\n",
       "  it may mean that your frontend doesn't currently support widgets.\n",
       "</p>\n"
      ],
      "text/plain": [
       "HBox(children=(IntProgress(value=0, max=6668), HTML(value='')))"
      ]
     },
     "metadata": {},
     "output_type": "display_data"
    },
    {
     "name": "stdout",
     "output_type": "stream",
     "text": [
      "\n"
     ]
    },
    {
     "data": {
      "application/vnd.jupyter.widget-view+json": {
       "model_id": "b62d2b98b5df4767807124991ca750fa",
       "version_major": 2,
       "version_minor": 0
      },
      "text/html": [
       "<p>Failed to display Jupyter Widget of type <code>HBox</code>.</p>\n",
       "<p>\n",
       "  If you're reading this message in the Jupyter Notebook or JupyterLab Notebook, it may mean\n",
       "  that the widgets JavaScript is still loading. If this message persists, it\n",
       "  likely means that the widgets JavaScript library is either not installed or\n",
       "  not enabled. See the <a href=\"https://ipywidgets.readthedocs.io/en/stable/user_install.html\">Jupyter\n",
       "  Widgets Documentation</a> for setup instructions.\n",
       "</p>\n",
       "<p>\n",
       "  If you're reading this message in another frontend (for example, a static\n",
       "  rendering on GitHub or <a href=\"https://nbviewer.jupyter.org/\">NBViewer</a>),\n",
       "  it may mean that your frontend doesn't currently support widgets.\n",
       "</p>\n"
      ],
      "text/plain": [
       "HBox(children=(IntProgress(value=0, max=6668), HTML(value='')))"
      ]
     },
     "metadata": {},
     "output_type": "display_data"
    },
    {
     "name": "stdout",
     "output_type": "stream",
     "text": [
      "\n"
     ]
    },
    {
     "data": {
      "text/html": [
       "<div>\n",
       "<style scoped>\n",
       "    .dataframe tbody tr th:only-of-type {\n",
       "        vertical-align: middle;\n",
       "    }\n",
       "\n",
       "    .dataframe tbody tr th {\n",
       "        vertical-align: top;\n",
       "    }\n",
       "\n",
       "    .dataframe thead th {\n",
       "        text-align: right;\n",
       "    }\n",
       "</style>\n",
       "<table border=\"1\" class=\"dataframe\">\n",
       "  <thead>\n",
       "    <tr style=\"text-align: right;\">\n",
       "      <th></th>\n",
       "      <th>grid</th>\n",
       "      <th>total_score</th>\n",
       "      <th>bike_score</th>\n",
       "      <th>car_score</th>\n",
       "      <th>mass_score</th>\n",
       "      <th>ride_score</th>\n",
       "      <th>points_list</th>\n",
       "      <th>Y</th>\n",
       "      <th>X</th>\n",
       "      <th>total_score_mean</th>\n",
       "      <th>...</th>\n",
       "      <th>mass_score_mean_rating</th>\n",
       "      <th>mass_score_median</th>\n",
       "      <th>mass_score_median_color</th>\n",
       "      <th>mass_score_median_rating</th>\n",
       "      <th>ride_score_mean</th>\n",
       "      <th>ride_score_mean_color</th>\n",
       "      <th>ride_score_mean_rating</th>\n",
       "      <th>ride_score_median</th>\n",
       "      <th>ride_score_median_color</th>\n",
       "      <th>ride_score_median_rating</th>\n",
       "    </tr>\n",
       "    <tr>\n",
       "      <th>hex_key</th>\n",
       "      <th></th>\n",
       "      <th></th>\n",
       "      <th></th>\n",
       "      <th></th>\n",
       "      <th></th>\n",
       "      <th></th>\n",
       "      <th></th>\n",
       "      <th></th>\n",
       "      <th></th>\n",
       "      <th></th>\n",
       "      <th></th>\n",
       "      <th></th>\n",
       "      <th></th>\n",
       "      <th></th>\n",
       "      <th></th>\n",
       "      <th></th>\n",
       "      <th></th>\n",
       "      <th></th>\n",
       "      <th></th>\n",
       "      <th></th>\n",
       "      <th></th>\n",
       "    </tr>\n",
       "  </thead>\n",
       "  <tbody>\n",
       "    <tr>\n",
       "      <th>79404</th>\n",
       "      <td>(3, -3, 0)</td>\n",
       "      <td>[100]</td>\n",
       "      <td>[39.45681897512268]</td>\n",
       "      <td>[12.990695117258923]</td>\n",
       "      <td>[226.75359358506427]</td>\n",
       "      <td>[21.0]</td>\n",
       "      <td>[242034]</td>\n",
       "      <td>[4707925.971892506, 4707973.851839005, 4707973...</td>\n",
       "      <td>[-8575711.420947943, -8575739.064447943, -8575...</td>\n",
       "      <td>100.0</td>\n",
       "      <td>...</td>\n",
       "      <td>NaN</td>\n",
       "      <td>226.753594</td>\n",
       "      <td>NaN</td>\n",
       "      <td>NaN</td>\n",
       "      <td>21.0</td>\n",
       "      <td>#addd8e</td>\n",
       "      <td>Average</td>\n",
       "      <td>21.0</td>\n",
       "      <td>#addd8e</td>\n",
       "      <td>Average</td>\n",
       "    </tr>\n",
       "  </tbody>\n",
       "</table>\n",
       "<p>1 rows × 39 columns</p>\n",
       "</div>"
      ],
      "text/plain": [
       "               grid total_score           bike_score             car_score  \\\n",
       "hex_key                                                                      \n",
       "79404    (3, -3, 0)       [100]  [39.45681897512268]  [12.990695117258923]   \n",
       "\n",
       "                   mass_score ride_score points_list  \\\n",
       "hex_key                                                \n",
       "79404    [226.75359358506427]     [21.0]    [242034]   \n",
       "\n",
       "                                                         Y  \\\n",
       "hex_key                                                      \n",
       "79404    [4707925.971892506, 4707973.851839005, 4707973...   \n",
       "\n",
       "                                                         X  total_score_mean  \\\n",
       "hex_key                                                                        \n",
       "79404    [-8575711.420947943, -8575739.064447943, -8575...             100.0   \n",
       "\n",
       "                  ...            mass_score_mean_rating mass_score_median  \\\n",
       "hex_key           ...                                                       \n",
       "79404             ...                               NaN        226.753594   \n",
       "\n",
       "         mass_score_median_color mass_score_median_rating ride_score_mean  \\\n",
       "hex_key                                                                     \n",
       "79404                        NaN                      NaN            21.0   \n",
       "\n",
       "         ride_score_mean_color ride_score_mean_rating ride_score_median  \\\n",
       "hex_key                                                                   \n",
       "79404                  #addd8e                Average              21.0   \n",
       "\n",
       "         ride_score_median_color ride_score_median_rating  \n",
       "hex_key                                                    \n",
       "79404                    #addd8e                  Average  \n",
       "\n",
       "[1 rows x 39 columns]"
      ]
     },
     "execution_count": 2,
     "metadata": {},
     "output_type": "execute_result"
    }
   ],
   "source": [
    "colors = [\n",
    "'#ffffcc',\n",
    "'#d9f0a3',\n",
    "'#addd8e',\n",
    "'#78c679',\n",
    "'#31a354',\n",
    "'#006837'\n",
    "]\n",
    "\n",
    "\n",
    "\n",
    "\n",
    "descriptions = ['Bad','Poor','Average','Good','Great','Excellent']\n",
    "bins1 = [-1,50,60,70,80,90,200]\n",
    "bins2 = [-1,10,20,30,40,50,200]\n",
    "columns = ['total_mean']\n",
    "metrics = [mean, median]\n",
    "\n",
    "def summerizer(df, column, function, bins):\n",
    "    string0 = column + \"_\" + function.__name__\n",
    "    df[string0] = df[column].progress_apply(function)\n",
    "    string1 = string0 + \"_color\"\n",
    "    string2 = string0 + \"_rating\"\n",
    "    df[string1] = pd.cut(df[string0], bins, labels=colors)\n",
    "    df[string2] = pd.cut(df[string0], bins, labels=descriptions)\n",
    "        \n",
    "    return string0, string1, string2\n",
    "\n",
    "\n",
    "summerizer(df, 'total_score', mean, bins1)    \n",
    "summerizer(df, 'total_score', median, bins1)  \n",
    "\n",
    "summerizer(df, 'car_score', mean, bins2)    \n",
    "summerizer(df, 'car_score', median, bins2)    \n",
    "\n",
    "\n",
    "summerizer(df, 'bike_score', mean, bins2)    \n",
    "summerizer(df, 'bike_score', median, bins2)    \n",
    "\n",
    "summerizer(df, 'mass_score', mean, bins2)    \n",
    "summerizer(df, 'mass_score', median, bins2)     \n",
    "\n",
    "summerizer(df, 'ride_score', mean, bins2)    \n",
    "summerizer(df, 'ride_score', median, bins2)        \n",
    "\n",
    "# Okay, it only took me five times to realize I should put a backup point here.  Progress?\n",
    "df.to_pickle(\"summerized.pickle\")\n",
    "df.head(1)"
   ]
  },
  {
   "cell_type": "code",
   "execution_count": null,
   "metadata": {},
   "outputs": [],
   "source": []
  },
  {
   "cell_type": "code",
   "execution_count": 3,
   "metadata": {},
   "outputs": [],
   "source": [
    "dsource = ColumnDataSource(df)\n",
    "\n",
    "wgs84=pyproj.Proj(\"+init=EPSG:4326\") # LatLon with WGS84 datum used by GPS units and Google Earth\n",
    "webdb=pyproj.Proj(\"+init=EPSG:3857\") # Web Mercator\n",
    "\n",
    "bound = 15000 \n",
    "washington_y = 38.904978\n",
    "washington_x = -77.039658\n",
    "        \n",
    "x, y = pyproj.transform(wgs84, webdb, washington_x, washington_y)\n",
    "x_scroll = Range1d(x-bound,x+bound) # I want these to be shared by all the tabs so I am initializing them here\n",
    "y_scroll = Range1d(y-bound,y+bound) # I want these to be shared by all the tabs so I am initializing them here\n",
    "\n",
    "\n",
    "class plot_pipeline:\n",
    "    def __init__(self, source, center, tool_tips):\n",
    "        self.source = source\n",
    "        self.tool_tips = tool_tips\n",
    "        self.make_fig(center[0],center[1])\n",
    "    \n",
    "    def make_fig(self, lat, lon):\n",
    "        \n",
    "        x, y = pyproj.transform(wgs84, webdb, lon, lat)\n",
    "        wheel = WheelZoomTool()\n",
    "        tool_box = [HoverTool(tooltips=self.tool_tips), wheel, PanTool(),\n",
    "                 BoxZoomTool(), ResetTool()]\n",
    "        bound = 15000 # 15 km\n",
    "        plot = figure(x_range=x_scroll,\n",
    "            y_range=y_scroll,\n",
    "            toolbar_location=\"right\",\n",
    "            tools = tool_box, plot_width=800,\n",
    "            plot_height=800)\n",
    "        \n",
    "        plot.toolbar.active_scroll = wheel\n",
    "        plot.add_tile(CARTODBPOSITRON)\n",
    "        self.plot=plot\n",
    "        \n",
    "    def add_layer(self, column_name):       \n",
    "        \n",
    "        hexes = Patches(xs='X', ys='Y',\n",
    "            fill_color=column_name, fill_alpha=0.4, \n",
    "            line_color=\"black\", line_width=0.10)\n",
    "        \n",
    "        self.plot.add_glyph(dsource, hexes)\n",
    "        \n",
    "    def out(self):\n",
    "        show(self.plot)\n",
    "        \n",
    "    def return_plot(self):\n",
    "        return self.plot\n",
    "        \n",
    "        \n",
    "wgs84=pyproj.Proj(\"+init=EPSG:4326\") # LatLon with WGS84 datum used by GPS units and Google Earth\n",
    "webdb=pyproj.Proj(\"+init=EPSG:3857\") # Web Mercator\n",
    "\n",
    "\n",
    "\n"
   ]
  },
  {
   "cell_type": "code",
   "execution_count": 4,
   "metadata": {},
   "outputs": [],
   "source": [
    "tips = [\n",
    "        ('Total Average', \"@total_score_mean\"),\n",
    "        ('Description', \"@total_score_mean_rating\"),\n",
    "        ('Total Median', \"@total_score_median\"),\n",
    "        ('Description', \"@total_score_median_rating\"),\n",
    "\n",
    "        ('Bike Median', \"@bike_score_median\"),\n",
    "        ('Description', \"@bike_score_median_rating\"),\n",
    "\n",
    "        ('Car Median', \"@car_score_median\"),\n",
    "        ('Description', \"@car_score_median_rating\"),\n",
    "\n",
    "        ('Mass Median', \"@mass_score_median\"),\n",
    "        ('Description', \"@mass_score_median_rating\"),\n",
    "\n",
    "        ('Ride Median', \"@ride_score_median\"),\n",
    "        ('Description', \"@ride_score_median_rating\"),\n",
    "]\n",
    "        \n",
    "wash = plot_pipeline(ColumnDataSource(df), (washington_y, washington_x), tips)\n",
    "wash.add_layer('total_score_median_color')\n",
    "\n",
    "# wash.out()\n"
   ]
  },
  {
   "cell_type": "code",
   "execution_count": 5,
   "metadata": {},
   "outputs": [],
   "source": [
    "tips2 = [\n",
    "        ('Bike Average', \"@bike_score_mean\"),\n",
    "        ('Description', \"@bike_score_mean_rating\"),\n",
    "\n",
    "        ('Bike Median', \"@bike_score_median\"),\n",
    "        ('Description', \"@bike_score_median_rating\"),\n",
    "\n",
    "]\n",
    "\n",
    "wash_bike = plot_pipeline(ColumnDataSource(df), (washington_y, washington_x), tips2)\n",
    "wash_bike.add_layer('bike_score_median_color')"
   ]
  },
  {
   "cell_type": "code",
   "execution_count": 6,
   "metadata": {},
   "outputs": [],
   "source": [
    "tips3 = [\n",
    "        ('Car Share Average', \"@car_score_mean\"),\n",
    "        ('Description', \"@car_score_mean_rating\"),\n",
    "\n",
    "        ('Car Share Median', \"@car_score_median\"),\n",
    "        ('Description', \"@car_score_median_rating\"),\n",
    "\n",
    "]\n",
    "\n",
    "wash_car = plot_pipeline(ColumnDataSource(df), (washington_y, washington_x), tips3)\n",
    "wash_car.add_layer('car_score_median_color')"
   ]
  },
  {
   "cell_type": "code",
   "execution_count": 7,
   "metadata": {},
   "outputs": [],
   "source": [
    "tips4 = [\n",
    "        ('Mass Transit Average', \"@mass_score_mean\"),\n",
    "        ('Description', \"@mass_score_mean_rating\"),\n",
    "\n",
    "        ('Mass Transit Median', \"@mass_score_median\"),\n",
    "        ('Description', \"@mass_score_median_rating\"),\n",
    "\n",
    "]\n",
    "\n",
    "wash_mass = plot_pipeline(ColumnDataSource(df), (washington_y, washington_x), tips4)\n",
    "wash_mass.add_layer('mass_score_median_color')"
   ]
  },
  {
   "cell_type": "code",
   "execution_count": 8,
   "metadata": {},
   "outputs": [],
   "source": [
    "tips5 = [\n",
    "        ('Ride Share Average', \"@ride_score_mean\"),\n",
    "        ('Description', \"@ride_score_mean_rating\"),\n",
    "\n",
    "        ('Ride Share Median', \"@ride_score_median\"),\n",
    "        ('Description', \"@ride_score_median_rating\"),\n",
    "\n",
    "]\n",
    "\n",
    "wash_ride = plot_pipeline(ColumnDataSource(df), (washington_y, washington_x), tips5)\n",
    "wash_ride.add_layer('ride_score_median_color')"
   ]
  },
  {
   "cell_type": "code",
   "execution_count": 9,
   "metadata": {},
   "outputs": [],
   "source": [
    "tab1 = Panel(child=wash.return_plot(), title=\"Overall\")\n",
    "tab2 = Panel(child=wash_bike.return_plot(), title=\"Bike Share\")\n",
    "tab3 = Panel(child=wash_car.return_plot(), title=\"Car Share\")\n",
    "tab4 = Panel(child=wash_mass.return_plot(), title=\"Mass Transit\")\n",
    "tab5 = Panel(child=wash_ride.return_plot(), title=\"Ride Share\")\n",
    "\n",
    "\n",
    "tab = Tabs(tabs=[tab1,tab2, tab3, tab4, tab5])\n",
    "\n",
    "show(tab)\n"
   ]
  },
  {
   "cell_type": "code",
   "execution_count": null,
   "metadata": {},
   "outputs": [],
   "source": []
  },
  {
   "cell_type": "code",
   "execution_count": null,
   "metadata": {},
   "outputs": [],
   "source": []
  }
 ],
 "metadata": {
  "kernelspec": {
   "display_name": "Python 3",
   "language": "python",
   "name": "python3"
  },
  "language_info": {
   "codemirror_mode": {
    "name": "ipython",
    "version": 3
   },
   "file_extension": ".py",
   "mimetype": "text/x-python",
   "name": "python",
   "nbconvert_exporter": "python",
   "pygments_lexer": "ipython3",
   "version": "3.6.4"
  }
 },
 "nbformat": 4,
 "nbformat_minor": 2
}
